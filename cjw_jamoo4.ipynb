{
 "cells": [
  {
   "cell_type": "code",
   "execution_count": 6,
   "metadata": {},
   "outputs": [],
   "source": [
    "import OpenDartReader\n",
    "import numpy as np\n",
    "import cjw_maria\n",
    "from pykrx import stock\n",
    "\n",
    "dart = OpenDartReader('488d3a46f4b1d44b4be6197c7184603361289322')\n",
    "\n",
    "host = \"localhost\"\n",
    "user = \"root\"\n",
    "password = \"sa1234\" \n",
    "db = \"jamoo\"\n",
    "\n",
    "maria = cjw_maria.MariaDB(host, user, password, db)\n",
    "\n",
    "class dartCollector:\n",
    "    def __init__(self, nmid, datatype, tablename, fs):\n",
    "        self.code_list = stock_amount_2016 = stock.get_market_cap_by_ticker(\"20161229 \")[['상장주식수']]\n",
    "        self.code_list = list(stock_amount_2016.index)\n",
    "        \n",
    "        self.nmid = nmid\n",
    "        self.datatype = datatype\n",
    "        self.tablename = tablename\n",
    "        self.fs = fs\n",
    "        \n",
    "    def play(self):\n",
    "        if self.fs == 'fs' and self.datatype == 'id':\n",
    "            print('fs일때는 datatype=nm 만 가능합니다')\n",
    "            return\n",
    "        self.done_data = maria.showData('select * from {}'.format(tablename))\n",
    "        self.done_list = list(self.done_data['종목코드'])\n",
    "        \n",
    "        for code in self.code_list:\n",
    "            self.code = code\n",
    "            if code in self.done_list:\n",
    "                continue\n",
    "            else:\n",
    "                try:\n",
    "                    self.fs_list = self.getList(2020) + self.getList(2017)\n",
    "                    self.saveList()\n",
    "                except:\n",
    "                    try:\n",
    "                        self.fs_list =  self.getList(2019) + [-9999999]\n",
    "                        self.saveList()\n",
    "                    except:\n",
    "                        continue\n",
    "                        \n",
    "    def getList(self, bsns_year):\n",
    "        if bsns_year > 2017:\n",
    "            want_list = ['bfefrmtrm_amount', 'frmtrm_amount', 'thstrm_amount']\n",
    "        else:\n",
    "            want_list = ['thstrm_amount']\n",
    "        if self.fs == True:\n",
    "            fs = dart.finstate(corp=self.code, bsns_year=bsns_year, reprt_code='11011')\n",
    "        else:\n",
    "            fs = dart.finstate_all(corp=self.code, bsns_year=bsns_year, reprt_code='11011')\n",
    "        \n",
    "        if self.datatype == 'nm':\n",
    "            fs_list = list(fs[fs['account_nm']==self.nmid][want_list].iloc[0])\n",
    "        elif self.datatype == 'id':\n",
    "            fs_list = list(fs[fs['account_id']==self.nmid][want_list].iloc[0])\n",
    "            \n",
    "        fs_list = np.array(list(map(int, fs_list))) / 100000000\n",
    "        fs_list = list(map(int, fs_list))\n",
    "        return fs_list\n",
    "    \n",
    "    def saveList(self):\n",
    "        self.fs_list = [self.code] + list(map(int, self.fs_list))\n",
    "        maria.insertData(self.tablename, tuple(self.fs_list))\n",
    "        maria.commitDB()\n",
    "        \n"
   ]
  },
  {
   "cell_type": "code",
   "execution_count": 20,
   "metadata": {},
   "outputs": [],
   "source": [
    "# nmid = '무형자산'\n",
    "# datatype = 'nm'\n",
    "# tablename = 'mh'\n",
    "# dartcol = dartCollector(nmid, datatype, tablename)\n",
    "# dartcol.play()"
   ]
  },
  {
   "cell_type": "code",
   "execution_count": 2,
   "metadata": {},
   "outputs": [],
   "source": [
    "# nmid = 'dart_IssuedCapitalOfCommonStock' # 자본금\n",
    "# datatype = 'id'\n",
    "# tablename = 'jb'\n",
    "# dartcol = dartCollector(nmid, datatype, tablename)\n",
    "# dartcol.play()"
   ]
  },
  {
   "cell_type": "code",
   "execution_count": 97,
   "metadata": {},
   "outputs": [],
   "source": [
    "# nmid = '무형자산'\n",
    "# datatype = 'nm'\n",
    "# tablename = 'mh'\n",
    "# dartcol = dartCollector(nmid, datatype, tablename)\n",
    "# dartcol.play()"
   ]
  },
  {
   "cell_type": "code",
   "execution_count": 7,
   "metadata": {},
   "outputs": [],
   "source": [
    "nmid = '자본금'\n",
    "datatype = 'nm'\n",
    "tablename = 'jb'\n",
    "fs = True\n",
    "\n",
    "dartcol = dartCollector(nmid, datatype, tablename, fs)\n",
    "dartcol.play()"
   ]
  },
  {
   "cell_type": "code",
   "execution_count": null,
   "metadata": {},
   "outputs": [],
   "source": []
  }
 ],
 "metadata": {
  "kernelspec": {
   "display_name": "py37",
   "language": "python",
   "name": "py37"
  },
  "language_info": {
   "codemirror_mode": {
    "name": "ipython",
    "version": 3
   },
   "file_extension": ".py",
   "mimetype": "text/x-python",
   "name": "python",
   "nbconvert_exporter": "python",
   "pygments_lexer": "ipython3",
   "version": "3.7.9"
  }
 },
 "nbformat": 4,
 "nbformat_minor": 4
}
