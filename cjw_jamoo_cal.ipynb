{
 "cells": [
  {
   "cell_type": "code",
   "execution_count": 66,
   "metadata": {},
   "outputs": [
    {
     "data": {
      "text/plain": [
       "0       211781.191272\n",
       "1        95955.187618\n",
       "2       202532.220163\n",
       "3       253529.012539\n",
       "4       108680.662705\n",
       "            ...      \n",
       "1061      1323.776325\n",
       "1062      3216.367004\n",
       "1063     14248.682394\n",
       "1064      1528.065457\n",
       "1065      6182.473462\n",
       "Name: 가치분석, Length: 1066, dtype: float64"
      ]
     },
     "execution_count": 66,
     "metadata": {},
     "output_type": "execute_result"
    }
   ],
   "source": [
    "import cjw_maria\n",
    "import numpy as np\n",
    "import pandas as pd\n",
    "from pykrx import stock\n",
    "\n",
    "maria = cjw_maria.MariaDB()\n",
    "\n",
    "data = {}\n",
    "\n",
    "years = ['2017', '2018', '2019', '2020']\n",
    "\n",
    "# (억)단위\n",
    "\n",
    "for y in years:\n",
    "    sql = 'SELECT f.종목코드, FS, 자산, 부채, 자본, 기초현금및현금성자산, 기말현금및현금성자산, \\\n",
    "        유동자산, 유동부채, 매출액, 영업이익, 영업이익발표기준, 당기순이익, 상장주식수, 단기차입금,\\\n",
    "        장기차입금, m{}, jb{}\\\n",
    "        FROM f{} f \\\n",
    "        RIGHT JOIN dg{} d ON f.종목코드 = d.종목코드 \\\n",
    "        LEFT JOIN mh m ON d.종목코드 = m.종목코드 \\\n",
    "        LEFT JOIN jb j ON m.종목코드 = j.종목코드;'.format(y, y, y, y)\n",
    "\n",
    "    data[y] = maria.showData(sql)\n",
    "    data[y]\n",
    "    data[y] = data[y].replace(-9999999, np.NaN)\n",
    "    data[y] = data[y].dropna().reset_index(drop=True)\n",
    "    data[y].columns = list(data[y].columns[:-2]) + ['무형자산', '자본금']\n",
    "    data[y]['상장주식수'] = data[y]['상장주식수'] / 100000000\n",
    "\n",
    "\n",
    "df = pd.merge(data['2017'][['종목코드','당기순이익', '상장주식수']], data['2018'][['종목코드','당기순이익', '상장주식수']], on='종목코드')\n",
    "data['2019'] = pd.merge(data['2019'], df, on='종목코드')\n",
    "\n",
    "data['2019']['EPS2017'] = data['2019']['당기순이익_x'] / data['2019']['상장주식수_x']\n",
    "data['2019']['EPS2018'] = data['2019']['당기순이익_y'] / data['2019']['상장주식수_y']\n",
    "data['2019']['EPS'] = data['2019']['당기순이익'] / data['2019']['상장주식수']\n",
    "\n",
    "df1 = stock.get_market_ohlcv_by_ticker(\"20191227\")['종가']\n",
    "df2 = stock.get_market_ohlcv_by_ticker(\"20191227\", market='KOSDAQ')['종가']\n",
    "df3 = stock.get_market_ohlcv_by_ticker(\"20191227\", market='KONEX')['종가']\n",
    "df = pd.concat([df1, df2, df3])\n",
    "df = df.reset_index(drop=False).rename(columns={'티커': '종목코드', '종가': '주식가격'})\n",
    "data['2019'] = pd.merge(data['2019'], df, on='종목코드')\n",
    "\n",
    "\n",
    "data['2019']['순자산가치'] = (data['2019']['자본'] - data['2019']['무형자산']) / data['2019']['상장주식수']\n",
    "data['2019']['순손익가치'] = ((data['2019']['EPS2017'] + data['2019']['EPS2018']*2 + data['2019']['EPS']*3)/6)*10\n",
    "data['2019']['본질가치'] = (data['2019']['순자산가치'] + (data['2019']['순손익가치']*1.5))/2.5\n",
    "data['2019']['보충적가치'] = (data['2019']['순손익가치']*2 + data['2019']['순자산가치']*3) / 5\n",
    "\n",
    "data['2019']['기업가치'] = (data['2019']['상장주식수']*data['2019']['주식가격']+data['2019']['단기차입금']+data['2019']['장기차입금']-data['2019']['기말현금및현금성자산'])/data['2019']['상장주식수']\n",
    "\n",
    "data['2019']['가치분석'] = (data['2019']['본질가치'] + data['2019']['기업가치']) / 2\n",
    "\n",
    "\n",
    "\n",
    "cols = list(data['2019'].columns)\n",
    "\n",
    "cols.remove('기초현금및현금성자산')\n",
    "cols.remove('영업이익')\n",
    "\n",
    "for i in range(data['2019'].shape[0]):\n",
    "    try:\n",
    "        maria.insertData('dart2019', tuple(list(data['2019'][cols].iloc[i])))\n",
    "        maria.commitDB()\n",
    "    except:\n",
    "        continue\n"
   ]
  },
  {
   "cell_type": "code",
   "execution_count": null,
   "metadata": {},
   "outputs": [],
   "source": []
  }
 ],
 "metadata": {
  "kernelspec": {
   "display_name": "py37",
   "language": "python",
   "name": "py37"
  },
  "language_info": {
   "codemirror_mode": {
    "name": "ipython",
    "version": 3
   },
   "file_extension": ".py",
   "mimetype": "text/x-python",
   "name": "python",
   "nbconvert_exporter": "python",
   "pygments_lexer": "ipython3",
   "version": "3.7.9"
  }
 },
 "nbformat": 4,
 "nbformat_minor": 4
}
