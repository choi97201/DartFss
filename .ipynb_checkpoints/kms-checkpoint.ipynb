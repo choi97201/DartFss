{
 "cells": [
  {
   "cell_type": "code",
   "execution_count": 9,
   "metadata": {},
   "outputs": [
    {
     "name": "stdout",
     "output_type": "stream",
     "text": [
      "                            Name  Last Price\n",
      "0                        S&P 500     3925.43\n",
      "1   Dow Jones Industrial Average    31961.86\n",
      "2               NASDAQ Composite    13597.97\n",
      "3            NYSE COMPOSITE (DJ)    15539.42\n",
      "4      NYSE AMEX COMPOSITE INDEX     2724.41\n",
      "5                    Cboe UK 100      664.53\n",
      "6                   Russell 2000     2284.38\n",
      "7                            Vix       22.15\n",
      "8                       FTSE 100     6673.68\n",
      "9          DAX PERFORMANCE-INDEX    13958.37\n",
      "10                        CAC 40     5818.04\n",
      "11                ESTX 50 PR.EUR     3710.61\n",
      "12                  EURONEXT 100     1149.18\n",
      "13                        BEL 20     3876.74\n",
      "14             MOEX Russia Index     3412.18\n",
      "15                    Nikkei 225    30168.27\n",
      "16               HANG SENG INDEX    30074.17\n",
      "17           SSE Composite Index     3585.05\n",
      "18            Shenzhen Component    14828.80\n",
      "19                     STI Index     2972.02\n",
      "20                   S&P/ASX 200     6834.00\n",
      "21                ALL ORDINARIES     7105.70\n",
      "22                S&P BSE SENSEX    51190.93\n",
      "23       Jakarta Composite Index     6289.65\n",
      "24      FTSE Bursa Malaysia KLCI     1581.54\n",
      "25        S&P/NZX 50 INDEX GROSS    12140.66\n",
      "26         KOSPI Composite Index     3099.69\n",
      "27           TSEC weighted index    16452.18\n",
      "28       S&P/TSX Composite index    18484.53\n",
      "29                      IBOVESPA   115667.78\n",
      "30                    IPC MEXICO    45151.38\n",
      "31                  S&P/CLX IPSA     5058.88\n",
      "32                        MERVAL    38390.84\n",
      "33                        TA-125     1617.20\n",
      "34     EGX 30 Price Return Index    11564.80\n",
      "35      Top 40 USD Net TRI Index     4529.05\n"
     ]
    },
    {
     "data": {
      "text/plain": [
       "[['코스피', 3099.69],\n",
       " ['다우산업', 31961.86],\n",
       " ['나스닥 종합', 13597.97],\n",
       " ['S&P500', 3925.43],\n",
       " ['항셍지수', 30074.17]]"
      ]
     },
     "execution_count": 9,
     "metadata": {},
     "output_type": "execute_result"
    }
   ],
   "source": [
    "import numpy as np \n",
    "import pandas as pd \n",
    "import yfinance as yf\n",
    "\n",
    "# Retrieving List of World Major Stock Indices from Yahoo! Finance\n",
    "df_list = pd.read_html('https://finance.yahoo.com/world-indices/')\n",
    "\n",
    "#print(df_list)\n",
    "MarkerList = []\n",
    "majorStockIdx = df_list[0][['Name', 'Last Price']]\n",
    "\n",
    "print(majorStockIdx)\n",
    "\n",
    "# KOSPI Composite Index (코스피)\n",
    "# Dow Jones Industrial Average (다우산업)\n",
    "# NASDAQ Composite (나스닥 종합)\n",
    "# S&P 500 (S&P500)\n",
    "# HANG SENG INDEX (항셍지수)\n",
    "# KOSDAQ (코스닥)\n",
    "\n",
    "#A = majorStockIdx[majorStockIdx['Name']=='KOSPI Composite Index']['Last Price']\n",
    "\n",
    "#print(\"test: \", A)\n",
    "\n",
    "MarkerList.append(['코스피', majorStockIdx[majorStockIdx['Name']=='KOSPI Composite Index']['Last Price'].iloc[0]])\n",
    "MarkerList.append(['다우산업', majorStockIdx[majorStockIdx['Name']=='Dow Jones Industrial Average']['Last Price'].iloc[0]])\n",
    "MarkerList.append(['나스닥 종합', majorStockIdx[majorStockIdx['Name']=='NASDAQ Composite']['Last Price'].iloc[0]])\n",
    "MarkerList.append(['S&P500', majorStockIdx[majorStockIdx['Name']=='S&P 500']['Last Price'].iloc[0]])\n",
    "MarkerList.append(['항셍지수', majorStockIdx[majorStockIdx['Name']=='HANG SENG INDEX']['Last Price'].iloc[0]])\n",
    "\n",
    "MarkerList\n",
    "\n",
    "#df_list = pd.read_html('https://finance.yahoo.com/quote/%5EKQ11?p=^KQ11&.tsrc=fin-srch')\n",
    "\n",
    "\n"
   ]
  },
  {
   "cell_type": "code",
   "execution_count": 2,
   "metadata": {},
   "outputs": [
    {
     "data": {
      "text/plain": [
       "list"
      ]
     },
     "execution_count": 2,
     "metadata": {},
     "output_type": "execute_result"
    }
   ],
   "source": [
    "type(MarkerList)"
   ]
  },
  {
   "cell_type": "code",
   "execution_count": 3,
   "metadata": {},
   "outputs": [
    {
     "data": {
      "text/html": [
       "<div>\n",
       "<style scoped>\n",
       "    .dataframe tbody tr th:only-of-type {\n",
       "        vertical-align: middle;\n",
       "    }\n",
       "\n",
       "    .dataframe tbody tr th {\n",
       "        vertical-align: top;\n",
       "    }\n",
       "\n",
       "    .dataframe thead th {\n",
       "        text-align: right;\n",
       "    }\n",
       "</style>\n",
       "<table border=\"1\" class=\"dataframe\">\n",
       "  <thead>\n",
       "    <tr style=\"text-align: right;\">\n",
       "      <th></th>\n",
       "      <th>0</th>\n",
       "      <th>1</th>\n",
       "    </tr>\n",
       "  </thead>\n",
       "  <tbody>\n",
       "    <tr>\n",
       "      <th>0</th>\n",
       "      <td>코스피</td>\n",
       "      <td>26    3099.69\n",
       "Name: Last Price, dtype: float64</td>\n",
       "    </tr>\n",
       "    <tr>\n",
       "      <th>1</th>\n",
       "      <td>다우산업</td>\n",
       "      <td>1    31961.86\n",
       "Name: Last Price, dtype: float64</td>\n",
       "    </tr>\n",
       "    <tr>\n",
       "      <th>2</th>\n",
       "      <td>나스닥 종합</td>\n",
       "      <td>2    13597.97\n",
       "Name: Last Price, dtype: float64</td>\n",
       "    </tr>\n",
       "    <tr>\n",
       "      <th>3</th>\n",
       "      <td>S&amp;P500</td>\n",
       "      <td>0    3925.43\n",
       "Name: Last Price, dtype: float64</td>\n",
       "    </tr>\n",
       "    <tr>\n",
       "      <th>4</th>\n",
       "      <td>항셍지수</td>\n",
       "      <td>16    30074.17\n",
       "Name: Last Price, dtype: float64</td>\n",
       "    </tr>\n",
       "    <tr>\n",
       "      <th>5</th>\n",
       "      <td>코스닥</td>\n",
       "      <td>Series([], Name: Last Price, dtype: float64)</td>\n",
       "    </tr>\n",
       "  </tbody>\n",
       "</table>\n",
       "</div>"
      ],
      "text/plain": [
       "        0                                                1\n",
       "0     코스피   26    3099.69\n",
       "Name: Last Price, dtype: float64\n",
       "1    다우산업   1    31961.86\n",
       "Name: Last Price, dtype: float64\n",
       "2  나스닥 종합   2    13597.97\n",
       "Name: Last Price, dtype: float64\n",
       "3  S&P500    0    3925.43\n",
       "Name: Last Price, dtype: float64\n",
       "4    항셍지수  16    30074.17\n",
       "Name: Last Price, dtype: float64\n",
       "5     코스닥     Series([], Name: Last Price, dtype: float64)"
      ]
     },
     "execution_count": 3,
     "metadata": {},
     "output_type": "execute_result"
    }
   ],
   "source": [
    "MarkerList = pd.DataFrame(MarkerList)\n",
    "MarkerList"
   ]
  },
  {
   "cell_type": "code",
   "execution_count": 6,
   "metadata": {},
   "outputs": [
    {
     "data": {
      "text/plain": [
       "3099.69"
      ]
     },
     "execution_count": 6,
     "metadata": {},
     "output_type": "execute_result"
    }
   ],
   "source": [
    "majorStockIdx[majorStockIdx['Name']=='KOSPI Composite Index']['Last Price'].iloc[0]"
   ]
  },
  {
   "cell_type": "code",
   "execution_count": null,
   "metadata": {},
   "outputs": [],
   "source": [
    "df = pd.read_html('https://finance.yahoo.com/quote/%5EKQ11?p=^KQ11&.tsrc=fin-srch')"
   ]
  }
 ],
 "metadata": {
  "kernelspec": {
   "display_name": "py37",
   "language": "python",
   "name": "py37"
  },
  "language_info": {
   "codemirror_mode": {
    "name": "ipython",
    "version": 3
   },
   "file_extension": ".py",
   "mimetype": "text/x-python",
   "name": "python",
   "nbconvert_exporter": "python",
   "pygments_lexer": "ipython3",
   "version": "3.7.9"
  }
 },
 "nbformat": 4,
 "nbformat_minor": 4
}
