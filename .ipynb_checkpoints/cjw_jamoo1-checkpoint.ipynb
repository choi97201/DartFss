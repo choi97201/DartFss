{
 "cells": [
  {
   "cell_type": "code",
   "execution_count": 2,
   "metadata": {
    "scrolled": true
   },
   "outputs": [],
   "source": [
    "import os\n",
    "import csv\n",
    "import math\n",
    "from urllib.request import urlopen, Request\n",
    "\n",
    "import OpenDartReader\n",
    "from bs4 import BeautifulSoup as bs\n",
    "import pandas as pd\n",
    "import numpy as np\n",
    "from pykrx import stock\n",
    "import time\n",
    "\n",
    "import cjw_maria\n",
    "from cjw_main import *\n",
    "import numpy as np\n"
   ]
  },
  {
   "cell_type": "code",
   "execution_count": 28,
   "metadata": {
    "scrolled": true
   },
   "outputs": [],
   "source": [
    "cols = ['날짜', '자산', '부채', '자본', '기초현금및현금성자산', '기말현금및현금성자산', \n",
    "       '유동자산계산에 참여한 계정 펼치기', '유동부채계산에 참여한 계정 펼치기', \n",
    "        '매출액', '영업이익', '영업이익(발표기준)', '당기순이익']\n",
    "changed_cols = [c.replace('계산에 참여한 계정 펼치기', '') for c in cols]\n",
    "changed_cols = [c.replace('(', '') for c in changed_cols]\n",
    "changed_cols = [c.replace(')', '') for c in changed_cols]\n",
    "\n",
    "def getFN(code):\n",
    "    try:\n",
    "        df = pd.read_html(get_html_fnguide(code, 0))\n",
    "        df = pd.concat([df[0][df[0].columns[:5]], df[2], df[4]])\n",
    "        df = df.transpose().reset_index(drop=False)\n",
    "        df.columns = df.iloc[0]\n",
    "        df = df.drop(0).reset_index(drop=True)\n",
    "        fs = df.columns[0] # 연결 or 개별?\n",
    "        df = df.rename(columns={df.columns[0]: \"날짜\"})\n",
    "        df = df[cols]\n",
    "        df['FS'] = [fs] * df.shape[0]\n",
    "        df.columns = changed_cols + ['FS']\n",
    "        return df\n",
    "    except:\n",
    "        writeError('error3', code, 'A')\n",
    "        return\n",
    "\n",
    "maria = cjw_maria.MariaDB()"
   ]
  },
  {
   "cell_type": "code",
   "execution_count": 62,
   "metadata": {},
   "outputs": [
    {
     "name": "stdout",
     "output_type": "stream",
     "text": [
      "batch: 2230\n",
      "008355\n",
      "032685\n",
      "013367\n",
      "000547\n",
      "003419\n",
      "002787\n",
      "004989\n",
      "144740\n",
      "001529\n",
      "000227\n"
     ]
    }
   ],
   "source": [
    "stock_amount_2016 = stock.get_market_cap_by_ticker(\"20161229 \")[['상장주식수']]\n",
    "code_list = list(stock_amount_2016.index)\n",
    "\n",
    "for batch in range(0, 2240, 10):\n",
    "    df_2017 = []\n",
    "    df_2018 = []\n",
    "    df_2019 = []\n",
    "    df_2020 = []\n",
    "    print('batch: {}'.format(batch))\n",
    "    for code in code_list[batch:batch+10]:\n",
    "        print(code)\n",
    "        try:\n",
    "            df = getFN(code)\n",
    "            df_2017.append([code] + list(df.iloc[0]))\n",
    "            df_2018.append([code] + list(df.iloc[1]))\n",
    "            df_2019.append([code] + list(df.iloc[2]))\n",
    "            df_2020.append([code] + list(df.iloc[3]))\n",
    "        except:\n",
    "            writeError('error3', code, 'B')\n",
    "            continue\n",
    "\n",
    "    df_2017 = pd.DataFrame(df_2017)\n",
    "    df_2018 = pd.DataFrame(df_2018)\n",
    "    df_2019 = pd.DataFrame(df_2019)\n",
    "    df_2020 = pd.DataFrame(df_2020)\n",
    "\n",
    "    df_2017.columns = ['티커'] + changed_cols + ['FS']\n",
    "    df_2018.columns = ['티커'] + changed_cols + ['FS']\n",
    "    df_2019.columns = ['티커'] + changed_cols + ['FS']\n",
    "    df_2020.columns = ['티커'] + changed_cols + ['FS']\n",
    "\n",
    "    df_2017 = df_2017.set_index('티커')[changed_cols[1:] + ['FS']]\n",
    "    df_2018 = df_2018.set_index('티커')[changed_cols[1:] + ['FS']]\n",
    "    df_2019 = df_2019.set_index('티커')[changed_cols[1:] + ['FS']]\n",
    "    df_2020 = df_2020.set_index('티커')[changed_cols[1:] + ['FS']]\n",
    "\n",
    "    stock_amount_2017 = stock.get_market_cap_by_ticker(\"20171228 \")[['상장주식수']]\n",
    "    stock_amount_2018 = stock.get_market_cap_by_ticker(\"20181228 \")[['상장주식수']]\n",
    "    stock_amount_2019 = stock.get_market_cap_by_ticker(\"20191230 \")[['상장주식수']]\n",
    "    stock_amount_2020 = stock.get_market_cap_by_ticker(\"20201230 \")[['상장주식수']]\n",
    "\n",
    "    df_2017 = pd.merge(df_2017, stock_amount_2017, left_index=True, right_index=True)\n",
    "    df_2018 = pd.merge(df_2018, stock_amount_2018, left_index=True, right_index=True)\n",
    "    df_2019 = pd.merge(df_2019, stock_amount_2019, left_index=True, right_index=True)\n",
    "    df_2020 = pd.merge(df_2020, stock_amount_2020, left_index=True, right_index=True)\n",
    "    \n",
    "    df_2017 = df_2017[changed_cols[1:] + ['상장주식수', 'FS']].fillna(-9999999)\n",
    "    df_2018 = df_2018[changed_cols[1:] + ['상장주식수', 'FS']].fillna(-9999999)\n",
    "    df_2019 = df_2019[changed_cols[1:] + ['상장주식수', 'FS']].fillna(-9999999)\n",
    "    df_2020 = df_2020[changed_cols[1:] + ['상장주식수', 'FS']].fillna(-9999999)\n",
    "    \n",
    "    print('start save!')\n",
    "    for i in range(df_2017.shape[0]):\n",
    "        maria.insertData('f2017', tuple([df_2017.index[i]]+list(map(int, list(df_2017.iloc[i][df_2017.columns[:-1]])))+[df_2017['FS'].iloc[i][-3:-1]]))\n",
    "        maria.commitDB()\n",
    "    print('finish f2017!')\n",
    "    for i in range(df_2018.shape[0]):\n",
    "        maria.insertData('f2018', tuple([df_2018.index[i]]+list(map(int, list(df_2018.iloc[i][df_2018.columns[:-1]])))+[df_2018['FS'].iloc[i][-3:-1]]))\n",
    "        maria.commitDB()\n",
    "    print('finish f2018!')\n",
    "    for i in range(df_2019.shape[0]):\n",
    "        maria.insertData('f2019', tuple([df_2019.index[i]]+list(map(int, list(df_2019.iloc[i][df_2019.columns[:-1]])))+[df_2019['FS'].iloc[i][-3:-1]]))\n",
    "        maria.commitDB()\n",
    "    print('finish f2019!')\n",
    "    for i in range(df_2020.shape[0]):\n",
    "        maria.insertData('f2020', tuple([df_2020.index[i]]+list(map(int, list(df_2020.iloc[i][df_2020.columns[:-1]])))+[df_2020['FS'].iloc[i][-3:-1]]))\n",
    "        maria.commitDB()\n",
    "    print('finish f2020!')"
   ]
  },
  {
   "cell_type": "code",
   "execution_count": 63,
   "metadata": {},
   "outputs": [
    {
     "data": {
      "text/html": [
       "<div>\n",
       "<style scoped>\n",
       "    .dataframe tbody tr th:only-of-type {\n",
       "        vertical-align: middle;\n",
       "    }\n",
       "\n",
       "    .dataframe tbody tr th {\n",
       "        vertical-align: top;\n",
       "    }\n",
       "\n",
       "    .dataframe thead th {\n",
       "        text-align: right;\n",
       "    }\n",
       "</style>\n",
       "<table border=\"1\" class=\"dataframe\">\n",
       "  <thead>\n",
       "    <tr style=\"text-align: right;\">\n",
       "      <th></th>\n",
       "    </tr>\n",
       "  </thead>\n",
       "  <tbody>\n",
       "  </tbody>\n",
       "</table>\n",
       "</div>"
      ],
      "text/plain": [
       "Empty DataFrame\n",
       "Columns: []\n",
       "Index: []"
      ]
     },
     "execution_count": 63,
     "metadata": {},
     "output_type": "execute_result"
    }
   ],
   "source": [
    "df_2017"
   ]
  },
  {
   "cell_type": "code",
   "execution_count": 64,
   "metadata": {},
   "outputs": [
    {
     "data": {
      "text/plain": [
       "2249"
      ]
     },
     "execution_count": 64,
     "metadata": {},
     "output_type": "execute_result"
    }
   ],
   "source": [
    "len(code_list)"
   ]
  },
  {
   "cell_type": "code",
   "execution_count": null,
   "metadata": {},
   "outputs": [],
   "source": [
    "for code in code_list[2240:]:\n",
    "        print(code)\n",
    "        try:\n",
    "            df = getFN(code)\n",
    "            df_2017.append([code] + list(df.iloc[0]))\n",
    "            df_2018.append([code] + list(df.iloc[1]))\n",
    "            df_2019.append([code] + list(df.iloc[2]))\n",
    "            df_2020.append([code] + list(df.iloc[3]))\n",
    "        except:\n",
    "            writeError('error2', code, 'B')\n",
    "            continue\n",
    "\n",
    "    df_2017 = pd.DataFrame(df_2017)\n",
    "    df_2018 = pd.DataFrame(df_2018)\n",
    "    df_2019 = pd.DataFrame(df_2019)\n",
    "    df_2020 = pd.DataFrame(df_2020)\n",
    "\n",
    "    df_2017.columns = ['티커'] + changed_cols + ['FS']\n",
    "    df_2018.columns = ['티커'] + changed_cols + ['FS']\n",
    "    df_2019.columns = ['티커'] + changed_cols + ['FS']\n",
    "    df_2020.columns = ['티커'] + changed_cols + ['FS']\n",
    "\n",
    "    df_2017 = df_2017.set_index('티커')[changed_cols[1:] + ['FS']]\n",
    "    df_2018 = df_2018.set_index('티커')[changed_cols[1:] + ['FS']]\n",
    "    df_2019 = df_2019.set_index('티커')[changed_cols[1:] + ['FS']]\n",
    "    df_2020 = df_2020.set_index('티커')[changed_cols[1:] + ['FS']]\n",
    "\n",
    "    stock_amount_2017 = stock.get_market_cap_by_ticker(\"20171228 \")[['상장주식수']]\n",
    "    stock_amount_2018 = stock.get_market_cap_by_ticker(\"20181228 \")[['상장주식수']]\n",
    "    stock_amount_2019 = stock.get_market_cap_by_ticker(\"20191230 \")[['상장주식수']]\n",
    "    stock_amount_2020 = stock.get_market_cap_by_ticker(\"20201230 \")[['상장주식수']]\n",
    "\n",
    "    df_2017 = pd.merge(df_2017, stock_amount_2017, left_index=True, right_index=True)\n",
    "    df_2018 = pd.merge(df_2018, stock_amount_2018, left_index=True, right_index=True)\n",
    "    df_2019 = pd.merge(df_2019, stock_amount_2019, left_index=True, right_index=True)\n",
    "    df_2020 = pd.merge(df_2020, stock_amount_2020, left_index=True, right_index=True)\n",
    "    \n",
    "    df_2017 = df_2017[changed_cols[1:] + ['상장주식수', 'FS']].fillna(-9999999)\n",
    "    df_2018 = df_2018[changed_cols[1:] + ['상장주식수', 'FS']].fillna(-9999999)\n",
    "    df_2019 = df_2019[changed_cols[1:] + ['상장주식수', 'FS']].fillna(-9999999)\n",
    "    df_2020 = df_2020[changed_cols[1:] + ['상장주식수', 'FS']].fillna(-9999999)\n",
    "    \n",
    "    print('start save!')\n",
    "    for i in range(df_2017.shape[0]):\n",
    "        maria.insertData('data2017', tuple([df_2017.index[i]]+list(map(int, list(df_2017.iloc[i][df_2017.columns[:-1]])))+[df_2017['FS'].iloc[i][-3:-1]]))\n",
    "        maria.commitDB()\n",
    "    print('finish data2017!')\n",
    "    for i in range(df_2018.shape[0]):\n",
    "        maria.insertData('data2018', tuple([df_2018.index[i]]+list(map(int, list(df_2018.iloc[i][df_2018.columns[:-1]])))+[df_2018['FS'].iloc[i][-3:-1]]))\n",
    "        maria.commitDB()\n",
    "    print('finish data2018!')\n",
    "    for i in range(df_2019.shape[0]):\n",
    "        maria.insertData('data2019', tuple([df_2019.index[i]]+list(map(int, list(df_2019.iloc[i][df_2019.columns[:-1]])))+[df_2019['FS'].iloc[i][-3:-1]]))\n",
    "        maria.commitDB()\n",
    "    print('finish data2019!')\n",
    "    for i in range(df_2020.shape[0]):\n",
    "        maria.insertData('data2020', tuple([df_2020.index[i]]+list(map(int, list(df_2020.iloc[i][df_2020.columns[:-1]])))+[df_2020['FS'].iloc[i][-3:-1]]))\n",
    "        maria.commitDB()\n",
    "    print('finish data2020!')"
   ]
  }
 ],
 "metadata": {
  "kernelspec": {
   "display_name": "Python 3",
   "language": "python",
   "name": "python3"
  },
  "language_info": {
   "codemirror_mode": {
    "name": "ipython",
    "version": 3
   },
   "file_extension": ".py",
   "mimetype": "text/x-python",
   "name": "python",
   "nbconvert_exporter": "python",
   "pygments_lexer": "ipython3",
   "version": "3.8.5"
  }
 },
 "nbformat": 4,
 "nbformat_minor": 4
}
