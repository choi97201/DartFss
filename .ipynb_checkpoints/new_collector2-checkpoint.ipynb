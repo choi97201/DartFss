{
 "cells": [
  {
   "cell_type": "code",
   "execution_count": 1,
   "metadata": {},
   "outputs": [],
   "source": [
    "import collector"
   ]
  },
  {
   "cell_type": "code",
   "execution_count": 2,
   "metadata": {},
   "outputs": [],
   "source": [
    "main = collector.Collector('signet')"
   ]
  },
  {
   "cell_type": "code",
   "execution_count": 3,
   "metadata": {},
   "outputs": [],
   "source": [
    "main._setDart('0e6e1eeb01f20f0ec7e5134b030e704764dd930e')\n",
    "main._setMaria()"
   ]
  },
  {
   "cell_type": "code",
   "execution_count": 4,
   "metadata": {},
   "outputs": [],
   "source": [
    "def checkFS(code, df):\n",
    "    res = df[df['종목코드'] == code]['FS'].iloc[0]\n",
    "    return res\n",
    "\n",
    "def saveData(tablename, data):\n",
    "    if data is None:\n",
    "        return\n",
    "    main.maria.insertData(tablename, data)\n",
    "    main.maria.commitDB()\n",
    "    \n",
    "def getFloatData(data):\n",
    "    return [float(d.replace(',',''))/100000000 for d in data]\n",
    "\n",
    "def getDGData(code, df):\n",
    "    fs = main.getDartFs(code, True, 2019, '11014')\n",
    "    if fs is None:\n",
    "        print('{}는 api에 데이터가 없습니다'.format(code))\n",
    "        main.writeError('error_dart', code, 'api에 데이터가 없음')\n",
    "        return fs\n",
    "    check_fs = checkFS(code, df)\n",
    "    if check_fs == '연결':\n",
    "        df = fs[fs['fs_div'] == 'CFS']\n",
    "    else:\n",
    "        df = fs[fs['fs_div'] == 'OFS']\n",
    "    try:\n",
    "        dg_data = getFloatData(list(df[df['account_nm'] == '당기순이익'][['frmtrm_amount', 'thstrm_amount']].iloc[0]))\n",
    "    except:\n",
    "        try:\n",
    "            if check_fs == '연결':\n",
    "                df = fs[fs['fs_div'] == 'OFS']\n",
    "                print('{}를 개별에서 가져왔습니다'.format(code))\n",
    "                main.writeError('error_dart', code, '연결 당기 데이터에 없어서 개별 데이터에서 가져옴')\n",
    "                dg_data = getFloatData(list(df[df['account_nm'] == '당기순이익'][['frmtrm_amount', 'thstrm_amount', 'thstrm_amount']].iloc[0]))\n",
    "            else:\n",
    "                df = fs[fs['fs_div'] == 'CFS']\n",
    "                print('{}를 연결에서 가져왔습니다'.format(code))\n",
    "                main.writeError('error_dart', code, '개별 당기 데이터에 없어서 연결 데이터에서 가져옴')\n",
    "                dg_data = getFloatData(list(df[df['account_nm'] == '당기순이익'][['frmtrm_amount', 'thstrm_amount', 'thstrm_amount']].iloc[0]))\n",
    "        except:\n",
    "            print('{}의 finstate에는 [당기순이익]이 없습니다'.format(code))\n",
    "            main.writeError('error_dart', code, '[당기순이익]데이터가 없음')\n",
    "            return None\n",
    "    return dg_data"
   ]
  },
  {
   "cell_type": "code",
   "execution_count": 5,
   "metadata": {},
   "outputs": [],
   "source": [
    "data = {}\n",
    "years = ['2017', '2018', '2019', '2020']\n",
    "for y in years:\n",
    "    data['fnguide{}'.format(y)] = main.maria.showData('select * from fnguide{}'.format(y))\n",
    "code_list = list(data['fnguide2017']['종목코드'])"
   ]
  },
  {
   "cell_type": "markdown",
   "metadata": {},
   "source": [
    "# 당기순이익 3Q"
   ]
  },
  {
   "cell_type": "code",
   "execution_count": 6,
   "metadata": {},
   "outputs": [],
   "source": [
    "done_list = main.getDoneList('new_dart_dg')\n",
    "std_df = data['fnguide2017']\n",
    "for code in code_list[10:]:\n",
    "    if code in done_list:\n",
    "        continue\n",
    "    print(code)\n",
    "    dg_data = getDGData(code, std_df)\n",
    "    if dg_data is None:\n",
    "        continue\n",
    "    saveData(tablename='new_dart_dg', data=tuple([code]+dg_data))"
   ]
  },
  {
   "cell_type": "markdown",
   "metadata": {},
   "source": [
    "# Signet"
   ]
  },
  {
   "cell_type": "code",
   "execution_count": 7,
   "metadata": {},
   "outputs": [],
   "source": [
    "# import time\n",
    "# from bs4 import BeautifulSoup\n",
    "# import FinanceDataReader as fdr\n",
    "# import pandas as pd\n",
    "\n",
    "# code = '000660'\n",
    "# std_df = data['fnguide2017']\n",
    "\n",
    "# main._setChrome()\n",
    "# main.signetCollect()"
   ]
  }
 ],
 "metadata": {
  "kernelspec": {
   "display_name": "py37",
   "language": "python",
   "name": "py37"
  },
  "language_info": {
   "codemirror_mode": {
    "name": "ipython",
    "version": 3
   },
   "file_extension": ".py",
   "mimetype": "text/x-python",
   "name": "python",
   "nbconvert_exporter": "python",
   "pygments_lexer": "ipython3",
   "version": "3.7.9"
  }
 },
 "nbformat": 4,
 "nbformat_minor": 4
}
