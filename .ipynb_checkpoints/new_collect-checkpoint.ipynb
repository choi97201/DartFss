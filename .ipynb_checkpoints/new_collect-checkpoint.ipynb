{
 "cells": [
  {
   "cell_type": "code",
   "execution_count": 2,
   "metadata": {},
   "outputs": [],
   "source": [
    "import collector"
   ]
  },
  {
   "cell_type": "code",
   "execution_count": 3,
   "metadata": {},
   "outputs": [],
   "source": [
    "main = collector.Collector('dart')\n",
    "main._setMaria()\n",
    "main._setDart()\n",
    "data = {}\n",
    "years = ['2017', '2018', '2019', '2020']\n",
    "for y in years:\n",
    "    data['fnguide{}'.format(y)] = main.maria.showData('select * from fnguide{}'.format(y))\n",
    "code_list = list(data['fnguide2017']['종목코드'])"
   ]
  },
  {
   "cell_type": "code",
   "execution_count": 4,
   "metadata": {
    "scrolled": true
   },
   "outputs": [],
   "source": [
    "def checkFS(code, df):\n",
    "    res = df[df['종목코드'] == code]['FS'].iloc[0]\n",
    "    return res"
   ]
  },
  {
   "cell_type": "code",
   "execution_count": 5,
   "metadata": {},
   "outputs": [],
   "source": [
    "def saveData(tablename, data):\n",
    "    if data is None:\n",
    "        return\n",
    "    main.maria.insertData(tablename, data)\n",
    "    main.maria.commitDB()"
   ]
  },
  {
   "cell_type": "code",
   "execution_count": 6,
   "metadata": {},
   "outputs": [],
   "source": [
    "def getFloatData(data):\n",
    "    return [float(d.replace(',',''))/100000000 for d in data]"
   ]
  },
  {
   "cell_type": "markdown",
   "metadata": {},
   "source": [
    "# Dart - 자본"
   ]
  },
  {
   "cell_type": "code",
   "execution_count": 6,
   "metadata": {},
   "outputs": [],
   "source": [
    "# def getJBData(code, df):\n",
    "#     fs = main.getDartFs(code, True, 2019, '11011')\n",
    "#     if fs is None:\n",
    "#         print('{}는 api에 데이터가 없습니다'.format(code))\n",
    "#         main.writeError('error_dart', code, 'api에 데이터가 없음')\n",
    "#         return fs\n",
    "#     check_fs = checkFS(code, df)\n",
    "#     if check_fs == '연결':\n",
    "#         df = fs[fs['fs_div'] == 'CFS']\n",
    "#     else:\n",
    "#         df = fs[fs['fs_div'] == 'OFS']\n",
    "#     try:\n",
    "#         jb_data = getFloatData(list(df[df['account_nm'] == '자본금'][['bfefrmtrm_amount', 'frmtrm_amount', 'thstrm_amount']].iloc[0]))\n",
    "#     except:\n",
    "#         try:\n",
    "#             if check_fs == '연결':\n",
    "#                 df = fs[fs['fs_div'] == 'OFS']\n",
    "#                 print('{}를 개별에서 가져왔습니다'.format(code))\n",
    "#                 main.writeError('error_dart', code, '연결 데이터에 없어서 개별 데이터에서 가져옴')\n",
    "#                 jb_data = getFloatData(list(df[df['account_nm'] == '자본금'][['bfefrmtrm_amount', 'frmtrm_amount', 'thstrm_amount']].iloc[0]))\n",
    "#             else:\n",
    "#                 df = fs[fs['fs_div'] == 'CFS']\n",
    "#                 print('{}를 연결에서 가져왔습니다'.format(code))\n",
    "#                 main.writeError('error_dart', code, '개별 데이터에 없어서 연결 데이터에서 가져옴')\n",
    "#                 jb_data = getFloatData(list(df[df['account_nm'] == '자본금'][['bfefrmtrm_amount', 'frmtrm_amount', 'thstrm_amount']].iloc[0]))\n",
    "#         except:\n",
    "#             print('{}의 finstate에는 [자본금]이 없습니다'.format(code))\n",
    "#             main.writeError('error_dart', code, '[자본금]데이터가 없음')\n",
    "#             return None\n",
    "#     return data"
   ]
  },
  {
   "cell_type": "code",
   "execution_count": 7,
   "metadata": {
    "scrolled": true
   },
   "outputs": [],
   "source": [
    "# done_list = main.getDoneList('new_dart_jb')\n",
    "# std_df = data['fnguide2017']\n",
    "# for code in code_list:\n",
    "#     if code in done_list:\n",
    "#         continue\n",
    "#     print(code)\n",
    "#     jb_data = getJBData(code, std_df)\n",
    "#     if jb_data is None:\n",
    "#         continue\n",
    "#     saveData(tablename='new_dart_jb', data=tuple([code]+jb_data))"
   ]
  },
  {
   "cell_type": "markdown",
   "metadata": {},
   "source": [
    "# Dart - 무형자산"
   ]
  },
  {
   "cell_type": "code",
   "execution_count": 87,
   "metadata": {},
   "outputs": [],
   "source": [
    "def getMHData(code, df, crp_list):\n",
    "    check_fs = checkFS(code, df)\n",
    "    if check_fs == '연결':\n",
    "        fs = main.getDartFs(code, False, 2019, '11011')\n",
    "    else:\n",
    "        try:\n",
    "            crp_no = crp_list.find_by_stock_code(code)\n",
    "            fs_se = crp_no.extract_fs(bgn_de='20170930', end_de='20201231', separate=True)\n",
    "            cols = fs_se[0].columns\n",
    "            selected_cols = [c[0] if len(c[0])==8 else c[1] for c in cols]\n",
    "            fs = fs_se[0]\n",
    "            fs.columns = selected_cols\n",
    "        except:\n",
    "            return\n",
    "    if fs is None:\n",
    "        return fs\n",
    "    \n",
    "    c_params = [['account_id', 'Intangible assets'],\n",
    "               ['account_id', 'dart_OtherIntangibleAssetsGross'],\n",
    "               ['account_id', 'ifrs-full_IntangibleAssetsOtherThanGoodwill'],\n",
    "               ['account_nm', '무형자산']]\n",
    "    o_params = [['label_en', 'Intangible assets'],\n",
    "               ['label_en', 'dart_OtherIntangibleAssetsGross'],\n",
    "               ['concept_id', 'dart_OtherIntangibleAssetsGross'],\n",
    "               ['concept_id', 'ifrs-full_IntangibleAssetsOtherThanGoodwill'],\n",
    "                ['label_ko', '무형자산']\n",
    "               ]\n",
    "    if check_fs == '연결':\n",
    "        mh_data = main.loopDart(code, fs, c_params, 'new_dart_mh', ['bfefrmtrm_amount', 'frmtrm_amount', 'thstrm_amount'])\n",
    "    else:\n",
    "        mh_data = main.loopDart(code, fs, o_params, 'new_dart_mh', ['20171231', '20181231', '20191231'])\n",
    "    if mh_data is None:\n",
    "        return\n",
    "    return data"
   ]
  },
  {
   "cell_type": "code",
   "execution_count": 88,
   "metadata": {},
   "outputs": [
    {
     "data": {
      "application/vnd.jupyter.widget-view+json": {
       "model_id": "8705b1f95e194be3a019dec1b6decaa4",
       "version_major": 2,
       "version_minor": 0
      },
      "text/plain": [
       "Output()"
      ]
     },
     "metadata": {},
     "output_type": "display_data"
    },
    {
     "data": {
      "application/vnd.jupyter.widget-view+json": {
       "model_id": "4f607f5945a04c699832f652fddda02e",
       "version_major": 2,
       "version_minor": 0
      },
      "text/plain": [
       "Output()"
      ]
     },
     "metadata": {},
     "output_type": "display_data"
    },
    {
     "data": {
      "application/vnd.jupyter.widget-view+json": {
       "model_id": "141bef01bfea4bf0a8e00b39c54d5ef7",
       "version_major": 2,
       "version_minor": 0
      },
      "text/plain": [
       "Output()"
      ]
     },
     "metadata": {},
     "output_type": "display_data"
    }
   ],
   "source": [
    "import dart_fss\n",
    "dart_fss.set_api_key('abeae84cda5efbd4511011450af0c4aa6603d140')\n",
    "crp_list = dart_fss.get_corp_list()"
   ]
  },
  {
   "cell_type": "code",
   "execution_count": 99,
   "metadata": {},
   "outputs": [
    {
     "name": "stdout",
     "output_type": "stream",
     "text": [
      "000250\n",
      "001040\n",
      "001140\n",
      "001390\n",
      "001740\n",
      "001810\n",
      "002070\n",
      "002270\n",
      "002300\n",
      "002320\n",
      "002390\n",
      "002420\n"
     ]
    },
    {
     "data": {
      "application/vnd.jupyter.widget-view+json": {
       "model_id": "dea1446e28bc46de8973b1ae181f37b7",
       "version_major": 2,
       "version_minor": 0
      },
      "text/plain": [
       "Annual reports:   0%|          | 0/3 [00:00<?, ?report/s]"
      ]
     },
     "metadata": {},
     "output_type": "display_data"
    },
    {
     "name": "stdout",
     "output_type": "stream",
     "text": [
      "002450\n",
      "002460\n",
      "002870\n",
      "002990\n",
      "003080\n",
      "003720\n",
      "003800\n",
      "003960\n",
      "004140\n",
      "004200\n",
      "004370\n",
      "004560\n",
      "004650\n",
      "004700\n"
     ]
    },
    {
     "data": {
      "application/vnd.jupyter.widget-view+json": {
       "model_id": "7f023be9b81b4cac804982bbdd1544fc",
       "version_major": 2,
       "version_minor": 0
      },
      "text/plain": [
       "Annual reports:   0%|          | 0/3 [00:00<?, ?report/s]"
      ]
     },
     "metadata": {},
     "output_type": "display_data"
    },
    {
     "name": "stdout",
     "output_type": "stream",
     "text": [
      "004710\n",
      "005070\n"
     ]
    },
    {
     "data": {
      "application/vnd.jupyter.widget-view+json": {
       "model_id": "c2738ea0f59c44fe9c97bd4c981c08e5",
       "version_major": 2,
       "version_minor": 0
      },
      "text/plain": [
       "Annual reports:   0%|          | 0/9 [00:00<?, ?report/s]"
      ]
     },
     "metadata": {},
     "output_type": "display_data"
    },
    {
     "name": "stdout",
     "output_type": "stream",
     "text": [
      "005110\n",
      "005320\n",
      "005420\n",
      "005450\n",
      "005490\n",
      "005850\n",
      "006060\n",
      "006090\n"
     ]
    },
    {
     "data": {
      "application/vnd.jupyter.widget-view+json": {
       "model_id": "f4f79c1ad65247c9994b449f9f8c0e70",
       "version_major": 2,
       "version_minor": 0
      },
      "text/plain": [
       "Annual reports:   0%|          | 0/3 [00:00<?, ?report/s]"
      ]
     },
     "metadata": {},
     "output_type": "display_data"
    },
    {
     "name": "stdout",
     "output_type": "stream",
     "text": [
      "006140\n"
     ]
    },
    {
     "data": {
      "application/vnd.jupyter.widget-view+json": {
       "model_id": "cbc28e13babd467a907341d9852629ff",
       "version_major": 2,
       "version_minor": 0
      },
      "text/plain": [
       "Annual reports:   0%|          | 0/3 [00:00<?, ?report/s]"
      ]
     },
     "metadata": {},
     "output_type": "display_data"
    },
    {
     "name": "stdout",
     "output_type": "stream",
     "text": [
      "006490\n",
      "006730\n",
      "006980\n",
      "007120\n",
      "007390\n"
     ]
    },
    {
     "data": {
      "application/vnd.jupyter.widget-view+json": {
       "model_id": "4e8020e4cedd4fa3a82cb77b1f68ac0e",
       "version_major": 2,
       "version_minor": 0
      },
      "text/plain": [
       "Annual reports:   0%|          | 0/3 [00:00<?, ?report/s]"
      ]
     },
     "metadata": {},
     "output_type": "display_data"
    },
    {
     "name": "stdout",
     "output_type": "stream",
     "text": [
      "007540\n",
      "008260\n"
     ]
    },
    {
     "data": {
      "application/vnd.jupyter.widget-view+json": {
       "model_id": "0e438ebddc084a7599e9ce9ed79e2973",
       "version_major": 2,
       "version_minor": 0
      },
      "text/plain": [
       "Annual reports:   0%|          | 0/3 [00:00<?, ?report/s]"
      ]
     },
     "metadata": {},
     "output_type": "display_data"
    },
    {
     "name": "stdout",
     "output_type": "stream",
     "text": [
      "008830\n"
     ]
    },
    {
     "data": {
      "application/vnd.jupyter.widget-view+json": {
       "model_id": "c3d6d87df5a847439621e6d798d53104",
       "version_major": 2,
       "version_minor": 0
      },
      "text/plain": [
       "Annual reports:   0%|          | 0/3 [00:00<?, ?report/s]"
      ]
     },
     "metadata": {},
     "output_type": "display_data"
    },
    {
     "name": "stdout",
     "output_type": "stream",
     "text": [
      "009070\n",
      "009410\n",
      "009680\n",
      "009730\n",
      "009830\n",
      "009970\n",
      "010060\n",
      "010640\n",
      "010770\n",
      "011000\n",
      "011080\n",
      "011160\n",
      "011930\n",
      "012750\n",
      "013120\n",
      "014570\n"
     ]
    },
    {
     "data": {
      "application/vnd.jupyter.widget-view+json": {
       "model_id": "b32b7d55f7c34413b47fc78dac2b6c6e",
       "version_major": 2,
       "version_minor": 0
      },
      "text/plain": [
       "Annual reports:   0%|          | 0/3 [00:00<?, ?report/s]"
      ]
     },
     "metadata": {},
     "output_type": "display_data"
    },
    {
     "name": "stdout",
     "output_type": "stream",
     "text": [
      "015360\n",
      "017000\n"
     ]
    },
    {
     "data": {
      "application/vnd.jupyter.widget-view+json": {
       "model_id": "37374d226a55459d9c3907cc4ad43825",
       "version_major": 2,
       "version_minor": 0
      },
      "text/plain": [
       "Annual reports:   0%|          | 0/3 [00:00<?, ?report/s]"
      ]
     },
     "metadata": {},
     "output_type": "display_data"
    },
    {
     "name": "stdout",
     "output_type": "stream",
     "text": [
      "018680\n"
     ]
    },
    {
     "data": {
      "application/vnd.jupyter.widget-view+json": {
       "model_id": "cbb6aa4a357142599f35cc9460714768",
       "version_major": 2,
       "version_minor": 0
      },
      "text/plain": [
       "Annual reports:   0%|          | 0/4 [00:00<?, ?report/s]"
      ]
     },
     "metadata": {},
     "output_type": "display_data"
    },
    {
     "name": "stdout",
     "output_type": "stream",
     "text": [
      "019660\n"
     ]
    },
    {
     "data": {
      "application/vnd.jupyter.widget-view+json": {
       "model_id": "f542bed9aaf745ccbc915a1a951056d6",
       "version_major": 2,
       "version_minor": 0
      },
      "text/plain": [
       "Annual reports:   0%|          | 0/3 [00:00<?, ?report/s]"
      ]
     },
     "metadata": {},
     "output_type": "display_data"
    },
    {
     "name": "stdout",
     "output_type": "stream",
     "text": [
      "019770\n",
      "020400\n"
     ]
    },
    {
     "data": {
      "application/vnd.jupyter.widget-view+json": {
       "model_id": "699ed1b356d340cfb6a111dbaafd2c1f",
       "version_major": 2,
       "version_minor": 0
      },
      "text/plain": [
       "Annual reports:   0%|          | 0/3 [00:00<?, ?report/s]"
      ]
     },
     "metadata": {},
     "output_type": "display_data"
    },
    {
     "name": "stdout",
     "output_type": "stream",
     "text": [
      "023150\n",
      "023440\n"
     ]
    },
    {
     "data": {
      "application/vnd.jupyter.widget-view+json": {
       "model_id": "c77f7fe4435f49c8b47b2b876493d98e",
       "version_major": 2,
       "version_minor": 0
      },
      "text/plain": [
       "Annual reports:   0%|          | 0/3 [00:00<?, ?report/s]"
      ]
     },
     "metadata": {},
     "output_type": "display_data"
    },
    {
     "name": "stdout",
     "output_type": "stream",
     "text": [
      "024800\n",
      "024810\n",
      "025890\n"
     ]
    },
    {
     "data": {
      "application/vnd.jupyter.widget-view+json": {
       "model_id": "3f36f7c0732f41d39f2eb9244a3d5205",
       "version_major": 2,
       "version_minor": 0
      },
      "text/plain": [
       "Annual reports:   0%|          | 0/3 [00:00<?, ?report/s]"
      ]
     },
     "metadata": {},
     "output_type": "display_data"
    },
    {
     "name": "stdout",
     "output_type": "stream",
     "text": [
      "027390\n",
      "028260\n",
      "030270\n",
      "031390\n",
      "031820\n",
      "032040\n",
      "032680\n",
      "033130\n",
      "033600\n"
     ]
    },
    {
     "data": {
      "application/vnd.jupyter.widget-view+json": {
       "model_id": "ea3e7b4ab6f94ac3b98edbb22551fdbb",
       "version_major": 2,
       "version_minor": 0
      },
      "text/plain": [
       "Annual reports:   0%|          | 0/3 [00:00<?, ?report/s]"
      ]
     },
     "metadata": {},
     "output_type": "display_data"
    },
    {
     "name": "stdout",
     "output_type": "stream",
     "text": [
      "033780\n",
      "034220\n",
      "034810\n",
      "035420\n",
      "035900\n",
      "036120\n",
      "036260\n",
      "036570\n",
      "036890\n",
      "038070\n",
      "038870\n",
      "040160\n",
      "041460\n",
      "043090\n",
      "043220\n",
      "044990\n",
      "046210\n"
     ]
    },
    {
     "data": {
      "application/vnd.jupyter.widget-view+json": {
       "model_id": "2f71f98559004fa5889381850ab914ca",
       "version_major": 2,
       "version_minor": 0
      },
      "text/plain": [
       "Annual reports:   0%|          | 0/3 [00:00<?, ?report/s]"
      ]
     },
     "metadata": {},
     "output_type": "display_data"
    },
    {
     "name": "stdout",
     "output_type": "stream",
     "text": [
      "047310\n",
      "047560\n",
      "047770\n",
      "050320\n"
     ]
    },
    {
     "data": {
      "application/vnd.jupyter.widget-view+json": {
       "model_id": "33b2fd21d80c442ebb444535ab217568",
       "version_major": 2,
       "version_minor": 0
      },
      "text/plain": [
       "Annual reports:   0%|          | 0/5 [00:00<?, ?report/s]"
      ]
     },
     "metadata": {},
     "output_type": "display_data"
    },
    {
     "name": "stdout",
     "output_type": "stream",
     "text": [
      "050760\n",
      "050960\n",
      "051980\n",
      "052690\n",
      "053290\n"
     ]
    },
    {
     "data": {
      "application/vnd.jupyter.widget-view+json": {
       "model_id": "f02e5f923bd14342bfbdfcca3e191396",
       "version_major": 2,
       "version_minor": 0
      },
      "text/plain": [
       "Annual reports:   0%|          | 0/3 [00:00<?, ?report/s]"
      ]
     },
     "metadata": {},
     "output_type": "display_data"
    },
    {
     "name": "stdout",
     "output_type": "stream",
     "text": [
      "054050\n",
      "054300\n"
     ]
    },
    {
     "data": {
      "application/vnd.jupyter.widget-view+json": {
       "model_id": "6b7d1521c16347b8ab7c523334b9f105",
       "version_major": 2,
       "version_minor": 0
      },
      "text/plain": [
       "Annual reports:   0%|          | 0/1 [00:00<?, ?report/s]"
      ]
     },
     "metadata": {},
     "output_type": "display_data"
    },
    {
     "name": "stdout",
     "output_type": "stream",
     "text": [
      "054340\n",
      "054620\n",
      "054920\n",
      "054950\n",
      "057500\n",
      "058530\n",
      "058650\n",
      "058850\n",
      "058970\n"
     ]
    },
    {
     "data": {
      "application/vnd.jupyter.widget-view+json": {
       "model_id": "3af6d1ee4864400fb9acce9ac894c6dd",
       "version_major": 2,
       "version_minor": 0
      },
      "text/plain": [
       "Annual reports:   0%|          | 0/3 [00:00<?, ?report/s]"
      ]
     },
     "metadata": {},
     "output_type": "display_data"
    },
    {
     "name": "stdout",
     "output_type": "stream",
     "text": [
      "060260\n",
      "060480\n"
     ]
    },
    {
     "data": {
      "application/vnd.jupyter.widget-view+json": {
       "model_id": "65c022cb124e4bb7ade977de14864687",
       "version_major": 2,
       "version_minor": 0
      },
      "text/plain": [
       "Annual reports:   0%|          | 0/3 [00:00<?, ?report/s]"
      ]
     },
     "metadata": {},
     "output_type": "display_data"
    },
    {
     "name": "stdout",
     "output_type": "stream",
     "text": [
      "060560\n",
      "060570\n",
      "063080\n",
      "065420\n"
     ]
    },
    {
     "data": {
      "application/vnd.jupyter.widget-view+json": {
       "model_id": "09a550929a3c4ba4b644f8eef1eaa892",
       "version_major": 2,
       "version_minor": 0
      },
      "text/plain": [
       "Annual reports:   0%|          | 0/3 [00:00<?, ?report/s]"
      ]
     },
     "metadata": {},
     "output_type": "display_data"
    },
    {
     "name": "stdout",
     "output_type": "stream",
     "text": [
      "065560\n",
      "065660\n"
     ]
    },
    {
     "data": {
      "application/vnd.jupyter.widget-view+json": {
       "model_id": "1d365dac3e6241d382c10d77583898ba",
       "version_major": 2,
       "version_minor": 0
      },
      "text/plain": [
       "Annual reports:   0%|          | 0/3 [00:00<?, ?report/s]"
      ]
     },
     "metadata": {},
     "output_type": "display_data"
    },
    {
     "name": "stdout",
     "output_type": "stream",
     "text": [
      "065940\n",
      "066620\n",
      "066670\n",
      "066830\n"
     ]
    },
    {
     "data": {
      "application/vnd.jupyter.widget-view+json": {
       "model_id": "fb1a37f12c95409aa976b7cc11e710d5",
       "version_major": 2,
       "version_minor": 0
      },
      "text/plain": [
       "Annual reports:   0%|          | 0/3 [00:00<?, ?report/s]"
      ]
     },
     "metadata": {},
     "output_type": "display_data"
    },
    {
     "name": "stdout",
     "output_type": "stream",
     "text": [
      "067170\n",
      "067280\n",
      "067370\n"
     ]
    },
    {
     "data": {
      "application/vnd.jupyter.widget-view+json": {
       "model_id": "121eb5fc555a4ccc941480dd23d1f496",
       "version_major": 2,
       "version_minor": 0
      },
      "text/plain": [
       "Annual reports:   0%|          | 0/3 [00:00<?, ?report/s]"
      ]
     },
     "metadata": {},
     "output_type": "display_data"
    },
    {
     "name": "stdout",
     "output_type": "stream",
     "text": [
      "067830\n",
      "067920\n",
      "069080\n",
      "069330\n",
      "069410\n",
      "069730\n"
     ]
    },
    {
     "data": {
      "application/vnd.jupyter.widget-view+json": {
       "model_id": "818f06e86adb4be3af5c37db30efbbae",
       "version_major": 2,
       "version_minor": 0
      },
      "text/plain": [
       "Annual reports:   0%|          | 0/3 [00:00<?, ?report/s]"
      ]
     },
     "metadata": {},
     "output_type": "display_data"
    },
    {
     "name": "stdout",
     "output_type": "stream",
     "text": [
      "075130\n",
      "076340\n"
     ]
    },
    {
     "data": {
      "application/vnd.jupyter.widget-view+json": {
       "model_id": "b18b9305e8194597a883a19587cbd7a4",
       "version_major": 2,
       "version_minor": 0
      },
      "text/plain": [
       "Annual reports:   0%|          | 0/3 [00:00<?, ?report/s]"
      ]
     },
     "metadata": {},
     "output_type": "display_data"
    },
    {
     "name": "stdout",
     "output_type": "stream",
     "text": [
      "077360\n",
      "079000\n"
     ]
    },
    {
     "data": {
      "application/vnd.jupyter.widget-view+json": {
       "model_id": "a3414329b6a44aada6ebb765cdb10c11",
       "version_major": 2,
       "version_minor": 0
      },
      "text/plain": [
       "Annual reports:   0%|          | 0/3 [00:00<?, ?report/s]"
      ]
     },
     "metadata": {},
     "output_type": "display_data"
    },
    {
     "name": "stdout",
     "output_type": "stream",
     "text": [
      "079190\n",
      "081000\n",
      "082660\n",
      "083370\n",
      "083380\n",
      "083660\n",
      "084110\n",
      "084650\n",
      "084670\n",
      "084680\n"
     ]
    },
    {
     "data": {
      "application/vnd.jupyter.widget-view+json": {
       "model_id": "6ba5ea8f16974161801175857c8ac6ef",
       "version_major": 2,
       "version_minor": 0
      },
      "text/plain": [
       "Annual reports:   0%|          | 0/3 [00:00<?, ?report/s]"
      ]
     },
     "metadata": {},
     "output_type": "display_data"
    },
    {
     "name": "stdout",
     "output_type": "stream",
     "text": [
      "084990\n",
      "085910\n",
      "086250\n",
      "086390\n",
      "086460\n"
     ]
    },
    {
     "data": {
      "application/vnd.jupyter.widget-view+json": {
       "model_id": "7d93277590574a279dfed74920de81fb",
       "version_major": 2,
       "version_minor": 0
      },
      "text/plain": [
       "Annual reports:   0%|          | 0/3 [00:00<?, ?report/s]"
      ]
     },
     "metadata": {},
     "output_type": "display_data"
    },
    {
     "name": "stdout",
     "output_type": "stream",
     "text": [
      "086670\n",
      "089470\n",
      "090080\n",
      "092070\n",
      "092590\n"
     ]
    },
    {
     "data": {
      "application/vnd.jupyter.widget-view+json": {
       "model_id": "d709271cc07d4775a24320037a98bb3d",
       "version_major": 2,
       "version_minor": 0
      },
      "text/plain": [
       "Annual reports:   0%|          | 0/3 [00:00<?, ?report/s]"
      ]
     },
     "metadata": {},
     "output_type": "display_data"
    },
    {
     "name": "stdout",
     "output_type": "stream",
     "text": [
      "093640\n"
     ]
    },
    {
     "data": {
      "application/vnd.jupyter.widget-view+json": {
       "model_id": "bd538243a53041df807c4222b5d15f98",
       "version_major": 2,
       "version_minor": 0
      },
      "text/plain": [
       "Annual reports:   0%|          | 0/3 [00:00<?, ?report/s]"
      ]
     },
     "metadata": {},
     "output_type": "display_data"
    },
    {
     "name": "stdout",
     "output_type": "stream",
     "text": [
      "094190\n",
      "094280\n",
      "095700\n",
      "096770\n",
      "097950\n",
      "101140\n"
     ]
    },
    {
     "data": {
      "application/vnd.jupyter.widget-view+json": {
       "model_id": "f543ccaec5924253bc8311fe3a5359d6",
       "version_major": 2,
       "version_minor": 0
      },
      "text/plain": [
       "Annual reports:   0%|          | 0/3 [00:00<?, ?report/s]"
      ]
     },
     "metadata": {},
     "output_type": "display_data"
    },
    {
     "name": "stdout",
     "output_type": "stream",
     "text": [
      "101170\n",
      "101360\n"
     ]
    },
    {
     "data": {
      "application/vnd.jupyter.widget-view+json": {
       "model_id": "faf50f048c9c411faa20149098c8f845",
       "version_major": 2,
       "version_minor": 0
      },
      "text/plain": [
       "Annual reports:   0%|          | 0/3 [00:00<?, ?report/s]"
      ]
     },
     "metadata": {},
     "output_type": "display_data"
    },
    {
     "name": "stdout",
     "output_type": "stream",
     "text": [
      "101490\n",
      "101530\n",
      "103130\n",
      "103660\n"
     ]
    },
    {
     "data": {
      "application/vnd.jupyter.widget-view+json": {
       "model_id": "bfbca8c60759453c9570dda21c190900",
       "version_major": 2,
       "version_minor": 0
      },
      "text/plain": [
       "Annual reports:   0%|          | 0/3 [00:00<?, ?report/s]"
      ]
     },
     "metadata": {},
     "output_type": "display_data"
    },
    {
     "name": "stdout",
     "output_type": "stream",
     "text": [
      "106190\n"
     ]
    },
    {
     "data": {
      "application/vnd.jupyter.widget-view+json": {
       "model_id": "e0c9f61f159047b3bca0deb6aa84d4b8",
       "version_major": 2,
       "version_minor": 0
      },
      "text/plain": [
       "Annual reports:   0%|          | 0/3 [00:00<?, ?report/s]"
      ]
     },
     "metadata": {},
     "output_type": "display_data"
    },
    {
     "name": "stdout",
     "output_type": "stream",
     "text": [
      "106240\n",
      "107640\n",
      "108320\n",
      "108790\n",
      "111770\n",
      "111820\n"
     ]
    },
    {
     "data": {
      "application/vnd.jupyter.widget-view+json": {
       "model_id": "c3557b91eaff4891b03dd8185001e8a9",
       "version_major": 2,
       "version_minor": 0
      },
      "text/plain": [
       "Annual reports:   0%|          | 0/4 [00:00<?, ?report/s]"
      ]
     },
     "metadata": {},
     "output_type": "display_data"
    },
    {
     "name": "stdout",
     "output_type": "stream",
     "text": [
      "112190\n"
     ]
    },
    {
     "data": {
      "application/vnd.jupyter.widget-view+json": {
       "model_id": "f93e5eddf2ee446cb6b9ef213d0f99ce",
       "version_major": 2,
       "version_minor": 0
      },
      "text/plain": [
       "Annual reports:   0%|          | 0/3 [00:00<?, ?report/s]"
      ]
     },
     "metadata": {},
     "output_type": "display_data"
    },
    {
     "name": "stdout",
     "output_type": "stream",
     "text": [
      "112240\n",
      "112610\n",
      "114920\n"
     ]
    },
    {
     "data": {
      "application/vnd.jupyter.widget-view+json": {
       "model_id": "94386d5b98d84b68acd63264ea867f12",
       "version_major": 2,
       "version_minor": 0
      },
      "text/plain": [
       "Annual reports:   0%|          | 0/8 [00:00<?, ?report/s]"
      ]
     },
     "metadata": {},
     "output_type": "display_data"
    },
    {
     "name": "stdout",
     "output_type": "stream",
     "text": [
      "115180\n",
      "115530\n",
      "116100\n"
     ]
    },
    {
     "data": {
      "application/vnd.jupyter.widget-view+json": {
       "model_id": "845ecd4e8882438190700a1a0cf8c941",
       "version_major": 2,
       "version_minor": 0
      },
      "text/plain": [
       "Annual reports:   0%|          | 0/4 [00:00<?, ?report/s]"
      ]
     },
     "metadata": {},
     "output_type": "display_data"
    },
    {
     "name": "stdout",
     "output_type": "stream",
     "text": [
      "120780\n"
     ]
    },
    {
     "data": {
      "application/vnd.jupyter.widget-view+json": {
       "model_id": "a0e0d9b766724a68bc84e1990ef70ee6",
       "version_major": 2,
       "version_minor": 0
      },
      "text/plain": [
       "Annual reports:   0%|          | 0/4 [00:00<?, ?report/s]"
      ]
     },
     "metadata": {},
     "output_type": "display_data"
    },
    {
     "name": "stdout",
     "output_type": "stream",
     "text": [
      "121060\n"
     ]
    },
    {
     "data": {
      "application/vnd.jupyter.widget-view+json": {
       "model_id": "2ab84c32a1b84297809a526c2f90426d",
       "version_major": 2,
       "version_minor": 0
      },
      "text/plain": [
       "Annual reports:   0%|          | 0/3 [00:00<?, ?report/s]"
      ]
     },
     "metadata": {},
     "output_type": "display_data"
    },
    {
     "name": "stdout",
     "output_type": "stream",
     "text": [
      "121890\n"
     ]
    },
    {
     "data": {
      "application/vnd.jupyter.widget-view+json": {
       "model_id": "0c20203c81714c589be2f44087ef8f3f",
       "version_major": 2,
       "version_minor": 0
      },
      "text/plain": [
       "Annual reports:   0%|          | 0/4 [00:00<?, ?report/s]"
      ]
     },
     "metadata": {},
     "output_type": "display_data"
    },
    {
     "name": "stdout",
     "output_type": "stream",
     "text": [
      "122870\n",
      "123260\n",
      "126340\n"
     ]
    },
    {
     "data": {
      "application/vnd.jupyter.widget-view+json": {
       "model_id": "c034bb3ef34d4796b47b0d0da4539fd3",
       "version_major": 2,
       "version_minor": 0
      },
      "text/plain": [
       "Annual reports:   0%|          | 0/3 [00:00<?, ?report/s]"
      ]
     },
     "metadata": {},
     "output_type": "display_data"
    },
    {
     "name": "stdout",
     "output_type": "stream",
     "text": [
      "131030\n"
     ]
    },
    {
     "data": {
      "application/vnd.jupyter.widget-view+json": {
       "model_id": "1869ea38ba3046afa3223bad722afd49",
       "version_major": 2,
       "version_minor": 0
      },
      "text/plain": [
       "Annual reports:   0%|          | 0/3 [00:00<?, ?report/s]"
      ]
     },
     "metadata": {},
     "output_type": "display_data"
    },
    {
     "name": "stdout",
     "output_type": "stream",
     "text": [
      "131970\n"
     ]
    },
    {
     "data": {
      "application/vnd.jupyter.widget-view+json": {
       "model_id": "15a3c768eba143f9adda38abcf028745",
       "version_major": 2,
       "version_minor": 0
      },
      "text/plain": [
       "Annual reports:   0%|          | 0/3 [00:00<?, ?report/s]"
      ]
     },
     "metadata": {},
     "output_type": "display_data"
    },
    {
     "name": "stdout",
     "output_type": "stream",
     "text": [
      "134780\n",
      "135160\n"
     ]
    },
    {
     "data": {
      "application/vnd.jupyter.widget-view+json": {
       "model_id": "2696e862e0704d9d8efa16241838255c",
       "version_major": 2,
       "version_minor": 0
      },
      "text/plain": [
       "Annual reports:   0%|          | 0/3 [00:00<?, ?report/s]"
      ]
     },
     "metadata": {},
     "output_type": "display_data"
    },
    {
     "name": "stderr",
     "output_type": "stream",
     "text": [
      "C:\\Users\\choi97201\\anaconda3\\envs\\py37\\lib\\site-packages\\dart_fss\\fs\\extract.py:206: RuntimeWarning: Date data length does not match table header.So last date was set using last data(19000101). \n",
      "  warnings.warn(warnings_text, RuntimeWarning)\n"
     ]
    },
    {
     "name": "stdout",
     "output_type": "stream",
     "text": [
      "136490\n",
      "136660\n"
     ]
    },
    {
     "data": {
      "application/vnd.jupyter.widget-view+json": {
       "model_id": "6e2210dbef704d0399a532759e4ef023",
       "version_major": 2,
       "version_minor": 0
      },
      "text/plain": [
       "Annual reports:   0%|          | 0/5 [00:00<?, ?report/s]"
      ]
     },
     "metadata": {},
     "output_type": "display_data"
    },
    {
     "name": "stdout",
     "output_type": "stream",
     "text": [
      "139670\n",
      "140290\n",
      "140660\n"
     ]
    },
    {
     "data": {
      "application/vnd.jupyter.widget-view+json": {
       "model_id": "3ff198a9e3574a93b40e81c072d7a8d4",
       "version_major": 2,
       "version_minor": 0
      },
      "text/plain": [
       "Annual reports:   0%|          | 0/3 [00:00<?, ?report/s]"
      ]
     },
     "metadata": {},
     "output_type": "display_data"
    },
    {
     "name": "stdout",
     "output_type": "stream",
     "text": [
      "141020\n",
      "143240\n",
      "148780\n"
     ]
    },
    {
     "data": {
      "application/vnd.jupyter.widget-view+json": {
       "model_id": "103f1e6ef38e472bbc13db13efd0293e",
       "version_major": 2,
       "version_minor": 0
      },
      "text/plain": [
       "Annual reports:   0%|          | 0/3 [00:00<?, ?report/s]"
      ]
     },
     "metadata": {},
     "output_type": "display_data"
    },
    {
     "name": "stdout",
     "output_type": "stream",
     "text": [
      "149010\n",
      "149940\n",
      "150440\n"
     ]
    },
    {
     "data": {
      "application/vnd.jupyter.widget-view+json": {
       "model_id": "409d67dcdb754861b2360702b4dd9bbb",
       "version_major": 2,
       "version_minor": 0
      },
      "text/plain": [
       "Annual reports:   0%|          | 0/3 [00:00<?, ?report/s]"
      ]
     },
     "metadata": {},
     "output_type": "display_data"
    },
    {
     "name": "stdout",
     "output_type": "stream",
     "text": [
      "152330\n",
      "153360\n"
     ]
    },
    {
     "data": {
      "application/vnd.jupyter.widget-view+json": {
       "model_id": "943b8da6447f4698a30159462f05c90b",
       "version_major": 2,
       "version_minor": 0
      },
      "text/plain": [
       "Annual reports:   0%|          | 0/3 [00:00<?, ?report/s]"
      ]
     },
     "metadata": {},
     "output_type": "display_data"
    },
    {
     "name": "stdout",
     "output_type": "stream",
     "text": [
      "155660\n",
      "155900\n",
      "158300\n",
      "158310\n",
      "159650\n",
      "159910\n",
      "161000\n",
      "170790\n"
     ]
    },
    {
     "data": {
      "application/vnd.jupyter.widget-view+json": {
       "model_id": "f0eb57fd64c54a1aab8ce84087aa03a2",
       "version_major": 2,
       "version_minor": 0
      },
      "text/plain": [
       "Annual reports:   0%|          | 0/3 [00:00<?, ?report/s]"
      ]
     },
     "metadata": {},
     "output_type": "display_data"
    },
    {
     "name": "stdout",
     "output_type": "stream",
     "text": [
      "172580\n",
      "173130\n"
     ]
    },
    {
     "data": {
      "application/vnd.jupyter.widget-view+json": {
       "model_id": "0c34bbf934924b399fe9fca63260249d",
       "version_major": 2,
       "version_minor": 0
      },
      "text/plain": [
       "Annual reports:   0%|          | 0/3 [00:00<?, ?report/s]"
      ]
     },
     "metadata": {},
     "output_type": "display_data"
    },
    {
     "name": "stdout",
     "output_type": "stream",
     "text": [
      "176750\n"
     ]
    },
    {
     "data": {
      "application/vnd.jupyter.widget-view+json": {
       "model_id": "5fddfc5b71f14b909609a669a76a88f5",
       "version_major": 2,
       "version_minor": 0
      },
      "text/plain": [
       "Annual reports:   0%|          | 0/3 [00:00<?, ?report/s]"
      ]
     },
     "metadata": {},
     "output_type": "display_data"
    },
    {
     "name": "stdout",
     "output_type": "stream",
     "text": [
      "179720\n"
     ]
    },
    {
     "data": {
      "application/vnd.jupyter.widget-view+json": {
       "model_id": "8573180b29934e8e8609d67355336bda",
       "version_major": 2,
       "version_minor": 0
      },
      "text/plain": [
       "Annual reports:   0%|          | 0/3 [00:00<?, ?report/s]"
      ]
     },
     "metadata": {},
     "output_type": "display_data"
    },
    {
     "name": "stdout",
     "output_type": "stream",
     "text": [
      "183350\n",
      "186230\n",
      "189330\n"
     ]
    },
    {
     "data": {
      "application/vnd.jupyter.widget-view+json": {
       "model_id": "46f2339353aa4f899966b30e6e91ef50",
       "version_major": 2,
       "version_minor": 0
      },
      "text/plain": [
       "Annual reports:   0%|          | 0/3 [00:00<?, ?report/s]"
      ]
     },
     "metadata": {},
     "output_type": "display_data"
    },
    {
     "name": "stdout",
     "output_type": "stream",
     "text": [
      "189350\n"
     ]
    },
    {
     "data": {
      "application/vnd.jupyter.widget-view+json": {
       "model_id": "fc0642d6901a432682970ac1576184db",
       "version_major": 2,
       "version_minor": 0
      },
      "text/plain": [
       "Annual reports:   0%|          | 0/3 [00:00<?, ?report/s]"
      ]
     },
     "metadata": {},
     "output_type": "display_data"
    },
    {
     "name": "stdout",
     "output_type": "stream",
     "text": [
      "189540\n",
      "191600\n"
     ]
    },
    {
     "data": {
      "application/vnd.jupyter.widget-view+json": {
       "model_id": "9cc175d8fec3406dac957fea39ad5d59",
       "version_major": 2,
       "version_minor": 0
      },
      "text/plain": [
       "Annual reports:   0%|          | 0/3 [00:00<?, ?report/s]"
      ]
     },
     "metadata": {},
     "output_type": "display_data"
    },
    {
     "name": "stdout",
     "output_type": "stream",
     "text": [
      "194510\n",
      "195440\n",
      "196450\n",
      "197210\n",
      "199150\n"
     ]
    },
    {
     "data": {
      "application/vnd.jupyter.widget-view+json": {
       "model_id": "ea931531c69547f481085e0be9efc4e9",
       "version_major": 2,
       "version_minor": 0
      },
      "text/plain": [
       "Annual reports:   0%|          | 0/3 [00:00<?, ?report/s]"
      ]
     },
     "metadata": {},
     "output_type": "display_data"
    },
    {
     "name": "stdout",
     "output_type": "stream",
     "text": [
      "199290\n"
     ]
    },
    {
     "data": {
      "application/vnd.jupyter.widget-view+json": {
       "model_id": "acedf393436744739ee9ddb285061a8c",
       "version_major": 2,
       "version_minor": 0
      },
      "text/plain": [
       "Annual reports:   0%|          | 0/3 [00:00<?, ?report/s]"
      ]
     },
     "metadata": {},
     "output_type": "display_data"
    },
    {
     "name": "stdout",
     "output_type": "stream",
     "text": [
      "200350\n"
     ]
    },
    {
     "data": {
      "application/vnd.jupyter.widget-view+json": {
       "model_id": "4799370e80934a93ae6f3126f52a367b",
       "version_major": 2,
       "version_minor": 0
      },
      "text/plain": [
       "Annual reports:   0%|          | 0/3 [00:00<?, ?report/s]"
      ]
     },
     "metadata": {},
     "output_type": "display_data"
    },
    {
     "name": "stdout",
     "output_type": "stream",
     "text": [
      "200580\n"
     ]
    },
    {
     "data": {
      "application/vnd.jupyter.widget-view+json": {
       "model_id": "52e3fc3a77784e2699d2c5a64f5b2c7a",
       "version_major": 2,
       "version_minor": 0
      },
      "text/plain": [
       "Annual reports:   0%|          | 0/3 [00:00<?, ?report/s]"
      ]
     },
     "metadata": {},
     "output_type": "display_data"
    },
    {
     "name": "stdout",
     "output_type": "stream",
     "text": [
      "200780\n",
      "200880\n",
      "202960\n",
      "203400\n"
     ]
    },
    {
     "data": {
      "application/vnd.jupyter.widget-view+json": {
       "model_id": "1e3c0fde2a6242d49f31ea7800c3dc60",
       "version_major": 2,
       "version_minor": 0
      },
      "text/plain": [
       "Annual reports:   0%|          | 0/3 [00:00<?, ?report/s]"
      ]
     },
     "metadata": {},
     "output_type": "display_data"
    },
    {
     "name": "stdout",
     "output_type": "stream",
     "text": [
      "204990\n",
      "205470\n",
      "206400\n",
      "206560\n",
      "206950\n"
     ]
    },
    {
     "data": {
      "application/vnd.jupyter.widget-view+json": {
       "model_id": "a6d5247d2b6c433a8589fad59b93fb72",
       "version_major": 2,
       "version_minor": 0
      },
      "text/plain": [
       "Annual reports:   0%|          | 0/3 [00:00<?, ?report/s]"
      ]
     },
     "metadata": {},
     "output_type": "display_data"
    },
    {
     "name": "stdout",
     "output_type": "stream",
     "text": [
      "207940\n",
      "208850\n"
     ]
    },
    {
     "data": {
      "application/vnd.jupyter.widget-view+json": {
       "model_id": "4edb79449ad94967bdf431d7dabea585",
       "version_major": 2,
       "version_minor": 0
      },
      "text/plain": [
       "Annual reports:   0%|          | 0/3 [00:00<?, ?report/s]"
      ]
     },
     "metadata": {},
     "output_type": "display_data"
    },
    {
     "name": "stdout",
     "output_type": "stream",
     "text": [
      "208890\n",
      "210120\n",
      "211050\n"
     ]
    },
    {
     "data": {
      "application/vnd.jupyter.widget-view+json": {
       "model_id": "d2b8f3956faa4879890db1398e387a1e",
       "version_major": 2,
       "version_minor": 0
      },
      "text/plain": [
       "Annual reports:   0%|          | 0/1 [00:00<?, ?report/s]"
      ]
     },
     "metadata": {},
     "output_type": "display_data"
    },
    {
     "name": "stdout",
     "output_type": "stream",
     "text": [
      "212310\n"
     ]
    },
    {
     "data": {
      "application/vnd.jupyter.widget-view+json": {
       "model_id": "41ae60e9230a4361bcf8205c4a61fd88",
       "version_major": 2,
       "version_minor": 0
      },
      "text/plain": [
       "Annual reports:   0%|          | 0/4 [00:00<?, ?report/s]"
      ]
     },
     "metadata": {},
     "output_type": "display_data"
    },
    {
     "name": "stderr",
     "output_type": "stream",
     "text": [
      "C:\\Users\\choi97201\\anaconda3\\envs\\py37\\lib\\site-packages\\dart_fss\\fs\\extract.py:206: RuntimeWarning: Date data length does not match table header.So last date was set using last data(19000101). \n",
      "  warnings.warn(warnings_text, RuntimeWarning)\n"
     ]
    },
    {
     "name": "stdout",
     "output_type": "stream",
     "text": [
      "214270\n",
      "214320\n",
      "214610\n",
      "215050\n"
     ]
    },
    {
     "data": {
      "application/vnd.jupyter.widget-view+json": {
       "model_id": "a04bb45d112149ce9ca95f50898baa2c",
       "version_major": 2,
       "version_minor": 0
      },
      "text/plain": [
       "Annual reports:   0%|          | 0/3 [00:00<?, ?report/s]"
      ]
     },
     "metadata": {},
     "output_type": "display_data"
    },
    {
     "name": "stderr",
     "output_type": "stream",
     "text": [
      "C:\\Users\\choi97201\\anaconda3\\envs\\py37\\lib\\site-packages\\dart_fss\\fs\\extract.py:206: RuntimeWarning: Date data length does not match table header.So last date was set using last data(19000101). \n",
      "  warnings.warn(warnings_text, RuntimeWarning)\n",
      "C:\\Users\\choi97201\\anaconda3\\envs\\py37\\lib\\site-packages\\dart_fss\\fs\\extract.py:206: RuntimeWarning: Date data length does not match table header.So last date was set using last data(19000101). \n",
      "  warnings.warn(warnings_text, RuntimeWarning)\n"
     ]
    },
    {
     "name": "stdout",
     "output_type": "stream",
     "text": [
      "215090\n"
     ]
    },
    {
     "data": {
      "application/vnd.jupyter.widget-view+json": {
       "model_id": "eb6bc69674464b1bae9d3b024f493a4f",
       "version_major": 2,
       "version_minor": 0
      },
      "text/plain": [
       "Annual reports:   0%|          | 0/3 [00:00<?, ?report/s]"
      ]
     },
     "metadata": {},
     "output_type": "display_data"
    },
    {
     "name": "stdout",
     "output_type": "stream",
     "text": [
      "215570\n"
     ]
    },
    {
     "data": {
      "application/vnd.jupyter.widget-view+json": {
       "model_id": "877e801150a547a6b2cf6a7f7943b851",
       "version_major": 2,
       "version_minor": 0
      },
      "text/plain": [
       "Annual reports:   0%|          | 0/3 [00:00<?, ?report/s]"
      ]
     },
     "metadata": {},
     "output_type": "display_data"
    },
    {
     "name": "stdout",
     "output_type": "stream",
     "text": [
      "216050\n",
      "216280\n"
     ]
    },
    {
     "data": {
      "application/vnd.jupyter.widget-view+json": {
       "model_id": "9992d70528f54ad397174e8d9006b9f9",
       "version_major": 2,
       "version_minor": 0
      },
      "text/plain": [
       "Annual reports:   0%|          | 0/4 [00:00<?, ?report/s]"
      ]
     },
     "metadata": {},
     "output_type": "display_data"
    },
    {
     "name": "stdout",
     "output_type": "stream",
     "text": [
      "216400\n"
     ]
    },
    {
     "data": {
      "application/vnd.jupyter.widget-view+json": {
       "model_id": "b093bd729c8b45c6ab1cb16386e4ede3",
       "version_major": 2,
       "version_minor": 0
      },
      "text/plain": [
       "Annual reports:   0%|          | 0/3 [00:00<?, ?report/s]"
      ]
     },
     "metadata": {},
     "output_type": "display_data"
    },
    {
     "name": "stdout",
     "output_type": "stream",
     "text": [
      "217190\n",
      "217320\n"
     ]
    },
    {
     "data": {
      "application/vnd.jupyter.widget-view+json": {
       "model_id": "ba04eeed500c4549ba2c935d8feae570",
       "version_major": 2,
       "version_minor": 0
      },
      "text/plain": [
       "Annual reports:   0%|          | 0/3 [00:00<?, ?report/s]"
      ]
     },
     "metadata": {},
     "output_type": "display_data"
    },
    {
     "name": "stdout",
     "output_type": "stream",
     "text": [
      "217500\n",
      "217820\n",
      "217880\n"
     ]
    },
    {
     "data": {
      "application/vnd.jupyter.widget-view+json": {
       "model_id": "0751a5bb04ff47e2bc946a0e3a8fbd8a",
       "version_major": 2,
       "version_minor": 0
      },
      "text/plain": [
       "Annual reports:   0%|          | 0/7 [00:00<?, ?report/s]"
      ]
     },
     "metadata": {},
     "output_type": "display_data"
    },
    {
     "name": "stdout",
     "output_type": "stream",
     "text": [
      "220110\n",
      "220250\n",
      "221800\n"
     ]
    },
    {
     "data": {
      "application/vnd.jupyter.widget-view+json": {
       "model_id": "74196ad766284d5aa16cfd7dcaa5529b",
       "version_major": 2,
       "version_minor": 0
      },
      "text/plain": [
       "Annual reports:   0%|          | 0/3 [00:00<?, ?report/s]"
      ]
     },
     "metadata": {},
     "output_type": "display_data"
    },
    {
     "name": "stdout",
     "output_type": "stream",
     "text": [
      "222040\n",
      "222670\n"
     ]
    },
    {
     "data": {
      "application/vnd.jupyter.widget-view+json": {
       "model_id": "26ee0dcc230c420fb787533a967a6fda",
       "version_major": 2,
       "version_minor": 0
      },
      "text/plain": [
       "Annual reports:   0%|          | 0/3 [00:00<?, ?report/s]"
      ]
     },
     "metadata": {},
     "output_type": "display_data"
    },
    {
     "name": "stdout",
     "output_type": "stream",
     "text": [
      "223220\n"
     ]
    },
    {
     "data": {
      "application/vnd.jupyter.widget-view+json": {
       "model_id": "a5fad80708de46bd98492060f7567418",
       "version_major": 2,
       "version_minor": 0
      },
      "text/plain": [
       "Annual reports:   0%|          | 0/3 [00:00<?, ?report/s]"
      ]
     },
     "metadata": {},
     "output_type": "display_data"
    },
    {
     "name": "stdout",
     "output_type": "stream",
     "text": [
      "224020\n"
     ]
    },
    {
     "data": {
      "application/vnd.jupyter.widget-view+json": {
       "model_id": "49ce63ed95f9491f9d100f899b340197",
       "version_major": 2,
       "version_minor": 0
      },
      "text/plain": [
       "Annual reports:   0%|          | 0/3 [00:00<?, ?report/s]"
      ]
     },
     "metadata": {},
     "output_type": "display_data"
    },
    {
     "name": "stdout",
     "output_type": "stream",
     "text": [
      "224760\n"
     ]
    },
    {
     "data": {
      "application/vnd.jupyter.widget-view+json": {
       "model_id": "1bfb878982744276ab4486ec02fab32a",
       "version_major": 2,
       "version_minor": 0
      },
      "text/plain": [
       "Annual reports:   0%|          | 0/3 [00:00<?, ?report/s]"
      ]
     },
     "metadata": {},
     "output_type": "display_data"
    },
    {
     "name": "stdout",
     "output_type": "stream",
     "text": [
      "224810\n"
     ]
    },
    {
     "data": {
      "application/vnd.jupyter.widget-view+json": {
       "model_id": "91f55959116c425da5c7a2e0801d5b75",
       "version_major": 2,
       "version_minor": 0
      },
      "text/plain": [
       "Annual reports:   0%|          | 0/3 [00:00<?, ?report/s]"
      ]
     },
     "metadata": {},
     "output_type": "display_data"
    },
    {
     "name": "stdout",
     "output_type": "stream",
     "text": [
      "225220\n"
     ]
    },
    {
     "data": {
      "application/vnd.jupyter.widget-view+json": {
       "model_id": "e0f68a6f24374356861688cb512e9cc4",
       "version_major": 2,
       "version_minor": 0
      },
      "text/plain": [
       "Annual reports:   0%|          | 0/3 [00:00<?, ?report/s]"
      ]
     },
     "metadata": {},
     "output_type": "display_data"
    },
    {
     "name": "stdout",
     "output_type": "stream",
     "text": [
      "225530\n"
     ]
    },
    {
     "data": {
      "application/vnd.jupyter.widget-view+json": {
       "model_id": "1163a7c0a4cc43a5b1e388f00c550ce5",
       "version_major": 2,
       "version_minor": 0
      },
      "text/plain": [
       "Annual reports:   0%|          | 0/3 [00:00<?, ?report/s]"
      ]
     },
     "metadata": {},
     "output_type": "display_data"
    },
    {
     "name": "stdout",
     "output_type": "stream",
     "text": [
      "225850\n"
     ]
    },
    {
     "data": {
      "application/vnd.jupyter.widget-view+json": {
       "model_id": "15edfec1ea424e378a396b4adff184e4",
       "version_major": 2,
       "version_minor": 0
      },
      "text/plain": [
       "Annual reports:   0%|          | 0/3 [00:00<?, ?report/s]"
      ]
     },
     "metadata": {},
     "output_type": "display_data"
    },
    {
     "name": "stdout",
     "output_type": "stream",
     "text": [
      "226350\n",
      "227420\n",
      "227950\n",
      "228180\n",
      "229000\n"
     ]
    },
    {
     "data": {
      "application/vnd.jupyter.widget-view+json": {
       "model_id": "a505b1cafbe1497dbaafb239fda5ff74",
       "version_major": 2,
       "version_minor": 0
      },
      "text/plain": [
       "Annual reports:   0%|          | 0/3 [00:00<?, ?report/s]"
      ]
     },
     "metadata": {},
     "output_type": "display_data"
    },
    {
     "name": "stdout",
     "output_type": "stream",
     "text": [
      "229500\n"
     ]
    },
    {
     "data": {
      "application/vnd.jupyter.widget-view+json": {
       "model_id": "c0e7938acf40454eab7454af89c74706",
       "version_major": 2,
       "version_minor": 0
      },
      "text/plain": [
       "Annual reports:   0%|          | 0/3 [00:00<?, ?report/s]"
      ]
     },
     "metadata": {},
     "output_type": "display_data"
    },
    {
     "name": "stdout",
     "output_type": "stream",
     "text": [
      "232530\n"
     ]
    },
    {
     "data": {
      "application/vnd.jupyter.widget-view+json": {
       "model_id": "63256441c4d34e24bc5dce9d1341c1eb",
       "version_major": 2,
       "version_minor": 0
      },
      "text/plain": [
       "Annual reports:   0%|          | 0/3 [00:00<?, ?report/s]"
      ]
     },
     "metadata": {},
     "output_type": "display_data"
    },
    {
     "name": "stdout",
     "output_type": "stream",
     "text": [
      "232680\n"
     ]
    },
    {
     "data": {
      "application/vnd.jupyter.widget-view+json": {
       "model_id": "50d760c46d1f453f89d84a0cfc804db5",
       "version_major": 2,
       "version_minor": 0
      },
      "text/plain": [
       "Annual reports:   0%|          | 0/3 [00:00<?, ?report/s]"
      ]
     },
     "metadata": {},
     "output_type": "display_data"
    },
    {
     "name": "stdout",
     "output_type": "stream",
     "text": [
      "232830\n"
     ]
    },
    {
     "data": {
      "application/vnd.jupyter.widget-view+json": {
       "model_id": "7784851ca30b48a08d5155c38ec95bb2",
       "version_major": 2,
       "version_minor": 0
      },
      "text/plain": [
       "Annual reports:   0%|          | 0/3 [00:00<?, ?report/s]"
      ]
     },
     "metadata": {},
     "output_type": "display_data"
    },
    {
     "name": "stdout",
     "output_type": "stream",
     "text": [
      "234070\n"
     ]
    },
    {
     "data": {
      "application/vnd.jupyter.widget-view+json": {
       "model_id": "8fef3d9a0751490c91c1f8dbc22d9b8e",
       "version_major": 2,
       "version_minor": 0
      },
      "text/plain": [
       "Annual reports:   0%|          | 0/3 [00:00<?, ?report/s]"
      ]
     },
     "metadata": {},
     "output_type": "display_data"
    },
    {
     "name": "stdout",
     "output_type": "stream",
     "text": [
      "234080\n",
      "236340\n"
     ]
    },
    {
     "data": {
      "application/vnd.jupyter.widget-view+json": {
       "model_id": "622ea937d1b14d338a4e7101b547c64c",
       "version_major": 2,
       "version_minor": 0
      },
      "text/plain": [
       "Annual reports:   0%|          | 0/4 [00:00<?, ?report/s]"
      ]
     },
     "metadata": {},
     "output_type": "display_data"
    },
    {
     "name": "stdout",
     "output_type": "stream",
     "text": [
      "238500\n"
     ]
    },
    {
     "data": {
      "application/vnd.jupyter.widget-view+json": {
       "model_id": "146ec2e0c2b843ee8fcf36e291ec56ae",
       "version_major": 2,
       "version_minor": 0
      },
      "text/plain": [
       "Annual reports:   0%|          | 0/3 [00:00<?, ?report/s]"
      ]
     },
     "metadata": {},
     "output_type": "display_data"
    },
    {
     "name": "stdout",
     "output_type": "stream",
     "text": [
      "239890\n"
     ]
    },
    {
     "data": {
      "application/vnd.jupyter.widget-view+json": {
       "model_id": "5eaf1a908be54e1eb32c0c54f50b5fcd",
       "version_major": 2,
       "version_minor": 0
      },
      "text/plain": [
       "Annual reports:   0%|          | 0/3 [00:00<?, ?report/s]"
      ]
     },
     "metadata": {},
     "output_type": "display_data"
    },
    {
     "name": "stdout",
     "output_type": "stream",
     "text": [
      "240340\n"
     ]
    },
    {
     "data": {
      "application/vnd.jupyter.widget-view+json": {
       "model_id": "9c6ae3ff19bf47adbb08ca011dbc37e5",
       "version_major": 2,
       "version_minor": 0
      },
      "text/plain": [
       "Annual reports:   0%|          | 0/3 [00:00<?, ?report/s]"
      ]
     },
     "metadata": {},
     "output_type": "display_data"
    },
    {
     "name": "stdout",
     "output_type": "stream",
     "text": [
      "241510\n",
      "242350\n"
     ]
    },
    {
     "data": {
      "application/vnd.jupyter.widget-view+json": {
       "model_id": "ee4f9aa8eee441e0a0ea03fec09e59e7",
       "version_major": 2,
       "version_minor": 0
      },
      "text/plain": [
       "Annual reports:   0%|          | 0/3 [00:00<?, ?report/s]"
      ]
     },
     "metadata": {},
     "output_type": "display_data"
    },
    {
     "name": "stdout",
     "output_type": "stream",
     "text": [
      "243870\n"
     ]
    },
    {
     "data": {
      "application/vnd.jupyter.widget-view+json": {
       "model_id": "355e557fbafc4411b13f3f2d71f23929",
       "version_major": 2,
       "version_minor": 0
      },
      "text/plain": [
       "Annual reports:   0%|          | 0/3 [00:00<?, ?report/s]"
      ]
     },
     "metadata": {},
     "output_type": "display_data"
    },
    {
     "name": "stderr",
     "output_type": "stream",
     "text": [
      "C:\\Users\\choi97201\\anaconda3\\envs\\py37\\lib\\site-packages\\dart_fss\\fs\\extract.py:206: RuntimeWarning: Date data length does not match table header.So last date was set using last data(19000101). \n",
      "  warnings.warn(warnings_text, RuntimeWarning)\n"
     ]
    },
    {
     "name": "stdout",
     "output_type": "stream",
     "text": [
      "245450\n"
     ]
    },
    {
     "data": {
      "application/vnd.jupyter.widget-view+json": {
       "model_id": "000c0369a7c54230a1c1838f5d8e90b2",
       "version_major": 2,
       "version_minor": 0
      },
      "text/plain": [
       "Annual reports:   0%|          | 0/3 [00:00<?, ?report/s]"
      ]
     },
     "metadata": {},
     "output_type": "display_data"
    },
    {
     "name": "stdout",
     "output_type": "stream",
     "text": [
      "248170\n",
      "251280\n"
     ]
    },
    {
     "data": {
      "application/vnd.jupyter.widget-view+json": {
       "model_id": "7f1696308344416c843250c6e039a6da",
       "version_major": 2,
       "version_minor": 0
      },
      "text/plain": [
       "Annual reports:   0%|          | 0/3 [00:00<?, ?report/s]"
      ]
     },
     "metadata": {},
     "output_type": "display_data"
    },
    {
     "name": "stdout",
     "output_type": "stream",
     "text": [
      "251960\n",
      "258250\n"
     ]
    },
    {
     "data": {
      "application/vnd.jupyter.widget-view+json": {
       "model_id": "6800639187b544918aa8f05857dda024",
       "version_major": 2,
       "version_minor": 0
      },
      "text/plain": [
       "Annual reports:   0%|          | 0/3 [00:00<?, ?report/s]"
      ]
     },
     "metadata": {},
     "output_type": "display_data"
    },
    {
     "name": "stdout",
     "output_type": "stream",
     "text": [
      "258540\n"
     ]
    },
    {
     "data": {
      "application/vnd.jupyter.widget-view+json": {
       "model_id": "0c5f0cc6da8c40fabeb31bc9eed39f68",
       "version_major": 2,
       "version_minor": 0
      },
      "text/plain": [
       "Annual reports:   0%|          | 0/3 [00:00<?, ?report/s]"
      ]
     },
     "metadata": {},
     "output_type": "display_data"
    },
    {
     "name": "stdout",
     "output_type": "stream",
     "text": [
      "260970\n"
     ]
    },
    {
     "data": {
      "application/vnd.jupyter.widget-view+json": {
       "model_id": "a45e0d9c16964fe48a9573f924becd24",
       "version_major": 2,
       "version_minor": 0
      },
      "text/plain": [
       "Annual reports:   0%|          | 0/3 [00:00<?, ?report/s]"
      ]
     },
     "metadata": {},
     "output_type": "display_data"
    },
    {
     "name": "stdout",
     "output_type": "stream",
     "text": [
      "900040\n",
      "900070\n",
      "900110\n",
      "900140\n"
     ]
    }
   ],
   "source": [
    "done_list = main.getDoneList('new_dart_mh')\n",
    "std_df = data['fnguide2017']\n",
    "for code in code_list[10:]:\n",
    "    if code in done_list:\n",
    "        continue\n",
    "    print(code)\n",
    "    mh_data = getMHData(code, std_df, crp_list)\n",
    "    if mh_data is None:\n",
    "        continue"
   ]
  },
  {
   "cell_type": "markdown",
   "metadata": {},
   "source": [
    "# 주식수"
   ]
  },
  {
   "cell_type": "code",
   "execution_count": 52,
   "metadata": {},
   "outputs": [],
   "source": [
    "main.maria.createTable('stocks_20210304', ['종목코드', '보통주', '우선주'], ['VARCHAR(20)', 'FLOAT', 'FLOAT'])"
   ]
  },
  {
   "cell_type": "code",
   "execution_count": 1,
   "metadata": {},
   "outputs": [
    {
     "name": "stdout",
     "output_type": "stream",
     "text": [
      "005930\n",
      "000660\n",
      "005380\n",
      "005935\n",
      "015760\n",
      "012330\n",
      "035420\n",
      "028260\n",
      "032830\n",
      "005490\n",
      "055550\n",
      "090430\n",
      "017670\n",
      "105560\n",
      "051910\n",
      "034730\n",
      "000270\n",
      "033780\n",
      "096770\n",
      "051900\n",
      "000810\n",
      "011170\n",
      "068270\n",
      "034220\n",
      "009540\n",
      "002790\n",
      "018260\n",
      "003550\n",
      "207940\n",
      "010950\n",
      "086790\n",
      "010130\n",
      "000030\n",
      "066570\n",
      "030200\n",
      "035250\n",
      "004020\n",
      "006400\n",
      "161390\n",
      "024110\n",
      "023530\n",
      "021240\n",
      "047810\n",
      "086280\n",
      "088350\n",
      "018880\n",
      "001040\n",
      "036570\n",
      "035720\n",
      "004800\n",
      "139480\n",
      "078930\n",
      "032640\n",
      "000720\n",
      "097950\n",
      "009240\n",
      "029780\n",
      "036460\n",
      "005830\n",
      "000120\n",
      "009830\n",
      "027410\n",
      "001800\n",
      "002380\n",
      "009150\n",
      "005387\n",
      "007070\n",
      "010140\n",
      "241560\n",
      "008930\n",
      "012630\n",
      "012750\n",
      "128940\n",
      "047050\n",
      "000210\n",
      "034020\n",
      "138930\n",
      "001450\n",
      "026960\n",
      "130960\n",
      "005940\n",
      "088980\n",
      "000880\n",
      "069960\n",
      "004990\n",
      "011780\n",
      "051600\n",
      "016360\n",
      "005385\n",
      "006800\n",
      "037620\n",
      "071050\n",
      "012450\n",
      "007310\n",
      "000150\n",
      "000100\n",
      "204320\n",
      "090435\n",
      "028670\n",
      "047040\n",
      "011070\n",
      "004370\n",
      "028050\n",
      "086900\n",
      "003490\n",
      "011210\n",
      "000670\n",
      "000240\n",
      "016170\n",
      "041960\n",
      "006260\n",
      "036490\n",
      "008770\n",
      "006360\n",
      "010060\n",
      "120110\n",
      "006280\n",
      "042670\n",
      "030000\n",
      "005300\n",
      "006650\n",
      "079550\n",
      "004170\n",
      "008560\n",
      "001740\n",
      "000060\n",
      "139130\n",
      "084990\n",
      "006120\n",
      "039490\n",
      "001440\n",
      "138040\n",
      "002550\n",
      "003520\n",
      "064350\n",
      "005440\n",
      "079160\n",
      "000080\n",
      "005610\n",
      "014820\n",
      "017800\n",
      "161890\n",
      "003690\n",
      "051915\n",
      "010780\n",
      "082640\n",
      "111770\n",
      "010620\n",
      "073240\n",
      "057050\n",
      "003410\n",
      "114090\n",
      "192400\n",
      "002350\n",
      "011790\n",
      "042660\n",
      "006040\n",
      "011200\n",
      "002620\n",
      "010120\n",
      "051905\n",
      "056190\n",
      "018670\n",
      "214320\n",
      "103140\n",
      "001120\n",
      "028150\n",
      "078340\n",
      "005250\n",
      "068870\n",
      "034230\n",
      "039030\n",
      "003620\n",
      "240810\n",
      "145990\n",
      "192820\n",
      "145020\n",
      "003240\n",
      "001230\n",
      "105630\n",
      "000070\n",
      "035760\n",
      "036830\n",
      "071840\n",
      "001060\n",
      "003000\n",
      "181710\n",
      "185750\n",
      "000640\n",
      "014680\n",
      "096530\n",
      "001430\n",
      "001680\n",
      "180640\n",
      "046890\n",
      "052690\n",
      "175330\n",
      "102940\n",
      "008000\n",
      "170900\n",
      "002270\n",
      "069260\n",
      "214370\n",
      "022100\n",
      "048260\n",
      "020560\n",
      "020000\n",
      "108670\n",
      "108230\n",
      "237690\n",
      "053210\n",
      "215600\n",
      "025540\n",
      "009970\n",
      "023590\n",
      "081660\n",
      "115390\n",
      "069620\n",
      "007570\n",
      "004000\n",
      "071320\n",
      "039130\n",
      "095700\n",
      "054620\n",
      "049770\n",
      "068760\n",
      "226320\n",
      "085620\n",
      "006840\n",
      "005850\n",
      "037560\n",
      "002240\n",
      "034830\n",
      "064960\n",
      "001520\n",
      "003670\n",
      "002020\n",
      "123890\n",
      "000990\n",
      "019680\n",
      "009420\n",
      "192080\n",
      "093370\n",
      "034310\n",
      "058470\n",
      "089590\n",
      "000370\n",
      "060980\n",
      "033920\n",
      "085660\n",
      "012510\n",
      "222040\n",
      "006730\n",
      "093050\n",
      "005180\n",
      "003470\n",
      "098460\n",
      "039840\n",
      "100120\n",
      "007340\n",
      "000815\n",
      "053800\n",
      "006060\n",
      "021960\n",
      "002960\n",
      "065060\n",
      "003300\n",
      "031440\n",
      "064240\n",
      "024720\n",
      "041510\n",
      "091700\n",
      "072710\n",
      "025980\n",
      "003030\n",
      "192530\n",
      "029530\n",
      "009450\n",
      "200130\n",
      "020150\n",
      "005990\n",
      "096760\n",
      "051370\n",
      "029460\n",
      "043150\n",
      "017810\n",
      "053030\n",
      "003920\n",
      "003540\n",
      "069080\n",
      "004490\n",
      "003850\n",
      "101530\n",
      "030530\n",
      "095610\n",
      "138250\n",
      "237880\n",
      "058650\n",
      "003090\n",
      "086450\n",
      "036930\n",
      "065620\n",
      "005500\n",
      "023890\n",
      "034120\n",
      "005290\n",
      "115960\n",
      "210980\n",
      "031430\n",
      "028300\n",
      "001720\n",
      "122870\n",
      "051500\n",
      "006390\n",
      "015750\n",
      "048530\n",
      "049960\n",
      "108320\n",
      "009290\n",
      "126560\n",
      "082270\n",
      "036420\n",
      "066575\n",
      "083790\n",
      "025900\n",
      "206640\n",
      "036580\n",
      "078020\n",
      "017940\n",
      "008490\n",
      "032190\n",
      "078160\n",
      "067080\n",
      "030190\n",
      "104830\n",
      "005880\n",
      "000050\n",
      "025860\n",
      "044490\n",
      "016450\n",
      "009410\n",
      "005740\n",
      "070960\n",
      "241590\n",
      "004690\n",
      "178920\n",
      "005720\n",
      "017390\n",
      "004430\n",
      "215000\n",
      "119610\n",
      "025770\n",
      "079430\n",
      "078150\n",
      "084370\n",
      "092040\n",
      "182400\n",
      "161000\n",
      "099190\n",
      "214420\n",
      "033660\n",
      "001780\n",
      "008060\n",
      "037710\n",
      "014830\n",
      "213500\n",
      "016100\n",
      "042700\n",
      "015350\n",
      "013120\n",
      "900140\n",
      "016250\n",
      "214450\n",
      "030520\n",
      "213420\n",
      "014200\n",
      "085370\n",
      "005810\n",
      "016800\n",
      "200880\n",
      "023410\n",
      "064760\n",
      "00088K\n",
      "243070\n",
      "102460\n",
      "112040\n",
      "101060\n",
      "122900\n",
      "084690\n",
      "225530\n",
      "041830\n",
      "109610\n",
      "094800\n",
      "115450\n",
      "024660\n",
      "080160\n",
      "016380\n",
      "201490\n",
      "003530\n",
      "044820\n",
      "097230\n",
      "002795\n",
      "192440\n",
      "065160\n",
      "036540\n",
      "086980\n",
      "141080\n",
      "003800\n",
      "008730\n",
      "066970\n",
      "003220\n",
      "089600\n",
      "058820\n",
      "001630\n",
      "002320\n",
      "000480\n",
      "168330\n",
      "004710\n",
      "104700\n",
      "002990\n",
      "025620\n",
      "249420\n",
      "108790\n",
      "102710\n",
      "080420\n",
      "038500\n",
      "032350\n",
      "214390\n",
      "084110\n",
      "121440\n",
      "002390\n",
      "036800\n",
      "001725\n",
      "115160\n",
      "003120\n",
      "001510\n",
      "035810\n",
      "005090\n",
      "010050\n",
      "100130\n",
      "000400\n",
      "095720\n",
      "035600\n",
      "152330\n",
      "900290\n",
      "007160\n",
      "007210\n",
      "007690\n",
      "002780\n",
      "015860\n",
      "078520\n",
      "031390\n",
      "067290\n",
      "063080\n",
      "030610\n",
      "107590\n",
      "003060\n",
      "019170\n",
      "122990\n",
      "090470\n",
      "171120\n",
      "123100\n",
      "068240\n",
      "089140\n",
      "004150\n",
      "038540\n",
      "141000\n",
      "160550\n",
      "003230\n",
      "009680\n",
      "033240\n",
      "095570\n",
      "001130\n",
      "112610\n",
      "005690\n",
      "003570\n",
      "041140\n",
      "033270\n",
      "241710\n",
      "089470\n",
      "003200\n",
      "035080\n",
      "088390\n",
      "040910\n",
      "038290\n",
      "016580\n",
      "040350\n",
      "200670\n",
      "057500\n",
      "004360\n",
      "002810\n",
      "011760\n",
      "000140\n",
      "114570\n",
      "033290\n",
      "000155\n",
      "025000\n",
      "013030\n",
      "006910\n",
      "228850\n",
      "004700\n",
      "079980\n",
      "102260\n",
      "002250\n",
      "001500\n",
      "092230\n",
      "900300\n",
      "054670\n",
      "000430\n",
      "088130\n",
      "031980\n",
      "002000\n",
      "049180\n",
      "074430\n",
      "006380\n",
      "054950\n",
      "036630\n",
      "060720\n",
      "002630\n",
      "052260\n",
      "222800\n",
      "007700\n",
      "007810\n",
      "067160\n",
      "003560\n",
      "012320\n",
      "183490\n",
      "017960\n",
      "090460\n",
      "004130\n",
      "136480\n",
      "102280\n",
      "144510\n",
      "000250\n",
      "001880\n",
      "027050\n",
      "086390\n",
      "001250\n",
      "115180\n",
      "014620\n",
      "013990\n",
      "009580\n",
      "067390\n",
      "000390\n",
      "007860\n",
      "043370\n",
      "036530\n",
      "004440\n",
      "012690\n",
      "089030\n",
      "138490\n",
      "005950\n",
      "095660\n",
      "200230\n",
      "001460\n",
      "900260\n",
      "002900\n",
      "039570\n",
      "011040\n",
      "087010\n",
      "060300\n",
      "005680\n",
      "067000\n",
      "183190\n",
      "000680\n",
      "000540\n",
      "014470\n",
      "007390\n",
      "004250\n",
      "018120\n",
      "001200\n",
      "000860\n",
      "060250\n",
      "074600\n",
      "084010\n",
      "036030\n",
      "004060\n",
      "004970\n",
      "900270\n",
      "086520\n",
      "011370\n",
      "950140\n",
      "078070\n",
      "114120\n",
      "097955\n",
      "035150\n",
      "004840\n",
      "082740\n",
      "054050\n",
      "005160\n",
      "064260\n",
      "136490\n",
      "137940\n",
      "000020\n",
      "004380\n",
      "000970\n",
      "001940\n",
      "002030\n",
      "010690\n",
      "011160\n",
      "005389\n",
      "010955\n",
      "084680\n",
      "035890\n",
      "011280\n",
      "015360\n",
      "060150\n",
      "193250\n",
      "011930\n",
      "000180\n",
      "195870\n",
      "023160\n",
      "019210\n",
      "109740\n",
      "052330\n",
      "194370\n",
      "013520\n",
      "061460\n",
      "234080\n",
      "067830\n",
      "095340\n",
      "002450\n",
      "900250\n",
      "052710\n",
      "900120\n",
      "004540\n",
      "001790\n",
      "036190\n",
      "215360\n",
      "095270\n",
      "069110\n",
      "092200\n",
      "114810\n",
      "168490\n",
      "068790\n",
      "033560\n",
      "082920\n",
      "005960\n",
      "045100\n",
      "100220\n",
      "000320\n",
      "018310\n",
      "143240\n",
      "196170\n",
      "033160\n",
      "005110\n",
      "238090\n",
      "123690\n",
      "046210\n",
      "004890\n",
      "027390\n",
      "012610\n",
      "118000\n",
      "143210\n",
      "093920\n",
      "054780\n",
      "077500\n",
      "036890\n",
      "190510\n",
      "123420\n",
      "077360\n",
      "001270\n",
      "092730\n",
      "205500\n",
      "900280\n",
      "019440\n",
      "017890\n",
      "037950\n",
      "007820\n",
      "046440\n",
      "203690\n",
      "033530\n",
      "014280\n",
      "003545\n",
      "011000\n",
      "100700\n",
      "005870\n",
      "067280\n",
      "005980\n",
      "016090\n",
      "034950\n",
      "052400\n",
      "191420\n",
      "140410\n",
      "044450\n",
      "100250\n",
      "004560\n",
      "013570\n",
      "000230\n",
      "023430\n",
      "003070\n",
      "083310\n",
      "068400\n",
      "103590\n",
      "002840\n",
      "060560\n",
      "060590\n",
      "039200\n",
      "166480\n",
      "008600\n",
      "084870\n",
      "086960\n",
      "038060\n",
      "033640\n",
      "144960\n",
      "041440\n",
      "005390\n",
      "072020\n",
      "091090\n",
      "230360\n",
      "214180\n",
      "058430\n",
      "021320\n",
      "035620\n",
      "065660\n",
      "010820\n",
      "021820\n",
      "092070\n",
      "031330\n",
      "030210\n",
      "012700\n",
      "034300\n",
      "046140\n",
      "117580\n",
      "220630\n",
      "002360\n",
      "007660\n",
      "187420\n",
      "049070\n",
      "104480\n",
      "003460\n",
      "060240\n",
      "049120\n",
      "025560\n",
      "004720\n",
      "229640\n",
      "038880\n",
      "104200\n",
      "069640\n",
      "090350\n",
      "001390\n",
      "200780\n",
      "066790\n",
      "097520\n",
      "015710\n",
      "016880\n",
      "000490\n",
      "024950\n",
      "009440\n",
      "006220\n",
      "014910\n",
      "001045\n",
      "007980\n",
      "002460\n",
      "060570\n",
      "004980\n",
      "035900\n",
      "005710\n",
      "065680\n",
      "071200\n",
      "023910\n",
      "001540\n",
      "014100\n",
      "002140\n",
      "086890\n",
      "001360\n",
      "048430\n",
      "950130\n",
      "053450\n",
      "194480\n",
      "063170\n",
      "121600\n",
      "002150\n",
      "004650\n",
      "003650\n",
      "012200\n",
      "002310\n",
      "095500\n",
      "080000\n",
      "066700\n",
      "065510\n",
      "042040\n",
      "004960\n",
      "199800\n",
      "016710\n",
      "102120\n",
      "042520\n",
      "073560\n",
      "048410\n",
      "037460\n",
      "075180\n",
      "063570\n",
      "043580\n",
      "002170\n",
      "092130\n",
      "101490\n",
      "096630\n",
      "011690\n",
      "094480\n",
      "043290\n",
      "052420\n",
      "130660\n",
      "038390\n",
      "054800\n",
      "014790\n",
      "016600\n",
      "033500\n",
      "050110\n",
      "051780\n",
      "005800\n",
      "096640\n",
      "002300\n",
      "134380\n",
      "217730\n",
      "026890\n",
      "002880\n",
      "053300\n",
      "077970\n",
      "000040\n",
      "900040\n",
      "228340\n",
      "052790\n",
      "058400\n",
      "043610\n",
      "065150\n",
      "222110\n",
      "006370\n",
      "066910\n",
      "053980\n",
      "227840\n",
      "026040\n",
      "123860\n",
      "007720\n",
      "003480\n",
      "131030\n",
      "000700\n",
      "155660\n",
      "049950\n",
      "163560\n",
      "003160\n",
      "239610\n",
      "012170\n",
      "024090\n",
      "039440\n",
      "020760\n",
      "018700\n",
      "042420\n",
      "029960\n",
      "041650\n",
      "004910\n",
      "236200\n",
      "221840\n",
      "064800\n",
      "008290\n",
      "217270\n",
      "091120\n",
      "006490\n",
      "067370\n",
      "02826K\n",
      "061970\n",
      "092440\n",
      "001380\n",
      "039560\n",
      "078890\n",
      "224060\n",
      "192250\n",
      "041920\n",
      "085310\n",
      "035610\n",
      "051360\n",
      "017040\n",
      "079370\n",
      "032620\n",
      "065940\n",
      "023000\n",
      "011090\n",
      "015890\n",
      "214430\n",
      "048550\n",
      "248170\n",
      "058530\n",
      "060280\n",
      "053350\n",
      "090360\n",
      "027830\n",
      "003830\n",
      "104540\n",
      "111820\n",
      "143540\n",
      "009300\n",
      "045390\n",
      "071055\n",
      "009160\n",
      "097780\n",
      "016610\n",
      "001530\n",
      "027710\n",
      "053590\n",
      "101330\n",
      "038870\n",
      "041590\n",
      "003280\n",
      "126600\n",
      "044340\n",
      "004310\n",
      "039980\n",
      "057030\n",
      "100840\n",
      "204990\n",
      "072470\n",
      "004200\n",
      "034590\n",
      "035000\n",
      "094280\n",
      "005430\n",
      "012160\n",
      "072870\n",
      "152550\n",
      "017900\n",
      "204630\n",
      "015260\n",
      "036560\n",
      "034810\n",
      "222420\n",
      "033170\n",
      "012030\n",
      "900100\n",
      "067630\n",
      "099320\n",
      "216050\n",
      "108380\n",
      "002820\n",
      "123410\n",
      "093190\n",
      "211270\n",
      "079950\n",
      "041460\n",
      "078140\n",
      "009310\n",
      "151860\n",
      "047770\n",
      "122640\n",
      "008350\n",
      "024800\n",
      "034940\n",
      "033320\n",
      "023760\n",
      "136540\n",
      "014440\n",
      "000650\n",
      "003555\n",
      "005750\n",
      "066620\n",
      "058860\n",
      "068330\n",
      "006090\n",
      "002700\n",
      "052020\n",
      "087600\n",
      "048910\n",
      "009520\n",
      "005945\n",
      "043710\n",
      "069510\n",
      "069730\n",
      "000890\n",
      "082210\n",
      "023600\n",
      "019660\n",
      "024810\n",
      "014710\n",
      "013580\n",
      "035510\n",
      "002100\n",
      "047310\n",
      "204840\n",
      "067170\n",
      "020710\n",
      "900050\n",
      "039290\n",
      "040610\n",
      "025750\n",
      "096240\n",
      "017180\n",
      "011150\n",
      "900080\n",
      "900180\n",
      "003350\n",
      "043650\n",
      "047400\n",
      "032560\n",
      "159580\n",
      "063160\n",
      "089230\n",
      "039860\n",
      "111870\n",
      "234920\n",
      "037270\n",
      "013310\n",
      "096690\n",
      "041910\n",
      "173940\n",
      "018500\n",
      "066270\n",
      "040420\n",
      "032500\n",
      "099660\n",
      "001020\n",
      "089980\n",
      "066980\n",
      "054210\n",
      "075580\n",
      "138690\n",
      "022220\n",
      "049480\n",
      "003100\n",
      "004770\n",
      "064550\n",
      "067310\n",
      "060260\n",
      "031510\n",
      "046070\n",
      "208640\n",
      "049520\n",
      "047080\n",
      "037230\n",
      "105840\n",
      "065650\n",
      "109960\n",
      "117670\n",
      "035480\n",
      "001570\n",
      "094850\n",
      "147830\n",
      "058610\n",
      "060310\n",
      "061250\n",
      "051170\n",
      "000215\n",
      "189300\n",
      "112240\n",
      "140860\n",
      "041520\n",
      "149940\n",
      "126700\n",
      "058220\n",
      "002920\n",
      "054450\n",
      "122450\n",
      "016670\n",
      "014530\n",
      "106240\n",
      "129260\n",
      "003080\n",
      "225650\n",
      "066110\n",
      "042370\n",
      "018470\n",
      "039830\n",
      "185490\n",
      "036710\n",
      "069920\n",
      "039790\n",
      "160600\n",
      "009770\n",
      "026180\n",
      "056090\n",
      "101170\n",
      "078000\n",
      "068290\n",
      "194510\n",
      "004870\n",
      "043200\n",
      "001820\n",
      "084730\n",
      "005860\n",
      "000850\n",
      "067570\n",
      "233990\n",
      "225330\n",
      "065130\n",
      "028100\n",
      "093240\n",
      "071460\n",
      "009200\n",
      "137950\n",
      "025440\n",
      "033130\n",
      "002600\n",
      "014970\n",
      "033110\n",
      "017550\n",
      "131370\n",
      "040160\n",
      "096775\n",
      "021080\n",
      "180400\n",
      "025320\n",
      "103130\n",
      "064520\n",
      "008970\n",
      "004780\n",
      "060370\n",
      "003960\n",
      "012790\n",
      "030350\n",
      "020180\n",
      "008040\n",
      "050890\n",
      "007110\n",
      "024890\n",
      "053610\n",
      "900070\n",
      "056700\n",
      "143160\n",
      "005010\n",
      "122350\n",
      "170920\n",
      "008250\n",
      "214270\n",
      "091970\n",
      "057540\n",
      "050090\n",
      "058850\n",
      "036000\n",
      "083930\n",
      "149980\n",
      "067990\n",
      "048870\n",
      "106190\n",
      "059210\n",
      "045970\n",
      "155650\n",
      "205100\n",
      "019770\n",
      "142280\n",
      "215200\n",
      "128820\n",
      "071670\n",
      "071280\n",
      "027740\n",
      "040300\n",
      "127710\n",
      "014990\n",
      "053620\n",
      "049430\n",
      "145270\n",
      "009780\n",
      "149950\n",
      "049470\n",
      "079960\n",
      "206560\n",
      "058630\n",
      "005190\n",
      "210540\n",
      "065420\n",
      "054040\n",
      "053280\n",
      "009270\n",
      "189980\n",
      "006980\n",
      "027580\n",
      "011500\n",
      "002230\n",
      "081000\n",
      "208140\n",
      "004830\n",
      "123330\n",
      "216400\n",
      "014160\n",
      "053260\n"
     ]
    },
    {
     "name": "stdout",
     "output_type": "stream",
     "text": [
      "161570\n",
      "019685\n",
      "007590\n",
      "241790\n",
      "009070\n",
      "036200\n",
      "131970\n",
      "080520\n",
      "004080\n",
      "133750\n",
      "094360\n",
      "088910\n",
      "084670\n",
      "156100\n",
      "049080\n",
      "059100\n",
      "036010\n",
      "084180\n",
      "147760\n",
      "080220\n",
      "031860\n",
      "004450\n",
      "066900\n",
      "058450\n",
      "015230\n",
      "038680\n",
      "049630\n",
      "069330\n",
      "011700\n",
      "042110\n",
      "079650\n",
      "160980\n",
      "053690\n",
      "047820\n",
      "050540\n",
      "024910\n",
      "099440\n",
      "216280\n",
      "030960\n",
      "049830\n",
      "003610\n",
      "092460\n",
      "001070\n",
      "039340\n",
      "045660\n",
      "058730\n",
      "108860\n",
      "021050\n",
      "085810\n",
      "229500\n",
      "092870\n",
      "013870\n",
      "123700\n",
      "016590\n",
      "002210\n",
      "092600\n",
      "066410\n",
      "100090\n",
      "023900\n",
      "095190\n",
      "123840\n",
      "207760\n",
      "019550\n",
      "000590\n",
      "069410\n",
      "045510\n",
      "054540\n",
      "083420\n",
      "048770\n",
      "006570\n",
      "056080\n",
      "038460\n",
      "144620\n",
      "036180\n",
      "018000\n",
      "078860\n",
      "000500\n",
      "001750\n",
      "006660\n",
      "025880\n",
      "033100\n",
      "083650\n",
      "187220\n",
      "120030\n",
      "032850\n",
      "012800\n",
      "038070\n",
      "095910\n",
      "052770\n",
      "019540\n",
      "208370\n",
      "036670\n",
      "105550\n",
      "117930\n",
      "047560\n",
      "178780\n",
      "043100\n",
      "014130\n",
      "226350\n",
      "001340\n",
      "008260\n",
      "092220\n",
      "066590\n",
      "068930\n",
      "036690\n",
      "008870\n",
      "084650\n",
      "007330\n",
      "011785\n",
      "052290\n",
      "142210\n",
      "131290\n",
      "094840\n",
      "037330\n",
      "063760\n",
      "006405\n",
      "008700\n",
      "110570\n",
      "079660\n",
      "079970\n",
      "039230\n",
      "065950\n",
      "028080\n",
      "023450\n",
      "052220\n",
      "032800\n",
      "024120\n",
      "010960\n",
      "120115\n",
      "068150\n",
      "155960\n",
      "214680\n",
      "217950\n",
      "053700\n",
      "012280\n",
      "018290\n",
      "006340\n",
      "033540\n",
      "017510\n",
      "019570\n",
      "032790\n",
      "059090\n",
      "133820\n",
      "011560\n",
      "089010\n",
      "088800\n",
      "014940\n",
      "005305\n",
      "203400\n",
      "038160\n",
      "032080\n",
      "080530\n",
      "004100\n",
      "033180\n",
      "017650\n",
      "134780\n",
      "000300\n",
      "114630\n",
      "130580\n",
      "064480\n",
      "010100\n",
      "115310\n",
      "012860\n",
      "042510\n",
      "101390\n",
      "016740\n",
      "037760\n",
      "131390\n",
      "010280\n",
      "065530\n",
      "007120\n",
      "025820\n",
      "196490\n",
      "065450\n",
      "086040\n",
      "137400\n",
      "025550\n",
      "076610\n",
      "011330\n",
      "246690\n",
      "079190\n",
      "017680\n",
      "037350\n",
      "005360\n",
      "900110\n",
      "003310\n",
      "001080\n",
      "144630\n",
      "950110\n",
      "052300\n",
      "122690\n",
      "014580\n",
      "049800\n",
      "007540\n",
      "083640\n",
      "036090\n",
      "099830\n",
      "007610\n",
      "079940\n",
      "066670\n",
      "011810\n",
      "079810\n",
      "214310\n",
      "170030\n",
      "065570\n",
      "025530\n",
      "138080\n",
      "023800\n",
      "005070\n",
      "033830\n",
      "03473K\n",
      "018620\n",
      "024840\n",
      "119650\n",
      "009155\n",
      "030270\n",
      "046310\n",
      "006880\n",
      "081580\n",
      "043340\n",
      "041930\n",
      "229000\n",
      "006805\n",
      "900130\n",
      "120240\n",
      "002720\n",
      "006125\n",
      "027040\n",
      "142760\n",
      "041020\n",
      "206400\n",
      "043090\n",
      "008800\n",
      "039420\n",
      "032960\n",
      "089850\n",
      "071850\n",
      "015590\n",
      "037070\n",
      "005620\n",
      "104040\n",
      "032040\n",
      "006140\n",
      "145210\n",
      "015020\n",
      "006050\n",
      "083660\n",
      "097870\n",
      "094820\n",
      "001620\n",
      "035290\n",
      "106520\n",
      "138360\n",
      "009320\n",
      "065170\n",
      "024880\n",
      "159910\n",
      "001810\n",
      "053290\n",
      "066130\n",
      "153490\n",
      "039310\n",
      "221980\n",
      "046390\n",
      "044380\n",
      "196300\n",
      "032940\n",
      "066310\n",
      "036170\n",
      "005030\n",
      "013810\n",
      "154040\n",
      "191410\n",
      "900090\n",
      "049550\n",
      "177350\n",
      "014570\n",
      "096610\n",
      "208860\n",
      "010040\n",
      "037440\n",
      "089530\n",
      "150440\n",
      "080010\n",
      "090730\n",
      "089150\n",
      "002200\n",
      "192390\n",
      "114450\n",
      "001260\n",
      "039010\n",
      "109860\n",
      "050120\n",
      "073110\n",
      "083470\n",
      "037370\n",
      "062860\n",
      "014190\n",
      "086670\n",
      "010170\n",
      "223310\n",
      "011320\n",
      "090080\n",
      "134580\n",
      "104110\n",
      "017000\n",
      "119850\n",
      "036810\n",
      "002760\n",
      "044960\n",
      "090850\n",
      "220250\n",
      "033200\n",
      "222980\n",
      "024830\n",
      "010470\n",
      "052670\n",
      "017370\n",
      "025950\n",
      "065560\n",
      "017480\n",
      "038950\n",
      "018680\n",
      "241690\n",
      "023350\n",
      "009460\n",
      "052900\n",
      "033230\n",
      "096040\n",
      "093320\n",
      "006740\n",
      "011080\n",
      "088790\n",
      "126870\n",
      "003547\n",
      "131180\n",
      "140520\n",
      "009730\n",
      "004090\n",
      "123040\n",
      "208710\n",
      "094170\n",
      "072130\n",
      "007190\n",
      "053160\n",
      "023810\n",
      "237720\n",
      "007630\n",
      "004140\n",
      "004270\n",
      "073070\n",
      "123750\n",
      "021040\n",
      "033340\n",
      "091590\n",
      "043220\n",
      "241520\n",
      "044060\n",
      "131760\n",
      "054220\n",
      "101240\n",
      "001210\n",
      "009810\n",
      "046940\n",
      "121800\n",
      "078130\n",
      "000157\n",
      "176750\n",
      "054940\n",
      "082850\n",
      "036640\n",
      "115500\n",
      "187270\n",
      "227420\n",
      "004740\n",
      "101730\n",
      "054090\n",
      "210120\n",
      "031310\n",
      "065350\n",
      "138070\n",
      "061040\n",
      "104120\n",
      "004590\n",
      "042500\n",
      "046110\n",
      "224110\n",
      "046120\n",
      "002410\n",
      "024070\n",
      "001840\n",
      "067900\n",
      "000910\n",
      "096300\n",
      "053950\n",
      "001560\n",
      "228760\n",
      "115610\n",
      "050960\n",
      "075130\n",
      "083550\n",
      "141020\n",
      "214330\n",
      "017250\n",
      "007370\n",
      "050860\n",
      "047920\n",
      "126640\n",
      "123570\n",
      "026940\n",
      "078935\n",
      "001000\n",
      "010240\n",
      "006890\n",
      "002070\n",
      "238120\n",
      "195990\n",
      "063440\n",
      "044480\n",
      "032540\n",
      "053050\n",
      "196450\n",
      "045060\n",
      "065710\n",
      "175140\n",
      "237750\n",
      "214610\n",
      "101000\n",
      "090740\n",
      "184230\n",
      "220180\n",
      "030790\n",
      "100660\n",
      "005670\n",
      "011420\n",
      "064820\n",
      "023150\n",
      "108675\n",
      "038110\n",
      "003780\n",
      "072990\n",
      "024900\n",
      "035200\n",
      "098120\n",
      "08537M\n",
      "000220\n",
      "208350\n",
      "221610\n",
      "032680\n",
      "051490\n",
      "102210\n",
      "001275\n",
      "056360\n",
      "085910\n",
      "008370\n",
      "136510\n",
      "039240\n",
      "002690\n",
      "038010\n",
      "001290\n",
      "060540\n",
      "187790\n",
      "052600\n",
      "008420\n",
      "176440\n",
      "023460\n",
      "003580\n",
      "019010\n",
      "042600\n",
      "068940\n",
      "197210\n",
      "056000\n",
      "078650\n",
      "002290\n",
      "041190\n",
      "196700\n",
      "012340\n",
      "174880\n",
      "002710\n",
      "001550\n",
      "043910\n",
      "075970\n",
      "053110\n",
      "073490\n",
      "200470\n",
      "177830\n",
      "000760\n",
      "032820\n",
      "005420\n",
      "126880\n",
      "182360\n",
      "086830\n",
      "104460\n",
      "052460\n",
      "003720\n",
      "010770\n",
      "220100\n",
      "150840\n",
      "097800\n",
      "065690\n",
      "037400\n",
      "093520\n",
      "003010\n",
      "065500\n",
      "115570\n",
      "013000\n",
      "028040\n",
      "045890\n",
      "109820\n",
      "002680\n",
      "004410\n",
      "170790\n",
      "099220\n",
      "094970\n",
      "057680\n",
      "011300\n",
      "093230\n",
      "001470\n",
      "079000\n",
      "036260\n",
      "007770\n",
      "109070\n",
      "024060\n",
      "035460\n",
      "090150\n",
      "067730\n",
      "078940\n",
      "083450\n",
      "051390\n",
      "002220\n",
      "250300\n",
      "054920\n",
      "131400\n",
      "119500\n",
      "006920\n",
      "203450\n",
      "213090\n",
      "124500\n",
      "003465\n",
      "189690\n",
      "033310\n",
      "005820\n",
      "217820\n",
      "071950\n",
      "009190\n",
      "007280\n",
      "039670\n",
      "150900\n",
      "013700\n",
      "069540\n",
      "122800\n",
      "006580\n",
      "057880\n",
      "234070\n",
      "195440\n",
      "115480\n",
      "087220\n",
      "078600\n",
      "139050\n",
      "081150\n",
      "032580\n",
      "086060\n",
      "036480\n",
      "008110\n",
      "189860\n",
      "068050\n",
      "085670\n",
      "033790\n",
      "043590\n",
      "229480\n",
      "066430\n",
      "008470\n",
      "023960\n",
      "106080\n",
      "128660\n",
      "082800\n",
      "217190\n",
      "032750\n",
      "010660\n",
      "219750\n",
      "050760\n",
      "121850\n",
      "005320\n",
      "171010\n",
      "226610\n",
      "019590\n",
      "013360\n",
      "032860\n",
      "020120\n",
      "053270\n",
      "033050\n",
      "026150\n",
      "074610\n",
      "090410\n",
      "033430\n",
      "031820\n",
      "054410\n",
      "010580\n",
      "076080\n",
      "065440\n",
      "119860\n",
      "131220\n",
      "067920\n",
      "060480\n",
      "000520\n",
      "158310\n",
      "044180\n",
      "200710\n",
      "051980\n",
      "090370\n",
      "069460\n",
      "094190\n",
      "009180\n",
      "038620\n",
      "067010\n",
      "012620\n",
      "079170\n",
      "003680\n",
      "054300\n",
      "072770\n",
      "051630\n",
      "183350\n",
      "091580\n",
      "039020\n",
      "155900\n",
      "134790\n",
      "047440\n",
      "090710\n",
      "007460\n",
      "000950\n",
      "006110\n",
      "105740\n",
      "019990\n",
      "052190\n",
      "043360\n",
      "039740\n",
      "006200\n",
      "054180\n",
      "026260\n",
      "024740\n",
      "154030\n",
      "032980\n",
      "039610\n",
      "023790\n",
      "082660\n",
      "046970\n",
      "059120\n",
      "032280\n",
      "101160\n",
      "127120\n",
      "010420\n",
      "101670\n",
      "027970\n",
      "036120\n",
      "182690\n",
      "060900\n",
      "071090\n",
      "101930\n",
      "064090\n",
      "114190\n",
      "093380\n",
      "011390\n",
      "113810\n",
      "130740\n",
      "139670\n",
      "072950\n",
      "192410\n",
      "101140\n",
      "072520\n",
      "070590\n",
      "003925\n",
      "138610\n",
      "217880\n",
      "078350\n",
      "105330\n",
      "238500\n",
      "021650\n",
      "048470\n",
      "019180\n",
      "048830\n",
      "153460\n",
      "091340\n",
      "012600\n",
      "204690\n",
      "005255\n",
      "115440\n",
      "038530\n",
      "030720\n",
      "141070\n",
      "036620\n",
      "093640\n",
      "053660\n",
      "214870\n",
      "023440\n",
      "206950\n",
      "123260\n",
      "065770\n",
      "049720\n",
      "070300\n",
      "100030\n",
      "025890\n",
      "054930\n",
      "000440\n",
      "109080\n",
      "092300\n",
      "000105\n",
      "200580\n",
      "236340\n",
      "045520\n",
      "058370\n",
      "005450\n",
      "004920\n",
      "094940\n",
      "064290\n",
      "052860\n",
      "001465\n",
      "204210\n",
      "060380\n",
      "009470\n",
      "140890\n",
      "212560\n",
      "094860\n",
      "222810\n",
      "134060\n",
      "219130\n",
      "050320\n",
      "044990\n",
      "103230\n",
      "016920\n",
      "101400\n",
      "073010\n",
      "009140\n",
      "043260\n",
      "009620\n",
      "021880\n",
      "194610\n",
      "101680\n",
      "029480\n",
      "007530\n",
      "008500\n",
      "178600\n",
      "038340\n",
      "077280\n",
      "015540\n",
      "002355\n",
      "131090\n",
      "131100\n",
      "148250\n",
      "044780\n",
      "080580\n",
      "089890\n",
      "130500\n",
      "221800\n",
      "073540\n",
      "033250\n",
      "119830\n",
      "098660\n",
      "025870\n",
      "045340\n",
      "054340\n",
      "002870\n",
      "153360\n",
      "001420\n",
      "215050\n",
      "054630\n",
      "058110\n",
      "080470\n",
      "001770\n",
      "045300\n",
      "172580\n",
      "099340\n",
      "051380\n",
      "081970\n",
      "232680\n",
      "010600\n",
      "212310\n",
      "023770\n",
      "024940\n",
      "088290\n",
      "091440\n",
      "078590\n",
      "232360\n",
      "156170\n",
      "096350\n",
      "004365\n",
      "101360\n",
      "053060\n",
      "232140\n",
      "058420\n",
      "067770\n",
      "086250\n",
      "019490\n",
      "240340\n",
      "121890\n",
      "003475\n",
      "026910\n",
      "013720\n",
      "256090\n",
      "011230\n",
      "024850\n",
      "099520\n",
      "036500\n",
      "042940\n",
      "073190\n",
      "073640\n",
      "127160\n",
      "071970\n",
      "056730\n",
      "232270\n",
      "002025\n",
      "089790\n",
      "123010\n",
      "087730\n",
      "198940\n",
      "069140\n",
      "199290\n",
      "085980\n",
      "230980\n",
      "246250\n",
      "233190\n",
      "241510\n",
      "080440\n",
      "051160\n",
      "253840\n",
      "073570\n",
      "095300\n",
      "202960\n",
      "116100\n",
      "242350\n",
      "099410\n",
      "115530\n",
      "225850\n",
      "086220\n",
      "228180\n",
      "008830\n",
      "002420\n",
      "224810\n",
      "066830\n",
      "010640\n",
      "008775\n",
      "222670\n",
      "186230\n",
      "199150\n",
      "208850\n",
      "112190\n",
      "139200\n",
      "096870\n",
      "060230\n",
      "232290\n",
      "151910\n",
      "224760\n",
      "062580\n",
      "064850\n",
      "001140\n",
      "258250\n",
      "140910\n",
      "232530\n",
      "033600\n",
      "167380\n",
      "191600\n",
      "000087\n",
      "222390\n",
      "256940\n",
      "226850\n",
      "159650\n",
      "243870\n",
      "225220\n",
      "215570\n",
      "242420\n",
      "000075\n",
      "145995\n",
      "126340\n",
      "158300\n",
      "014915\n",
      "138290\n",
      "200350\n",
      "226400\n",
      "020400\n",
      "005257\n",
      "225570\n",
      "005725\n",
      "140290\n",
      "001685\n",
      "135160\n",
      "235090\n",
      "239890\n",
      "009415\n",
      "230240\n",
      "004255\n",
      "199870\n",
      "004135\n",
      "220110\n",
      "086460\n",
      "076340\n",
      "005745\n",
      "004105\n",
      "217620\n",
      "227950\n",
      "058970\n",
      "211050\n",
      "251280\n",
      "009835\n",
      "189700\n",
      "222080\n",
      "242040\n",
      "219860\n",
      "251960\n",
      "217600\n",
      "198440\n",
      "003495\n",
      "215790\n",
      "232830\n",
      "218410\n",
      "260970\n",
      "120780\n",
      "222160\n",
      "221950\n",
      "256840\n",
      "221200\n",
      "218710\n",
      "219420\n",
      "252370\n",
      "007815\n",
      "148780\n",
      "226340\n",
      "219960\n",
      "250060\n",
      "245030\n",
      "223220\n",
      "234100\n",
      "083570\n",
      "083600\n",
      "083590\n",
      "083580\n",
      "215750\n",
      "194860\n",
      "219550\n",
      "230400\n",
      "204620\n",
      "136660\n",
      "246830\n",
      "204440\n",
      "173130\n",
      "107640\n",
      "203650\n",
      "007575\n",
      "252940\n",
      "204650\n",
      "204760\n",
      "135270\n",
      "205470\n",
      "114920\n",
      "215380\n",
      "215090\n",
      "214150\n",
      "103660\n",
      "052270\n",
      "240540\n",
      "207930\n",
      "092590\n",
      "223040\n",
      "224020\n",
      "215580\n",
      "252500\n",
      "197140\n",
      "217320\n",
      "226360\n",
      "245450\n",
      "068875\n",
      "230490\n",
      "250930\n",
      "225590\n",
      "189350\n",
      "239340\n",
      "002005\n",
      "140660\n",
      "083610\n",
      "083620\n",
      "235010\n",
      "217810\n",
      "219580\n",
      "121060\n",
      "021045\n",
      "260490\n",
      "217500\n",
      "225430\n",
      "165270\n",
      "254120\n",
      "003535\n",
      "019175\n",
      "000885\n",
      "001525\n",
      "226440\n",
      "258540\n",
      "225440\n",
      "001795\n",
      "006345\n",
      "206660\n",
      "149010\n",
      "215480\n",
      "218150\n",
      "232330\n",
      "014825\n",
      "000225\n",
      "083370\n",
      "083390\n",
      "083350\n",
      "220260\n",
      "083380\n",
      "083360\n",
      "189330\n",
      "084695\n",
      "001689\n",
      "210610\n",
      "004545\n",
      "001515\n",
      "091270\n",
      "208890\n",
      "215100\n",
      "001745\n",
      "012205\n",
      "18064K\n",
      "002995\n",
      "207720\n",
      "014285\n",
      "004565\n",
      "208870\n",
      "000145\n",
      "179720\n",
      "016385\n",
      "060910\n",
      "000725\n",
      "185190\n",
      "189540\n",
      "247300\n",
      "099350\n",
      "00781K\n",
      "005965\n",
      "090355\n",
      "010145\n",
      "001065\n",
      "004835\n",
      "001527\n",
      "001755\n",
      "003415\n",
      "004985\n",
      "004415\n",
      "003075\n",
      "011155\n",
      "000995\n",
      "007197\n",
      "084440\n",
      "001067\n",
      "242850\n",
      "244880\n",
      "002785\n",
      "000545\n",
      "000325\n",
      "001799\n",
      "008355\n",
      "032685\n",
      "013367\n",
      "000547\n",
      "003419\n",
      "002787\n",
      "004989\n",
      "144740\n",
      "001529\n",
      "000227\n",
      "009275\n",
      "004987\n",
      "183410\n",
      "090970\n",
      "000327\n",
      "110660\n",
      "090980\n",
      "090990\n",
      "091000\n"
     ]
    }
   ],
   "source": [
    "from selenium import webdriver\n",
    "import time\n",
    "from bs4 import BeautifulSoup\n",
    "import pandas as pd\n",
    "import collector\n",
    "import numpy as np\n",
    "\n",
    "main = collector.Collector('fnguide')\n",
    "main._setMaria()\n",
    "\n",
    "webdriver_options = webdriver.ChromeOptions()\n",
    "webdriver_options.add_argument('headless')\n",
    "chromedriver = 'chromedriver.exe'\n",
    "#driver = webdriver.Chrome(chromedriver)\n",
    "driver = webdriver.Chrome(chromedriver, options=webdriver_options)\n",
    "\n",
    "\n",
    "main.maria.createTable('stocks_202103', ['종목코드', '보통주', '우선주'], ['VARCHAR(20)', 'FLOAT', 'FLOAT'])\n",
    "done_list = main.getDoneList('stocks_202103')\n",
    "\n",
    "for code in main.code_list:\n",
    "    print(code)\n",
    "    if code in done_list:\n",
    "       continue\n",
    "    try:\n",
    "        data = {}\n",
    "        url = \"https://comp.fnguide.com/SVO2/ASP/SVD_Main.asp?pGB=1&gicode=A{}&cID=&MenuYn=Y&ReportGB=&NewMenuID=101&stkGb=701\".format(code)\n",
    "        driver.get(url)\n",
    "        html = driver.page_source\n",
    "        df1 = pd.read_html(html)\n",
    "        data['종목코드'] = code\n",
    "        data['보통주'] = float(df1[0][1][6].split('/')[0].replace(' ','').replace(',',''))\n",
    "        data['우선주'] = float(df1[0][1][6].split('/')[1].replace(' ','').replace(',',''))\n",
    "        main.maria.insertData('stocks_202103', tuple(list(data.values())))\n",
    "        main.maria.commitDB()\n",
    "    except:\n",
    "        pass"
   ]
  },
  {
   "cell_type": "code",
   "execution_count": null,
   "metadata": {},
   "outputs": [],
   "source": [
    "from selenium import webdriver\n",
    "import time\n",
    "from bs4 import BeautifulSoup\n",
    "import pandas as pd\n",
    "import collector\n",
    "import numpy as np\n",
    "\n",
    "main = collector.Collector('fnguide')\n",
    "main._setMaria()\n",
    "\n",
    "webdriver_options = webdriver.ChromeOptions()\n",
    "webdriver_options.add_argument('headless')\n",
    "chromedriver = 'chromedriver.exe'\n",
    "#driver = webdriver.Chrome(chromedriver)\n",
    "driver = webdriver.Chrome(chromedriver, options=webdriver_options)\n",
    "\n",
    "\n",
    "main.maria.createTable('roe_202103', ['종목코드', 'ROE', '우선주'], ['VARCHAR(20)', 'FLOAT', 'FLOAT'])\n",
    "done_list = main.getDoneList('roe_202103')\n",
    "\n",
    "for code in main.code_list:\n",
    "    print(code)\n",
    "    if code in done_list:\n",
    "       continue\n",
    "    try:\n",
    "        data = {}\n",
    "        url = \"https://comp.fnguide.com/SVO2/ASP/SVD_Main.asp?pGB=1&gicode=A{}&cID=&MenuYn=Y&ReportGB=&NewMenuID=101&stkGb=701\".format(code)\n",
    "        driver.get(url)\n",
    "        html = driver.page_source\n",
    "        df1 = pd.read_html(html)\n",
    "        data['종목코드'] = code\n",
    "        data['보통주'] = float(df1[0][1][6].split('/')[0].replace(' ','').replace(',',''))\n",
    "        data['우선주'] = float(df1[0][1][6].split('/')[1].replace(' ','').replace(',',''))\n",
    "        main.maria.insertData('stocks_202103', tuple(list(data.values())))\n",
    "        main.maria.commitDB()\n",
    "    except:\n",
    "        pass"
   ]
  },
  {
   "cell_type": "markdown",
   "metadata": {},
   "source": [
    "# ROE"
   ]
  },
  {
   "cell_type": "code",
   "execution_count": null,
   "metadata": {},
   "outputs": [],
   "source": [
    "# from selenium import webdriver\n",
    "# import time\n",
    "# from bs4 import BeautifulSoup\n",
    "# import pandas as pd\n",
    "# import collector\n",
    "# import numpy as np\n",
    "\n",
    "# main = collector.Collector('fnguide')\n",
    "# main._setMaria()\n",
    "\n",
    "# code = '105560'\n",
    "# webdriver_options = webdriver.ChromeOptions()\n",
    "# webdriver_options.add_argument('headless')\n",
    "# chromedriver = 'chromedriver.exe'\n",
    "# driver = webdriver.Chrome(chromedriver, options=webdriver_options)\n",
    "\n",
    "# main.maria.createTable('roe_202103', ['종목코드', 'ROE', '날짜'], ['VARCHAR(20)', 'FLOAT', 'VARCHAR(20)'])\n",
    "# done_list = main.getDoneList('roe_202103')\n",
    "# for code in main.code_list:\n",
    "#     if code in done_list:\n",
    "#         continue\n",
    "#     try:\n",
    "#         url = 'https://comp.fnguide.com/SVO2/ASP/SVD_FinanceRatio.asp?pGB=1&gicode=A{}&cID=&MenuYn=Y&ReportGB=&NewMenuID=104&stkGb=701'.format(code)\n",
    "#         driver.get(url)\n",
    "#         html = driver.page_source\n",
    "#         df_list = pd.read_html(html)\n",
    "#         df = df_list[0]\n",
    "#         data = tuple([code, df[df[df.columns[0]].str.contains('ROE')][df.columns[-1]].iloc[0], str(df.columns[-1])])\n",
    "\n",
    "#         main.maria.insertData('roe_202103', data)\n",
    "#         main.maria.commitDB()\n",
    "#     except:\n",
    "#         pass"
   ]
  }
 ],
 "metadata": {
  "kernelspec": {
   "display_name": "py37",
   "language": "python",
   "name": "py37"
  },
  "language_info": {
   "codemirror_mode": {
    "name": "ipython",
    "version": 3
   },
   "file_extension": ".py",
   "mimetype": "text/x-python",
   "name": "python",
   "nbconvert_exporter": "python",
   "pygments_lexer": "ipython3",
   "version": "3.7.9"
  }
 },
 "nbformat": 4,
 "nbformat_minor": 4
}
