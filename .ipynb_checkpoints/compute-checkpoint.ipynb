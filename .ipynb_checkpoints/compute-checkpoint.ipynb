{
 "cells": [
  {
   "cell_type": "code",
   "execution_count": 17,
   "metadata": {},
   "outputs": [],
   "source": [
    "import collector\n",
    "import pandas as pd\n",
    "from pykrx import stock"
   ]
  },
  {
   "cell_type": "code",
   "execution_count": 18,
   "metadata": {},
   "outputs": [],
   "source": [
    "main = collector.Collector('dart')\n",
    "main._setMaria()"
   ]
  },
  {
   "cell_type": "markdown",
   "metadata": {},
   "source": [
    "# Compute"
   ]
  },
  {
   "cell_type": "code",
   "execution_count": 19,
   "metadata": {},
   "outputs": [],
   "source": [
    "# fnguide_tablename = 'fnguide'\n",
    "# signet_tablename = 'new_signal'\n",
    "# mh_tablename = 'new_dart_mh'\n",
    "# jb_tablename = 'dart_jb'\n",
    "# dg_tablename = 'dart_dg_3q'\n",
    "# res_tablename = 'result2020_'\n",
    "#main.computeData(fnguide_tablename, signet_tablename, mh_tablename, jb_tablename, dg_tablename, res_tablename)"
   ]
  },
  {
   "cell_type": "markdown",
   "metadata": {},
   "source": [
    "# Analyze"
   ]
  },
  {
   "cell_type": "code",
   "execution_count": 46,
   "metadata": {
    "scrolled": false
   },
   "outputs": [
    {
     "name": "stderr",
     "output_type": "stream",
     "text": [
      "C:\\Users\\choi97201\\Desktop\\cjw\\collector.py:541: SettingWithCopyWarning: \n",
      "A value is trying to be set on a copy of a slice from a DataFrame.\n",
      "Try using .loc[row_indexer,col_indexer] = value instead\n",
      "\n",
      "See the caveats in the documentation: https://pandas.pydata.org/pandas-docs/stable/user_guide/indexing.html#returning-a-view-versus-a-copy\n",
      "  d_df['부채비율'] = (d_df['부채총계{}'.format(years[3])] / d_df['자본총계{}'.format(years[3])]) * 100\n"
     ]
    }
   ],
   "source": [
    "res_tablename = 'result2020_20201116'\n",
    "dept_rate = 200\n",
    "a_df = main.analyzeData('a', res_tablename)\n",
    "b_df = main.analyzeData('b', res_tablename)\n",
    "c_df = main.analyzeData('c', res_tablename)\n",
    "d_df = main.analyzeData('d', res_tablename, dept_rate=dept_rate)\n",
    "g_df = main.analyzeData('g', res_tablename)\n",
    "orgin_df = main.analyzeData('orgin', res_tablename)\n",
    "a_df = pd.merge(a_df[['종목코드', '기준가격', '주당가치분석']], g_df, on=['종목코드', '주당가치분석'])\n",
    "a_df['수익률'] = ((a_df['최신가격'] - a_df['기준가격']) / a_df['기준가격']) * 100"
   ]
  },
  {
   "cell_type": "code",
   "execution_count": 47,
   "metadata": {
    "scrolled": true
   },
   "outputs": [
    {
     "name": "stdout",
     "output_type": "stream",
     "text": [
      "전체: 1635\n",
      "기본조건: 425\n",
      "수익률: 21.331424314262865\n",
      "영업이익: 78\n",
      "수익률: 16.84628531413993\n",
      "부채비율200: 353\n",
      "수익률: 19.05865279823551\n",
      "영업이익_부채비율200: 65\n",
      "수익률: 16.694718718025175\n",
      "KOSPI 상승률: 19.00213524810954\n",
      "KOSDAQ 상승률: 8.987053450249604\n",
      "가중평균 상승률: 12.876486464470469\n"
     ]
    }
   ],
   "source": [
    "import FinanceDataReader as fdr\n",
    "import numpy as np\n",
    "\n",
    "price = []\n",
    "rate = []\n",
    "from_date_str = std_date[:4] + std_date[4:6] + std_date[6:]\n",
    "# 코스피 종목수 934\n",
    "df = fdr.DataReader('KS11', std_date, today)\n",
    "df['rate'] = ((np.array(df['Close']) - df['Close'][from_date_str]) / df['Close'][from_date_str])*100\n",
    "price.append(['KOSPI']+list(df['Close']))\n",
    "rate.append(['KOSPI']+list(df['rate'])) \n",
    "\n",
    "# 코스닥 종목수 1,471\n",
    "df = fdr.DataReader('KQ11', std_date, today)\n",
    "df['rate'] = ((np.array(df['Close']) - df['Close'][from_date_str]) / df['Close'][from_date_str])*100\n",
    "price.append(['KOSDAQ']+list(df['Close']))\n",
    "rate.append(['KOSDAQ']+list(df['rate'])) \n",
    "\n",
    "\n",
    "\n",
    "\n",
    "print('전체: {}'.format(orgin_df.shape[0]))\n",
    "\n",
    "a_df.to_excel('기본조건_{}.xlsx'.format(today), index=False, encoding='utf-8-sig')\n",
    "print('기본조건: {}'.format(a_df.shape[0]))\n",
    "print('수익률: {}'.format(a_df['수익률'].mean()))\n",
    "\n",
    "comb_ac = pd.merge(a_df[['종목코드', '주당가치분석', '기준가격', '최신가격', '수익률']], c_df, on=['종목코드', '주당가치분석'])\n",
    "comb_ac.to_excel('영업이익(억)_{}.xlsx'.format(today), index=False, encoding='utf-8-sig')\n",
    "print('영업이익: {}'.format(comb_ac.shape[0]))\n",
    "print('수익률: {}'.format(comb_ac['수익률'].mean()))\n",
    "\n",
    "comb_ad = pd.merge(a_df[['종목코드', '주당가치분석', '기준가격', '최신가격', '수익률']], d_df, on=['종목코드', '주당가치분석'])\n",
    "comb_ad.to_excel('부채비율{}(억)_{}.xlsx'.format(dept_rate, today), index=False, encoding='utf-8-sig')\n",
    "print('부채비율{}: {}'.format(dept_rate, comb_ad.shape[0]))\n",
    "print('수익률: {}'.format(comb_ad['수익률'].mean()))\n",
    "\n",
    "comb_acd = pd.merge(comb_ac[['종목코드', '주당가치분석', '기준가격', '최신가격', '수익률', '2018영업이익성장률', '2019영업이익성장률']], comb_ad, on=['종목코드', '주당가치분석', '기준가격', '최신가격', '수익률'])\n",
    "comb_acd.to_excel('영업이익_부채비율{}(억)_{}.xlsx'.format(dept_rate, today), index=False, encoding='utf-8-sig')\n",
    "print('영업이익_부채비율{}: {}'.format(dept_rate, comb_acd.shape[0]))\n",
    "print('수익률: {}'.format(comb_acd['수익률'].mean()))\n",
    "\n",
    "print('KOSPI 상승률: {}'.format(rate[0][-1]))\n",
    "print('KOSDAQ 상승률: {}'.format(rate[1][-1]))\n",
    "print('가중평균 상승률: {}'.format((rate[0][-1]*934 + rate[1][-1]*1471) / (934+1471)))"
   ]
  },
  {
   "cell_type": "markdown",
   "metadata": {},
   "source": [
    "# 코스피, 코스닥"
   ]
  },
  {
   "cell_type": "code",
   "execution_count": 35,
   "metadata": {},
   "outputs": [],
   "source": [
    "전체: 1635\n",
    "기본조건: 425\n",
    "수익률: 21.331424314262865\n",
    "    \n",
    "영업이익: 78\n",
    "수익률: 16.84628531413993\n",
    "    \n",
    "부채비율100: 215\n",
    "수익률: 17.591628767010373\n",
    "    \n",
    "부채비율200: 353\n",
    "수익률: 19.05865279823551\n",
    "    \n",
    "영업이익_부채비율100: 33\n",
    "수익률: 19.718671714858417\n",
    "    \n",
    "영업이익_부채비율200: 65\n",
    "수익률: 16.694718718025175\n",
    "    \n",
    "KOSPI 상승률: 19.00213524810954\n",
    "KOSDAQ 상승률: 8.987053450249604\n",
    "가중평균 상승률: 12.876486464470469"
   ]
  },
  {
   "cell_type": "code",
   "execution_count": 33,
   "metadata": {},
   "outputs": [],
   "source": [
    "rate = pd.DataFrame(rate)"
   ]
  },
  {
   "cell_type": "code",
   "execution_count": 40,
   "metadata": {},
   "outputs": [
    {
     "data": {
      "text/plain": [
       "8.987053450249604"
      ]
     },
     "execution_count": 40,
     "metadata": {},
     "output_type": "execute_result"
    }
   ],
   "source": [
    "rate[1][-1]"
   ]
  },
  {
   "cell_type": "code",
   "execution_count": 44,
   "metadata": {},
   "outputs": [
    {
     "data": {
      "text/plain": [
       "12.876486464470469"
      ]
     },
     "execution_count": 44,
     "metadata": {},
     "output_type": "execute_result"
    }
   ],
   "source": []
  },
  {
   "cell_type": "code",
   "execution_count": null,
   "metadata": {},
   "outputs": [],
   "source": []
  }
 ],
 "metadata": {
  "kernelspec": {
   "display_name": "py37",
   "language": "python",
   "name": "py37"
  },
  "language_info": {
   "codemirror_mode": {
    "name": "ipython",
    "version": 3
   },
   "file_extension": ".py",
   "mimetype": "text/x-python",
   "name": "python",
   "nbconvert_exporter": "python",
   "pygments_lexer": "ipython3",
   "version": "3.7.9"
  }
 },
 "nbformat": 4,
 "nbformat_minor": 4
}
