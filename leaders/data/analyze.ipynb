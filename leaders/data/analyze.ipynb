{
 "cells": [
  {
   "cell_type": "code",
   "execution_count": 2,
   "metadata": {},
   "outputs": [],
   "source": [
    "import collector\n",
    "import pandas as pd\n",
    "import OpenDartReader\n",
    "import dart_fss\n"
   ]
  },
  {
   "cell_type": "code",
   "execution_count": 3,
   "metadata": {
    "scrolled": true
   },
   "outputs": [],
   "source": [
    "test = collector.Collector('dart')\n",
    "test._setMaria()"
   ]
  },
  {
   "cell_type": "markdown",
   "metadata": {},
   "source": [
    "# analyzeData(anal_type=)"
   ]
  },
  {
   "cell_type": "code",
   "execution_count": 3,
   "metadata": {
    "scrolled": false
   },
   "outputs": [
    {
     "name": "stdout",
     "output_type": "stream",
     "text": [
      "result2020_20201116\n",
      "20201116\n",
      "None\n",
      "result2020_20201116\n",
      "20201116\n",
      "None\n",
      "result2020_20201116\n",
      "20201116\n",
      "None\n",
      "result2020_20201116\n",
      "20201116\n",
      "100\n",
      "100\n"
     ]
    },
    {
     "name": "stderr",
     "output_type": "stream",
     "text": [
      "C:\\Users\\choi97201\\Desktop\\cjw\\collector.py:531: SettingWithCopyWarning: \n",
      "A value is trying to be set on a copy of a slice from a DataFrame.\n",
      "Try using .loc[row_indexer,col_indexer] = value instead\n",
      "\n",
      "See the caveats in the documentation: https://pandas.pydata.org/pandas-docs/stable/user_guide/indexing.html#returning-a-view-versus-a-copy\n",
      "  d_df['부채비율'] = (d_df['부채총계2020'] / d_df['자본총계2020']) * 100\n"
     ]
    },
    {
     "name": "stdout",
     "output_type": "stream",
     "text": [
      "result2020_20201116\n",
      "20201116\n",
      "None\n"
     ]
    }
   ],
   "source": [
    "res_tablename = 'result2020_20201117'\n",
    "today = '20201117'\n",
    "dept_rate = 100\n",
    "a_df = test.analyzeData('a', res_tablename, today)\n",
    "b_df = test.analyzeData('b', res_tablename)\n",
    "c_df = test.analyzeData('c', res_tablename)\n",
    "d_df = test.analyzeData('d', res_tablename, dept_rate=dept_rate)\n",
    "orgin_df = test.analyzeData('orgin', res_tablename)"
   ]
  },
  {
   "cell_type": "code",
   "execution_count": 45,
   "metadata": {},
   "outputs": [],
   "source": [
    "# a_rate = test.getTimeseriesData(a_df)\n",
    "# b_rate = test.getTimeseriesData(b_df)\n",
    "# c_rate = test.getTimeseriesData(c_df)\n",
    "# d_rate = test.getTimeseriesData(d_df)\n",
    "# e_rate = test.getTimeseriesData(e_df)"
   ]
  },
  {
   "cell_type": "markdown",
   "metadata": {},
   "source": [
    "# a: 기업분석 > 현재가 (금일 기준)"
   ]
  },
  {
   "cell_type": "code",
   "execution_count": 46,
   "metadata": {
    "scrolled": false
   },
   "outputs": [],
   "source": [
    "# a_rate[2][['COUNT']].iloc[1:].plot(figsize=(10,6))\n",
    "# df = pd.merge(e_rate[2][['날짜', 'CODE_MEAN']], a_rate[2], on=['날짜'])[['KOS_MEAN', 'CODE_MEAN_x', 'CODE_MEAN_y']].iloc[1:]\n",
    "# df.columns = ['KOS_MEAN', '전체평균', '평균']\n",
    "# df.plot(figsize=(10,6))"
   ]
  },
  {
   "cell_type": "markdown",
   "metadata": {},
   "source": [
    "# b: 기업분석 < 기업가치"
   ]
  },
  {
   "cell_type": "code",
   "execution_count": 47,
   "metadata": {
    "scrolled": false
   },
   "outputs": [],
   "source": [
    "# b_rate[2][['COUNT']].iloc[1:].plot(figsize=(10,6))\n",
    "# df = pd.merge(e_rate[2][['날짜', 'CODE_MEAN']], b_rate[2], on=['날짜'])[['KOS_MEAN', 'CODE_MEAN_x', 'CODE_MEAN_y']].iloc[1:]\n",
    "# df.columns = ['KOS_MEAN', '전체평균', '평균']\n",
    "# df.plot(figsize=(10,6))"
   ]
  },
  {
   "cell_type": "markdown",
   "metadata": {},
   "source": [
    "# c: 영업이익 2년 연속 상승"
   ]
  },
  {
   "cell_type": "code",
   "execution_count": 48,
   "metadata": {
    "scrolled": false
   },
   "outputs": [],
   "source": [
    "# c_rate[2][['COUNT']].iloc[1:].plot(figsize=(10,6))\n",
    "# df = pd.merge(e_rate[2][['날짜', 'CODE_MEAN']], c_rate[2], on=['날짜'])[['KOS_MEAN', 'CODE_MEAN_x', 'CODE_MEAN_y']].iloc[1:]\n",
    "# df.columns = ['KOS_MEAN', '전체평균', '평균']\n",
    "# df.plot(figsize=(10,6))"
   ]
  },
  {
   "cell_type": "markdown",
   "metadata": {},
   "source": [
    "# d: 부채비율 100% 이하"
   ]
  },
  {
   "cell_type": "code",
   "execution_count": 49,
   "metadata": {
    "scrolled": false
   },
   "outputs": [],
   "source": [
    "# d_rate[2][['COUNT']].iloc[1:].plot(figsize=(10,6))\n",
    "# df = pd.merge(e_rate[2][['날짜', 'CODE_MEAN']], d_rate[2], on=['날짜'])[['KOS_MEAN', 'CODE_MEAN_x', 'CODE_MEAN_y']].iloc[1:]\n",
    "# df.columns = ['KOS_MEAN', '전체평균', '평균']\n",
    "# df.plot(figsize=(10,6))"
   ]
  },
  {
   "cell_type": "markdown",
   "metadata": {},
   "source": [
    "# e: 전체"
   ]
  },
  {
   "cell_type": "code",
   "execution_count": 4,
   "metadata": {
    "scrolled": true
   },
   "outputs": [
    {
     "name": "stdout",
     "output_type": "stream",
     "text": [
      "877\n"
     ]
    }
   ],
   "source": [
    "print(e_df.shape[0])\n",
    "\n",
    "a_df.to_excel('기본조건_2020.xlsx', index=False, encoding='utf-8-sig')\n",
    "print(a_df.shape[0])\n",
    "\n",
    "comb_ac = pd.merge(a_df[['종목코드', '최신가격', '주당가치분석']], c_df, on=['종목코드', '주당가치분석'])\n",
    "comb_ac.to_excel('영업이익(억)_2020.xlsx', index=False, encoding='utf-8-sig')\n",
    "print(comb_ac.shape[0])\n",
    "\n",
    "comb_ad = pd.merge(a_df[['종목코드', '최신가격', '주당가치분석']], d_df, on=['종목코드', '주당가치분석'])\n",
    "comb_ad.to_excel('부채비율{}(억)_2020.xlsx'.format(dept_rate), index=False, encoding='utf-8-sig')\n",
    "print(comb_ad.shape[0])\n",
    "\n",
    "comb_acd = pd.merge(comb_ac[['종목코드', '최신가격', '주당가치분석', '2018영업이익성장률', '2019영업이익성장률']], comb_ad, on=['종목코드', '주당가치분석', '최신가격'])\n",
    "comb_acd.to_excel('부채비율{}_영업이익(억)_2020.xlsx'.format(dept_rate), index=False, encoding='utf-8-sig')\n",
    "print(comb_acd.shape[0])\n",
    "\n",
    "comb_abcd = pd.merge(comb_acd[['종목코드', '최신가격', '주당가치분석', '주당기업가치', '2018영업이익성장률', '2019영업이익성장률', '부채비율']], b_df, on=['종목코드', '주당가치분석'])\n",
    "comb_abcd.to_excel('최대최소_부채비율{}_영업이익(억)_2020.xlsx'.format(dept_rate), index=False, encoding='utf-8-sig')\n",
    "print(comb_abcd.shape[0])"
   ]
  },
  {
   "cell_type": "code",
   "execution_count": 5,
   "metadata": {},
   "outputs": [],
   "source": [
    "from pykrx import stock"
   ]
  },
  {
   "cell_type": "code",
   "execution_count": 8,
   "metadata": {},
   "outputs": [],
   "source": []
  },
  {
   "cell_type": "code",
   "execution_count": 7,
   "metadata": {},
   "outputs": [
    {
     "data": {
      "text/html": [
       "<div>\n",
       "<style scoped>\n",
       "    .dataframe tbody tr th:only-of-type {\n",
       "        vertical-align: middle;\n",
       "    }\n",
       "\n",
       "    .dataframe tbody tr th {\n",
       "        vertical-align: top;\n",
       "    }\n",
       "\n",
       "    .dataframe thead th {\n",
       "        text-align: right;\n",
       "    }\n",
       "</style>\n",
       "<table border=\"1\" class=\"dataframe\">\n",
       "  <thead>\n",
       "    <tr style=\"text-align: right;\">\n",
       "      <th></th>\n",
       "      <th>종가</th>\n",
       "      <th>시가총액</th>\n",
       "      <th>거래량</th>\n",
       "      <th>거래대금</th>\n",
       "      <th>상장주식수</th>\n",
       "    </tr>\n",
       "    <tr>\n",
       "      <th>티커</th>\n",
       "      <th></th>\n",
       "      <th></th>\n",
       "      <th></th>\n",
       "      <th></th>\n",
       "      <th></th>\n",
       "    </tr>\n",
       "  </thead>\n",
       "  <tbody>\n",
       "    <tr>\n",
       "      <th>005930</th>\n",
       "      <td>66300</td>\n",
       "      <td>395796583065000</td>\n",
       "      <td>36354334</td>\n",
       "      <td>2384455883700</td>\n",
       "      <td>5969782550</td>\n",
       "    </tr>\n",
       "    <tr>\n",
       "      <th>000660</th>\n",
       "      <td>98000</td>\n",
       "      <td>71344231770000</td>\n",
       "      <td>9274278</td>\n",
       "      <td>885204121740</td>\n",
       "      <td>728002365</td>\n",
       "    </tr>\n",
       "    <tr>\n",
       "      <th>207940</th>\n",
       "      <td>758000</td>\n",
       "      <td>50153070000000</td>\n",
       "      <td>74377</td>\n",
       "      <td>56424317000</td>\n",
       "      <td>66165000</td>\n",
       "    </tr>\n",
       "    <tr>\n",
       "      <th>005935</th>\n",
       "      <td>58800</td>\n",
       "      <td>48385737960000</td>\n",
       "      <td>5619146</td>\n",
       "      <td>329374446710</td>\n",
       "      <td>822886700</td>\n",
       "    </tr>\n",
       "    <tr>\n",
       "      <th>051910</th>\n",
       "      <td>677000</td>\n",
       "      <td>47791016211000</td>\n",
       "      <td>573360</td>\n",
       "      <td>389020156655</td>\n",
       "      <td>70592343</td>\n",
       "    </tr>\n",
       "    <tr>\n",
       "      <th>...</th>\n",
       "      <td>...</td>\n",
       "      <td>...</td>\n",
       "      <td>...</td>\n",
       "      <td>...</td>\n",
       "      <td>...</td>\n",
       "    </tr>\n",
       "    <tr>\n",
       "      <th>242350</th>\n",
       "      <td>426</td>\n",
       "      <td>2028407520</td>\n",
       "      <td>57</td>\n",
       "      <td>22702</td>\n",
       "      <td>4761520</td>\n",
       "    </tr>\n",
       "    <tr>\n",
       "      <th>238500</th>\n",
       "      <td>430</td>\n",
       "      <td>2013331380</td>\n",
       "      <td>6577</td>\n",
       "      <td>2735805</td>\n",
       "      <td>4682166</td>\n",
       "    </tr>\n",
       "    <tr>\n",
       "      <th>344860</th>\n",
       "      <td>1010</td>\n",
       "      <td>1878600000</td>\n",
       "      <td>0</td>\n",
       "      <td>0</td>\n",
       "      <td>1860000</td>\n",
       "    </tr>\n",
       "    <tr>\n",
       "      <th>179720</th>\n",
       "      <td>2400</td>\n",
       "      <td>1774800000</td>\n",
       "      <td>170</td>\n",
       "      <td>417275</td>\n",
       "      <td>739500</td>\n",
       "    </tr>\n",
       "    <tr>\n",
       "      <th>225860</th>\n",
       "      <td>150</td>\n",
       "      <td>1703713800</td>\n",
       "      <td>4425</td>\n",
       "      <td>592232</td>\n",
       "      <td>11358092</td>\n",
       "    </tr>\n",
       "  </tbody>\n",
       "</table>\n",
       "<p>2508 rows × 5 columns</p>\n",
       "</div>"
      ],
      "text/plain": [
       "            종가             시가총액       거래량           거래대금       상장주식수\n",
       "티커                                                                  \n",
       "005930   66300  395796583065000  36354334  2384455883700  5969782550\n",
       "000660   98000   71344231770000   9274278   885204121740   728002365\n",
       "207940  758000   50153070000000     74377    56424317000    66165000\n",
       "005935   58800   48385737960000   5619146   329374446710   822886700\n",
       "051910  677000   47791016211000    573360   389020156655    70592343\n",
       "...        ...              ...       ...            ...         ...\n",
       "242350     426       2028407520        57          22702     4761520\n",
       "238500     430       2013331380      6577        2735805     4682166\n",
       "344860    1010       1878600000         0              0     1860000\n",
       "179720    2400       1774800000       170         417275      739500\n",
       "225860     150       1703713800      4425         592232    11358092\n",
       "\n",
       "[2508 rows x 5 columns]"
      ]
     },
     "execution_count": 7,
     "metadata": {},
     "output_type": "execute_result"
    }
   ],
   "source": [
    "df"
   ]
  },
  {
   "cell_type": "code",
   "execution_count": null,
   "metadata": {},
   "outputs": [],
   "source": []
  }
 ],
 "metadata": {
  "kernelspec": {
   "display_name": "py37",
   "language": "python",
   "name": "py37"
  },
  "language_info": {
   "codemirror_mode": {
    "name": "ipython",
    "version": 3
   },
   "file_extension": ".py",
   "mimetype": "text/x-python",
   "name": "python",
   "nbconvert_exporter": "python",
   "pygments_lexer": "ipython3",
   "version": "3.7.9"
  }
 },
 "nbformat": 4,
 "nbformat_minor": 4
}
