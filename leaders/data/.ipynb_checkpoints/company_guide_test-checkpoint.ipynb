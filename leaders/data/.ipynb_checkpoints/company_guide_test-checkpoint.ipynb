{
 "cells": [
  {
   "cell_type": "code",
   "execution_count": 1,
   "metadata": {},
   "outputs": [],
   "source": [
    "import requests\n",
    "import bs4\n",
    "import pandas as pd\n",
    "import numpy as np\n",
    "from cjw_mysql import *\n",
    "from tqdm import tqdm\n",
    "from utils import *"
   ]
  },
  {
   "cell_type": "code",
   "execution_count": 2,
   "metadata": {},
   "outputs": [],
   "source": [
    "db = Maria()\n",
    "db.setMaria(db='ohlcv')\n",
    "code_list = db.mariaShowData('stock_info')['code'].tolist()\n",
    "data = {}\n"
   ]
  },
  {
   "cell_type": "code",
   "execution_count": 14,
   "metadata": {},
   "outputs": [],
   "source": [
    "code = '005930'\n",
    "res = requests.get(f'https://comp.fnguide.com/SVO2/ASP/SVD_Finance.asp?pGB=1&gicode=A{code}&cID=&MenuYn=Y&ReportGB=&NewMenuID=103&stkGb=701')\n",
    "df = pd.read_html(res.text)"
   ]
  },
  {
   "cell_type": "code",
   "execution_count": 15,
   "metadata": {},
   "outputs": [
    {
     "data": {
      "text/html": [
       "<div>\n",
       "<style scoped>\n",
       "    .dataframe tbody tr th:only-of-type {\n",
       "        vertical-align: middle;\n",
       "    }\n",
       "\n",
       "    .dataframe tbody tr th {\n",
       "        vertical-align: top;\n",
       "    }\n",
       "\n",
       "    .dataframe thead th {\n",
       "        text-align: right;\n",
       "    }\n",
       "</style>\n",
       "<table border=\"1\" class=\"dataframe\">\n",
       "  <thead>\n",
       "    <tr style=\"text-align: right;\">\n",
       "      <th></th>\n",
       "      <th>IFRS(연결)</th>\n",
       "      <th>2018/12</th>\n",
       "      <th>2019/12</th>\n",
       "      <th>2020/12</th>\n",
       "      <th>2021/03</th>\n",
       "      <th>전년동기</th>\n",
       "      <th>전년동기(%)</th>\n",
       "    </tr>\n",
       "  </thead>\n",
       "  <tbody>\n",
       "    <tr>\n",
       "      <th>0</th>\n",
       "      <td>매출액</td>\n",
       "      <td>2437714.0</td>\n",
       "      <td>2304009.0</td>\n",
       "      <td>2368070.0</td>\n",
       "      <td>653885.0</td>\n",
       "      <td>553252.0</td>\n",
       "      <td>18.2</td>\n",
       "    </tr>\n",
       "    <tr>\n",
       "      <th>1</th>\n",
       "      <td>매출원가</td>\n",
       "      <td>1323944.0</td>\n",
       "      <td>1472395.0</td>\n",
       "      <td>1444883.0</td>\n",
       "      <td>415000.0</td>\n",
       "      <td>348067.0</td>\n",
       "      <td>19.2</td>\n",
       "    </tr>\n",
       "    <tr>\n",
       "      <th>2</th>\n",
       "      <td>매출총이익</td>\n",
       "      <td>1113770.0</td>\n",
       "      <td>831613.0</td>\n",
       "      <td>923187.0</td>\n",
       "      <td>238885.0</td>\n",
       "      <td>205185.0</td>\n",
       "      <td>16.4</td>\n",
       "    </tr>\n",
       "    <tr>\n",
       "      <th>3</th>\n",
       "      <td>판매비와관리비계산에 참여한 계정 펼치기</td>\n",
       "      <td>524903.0</td>\n",
       "      <td>553928.0</td>\n",
       "      <td>563248.0</td>\n",
       "      <td>145057.0</td>\n",
       "      <td>140711.0</td>\n",
       "      <td>3.1</td>\n",
       "    </tr>\n",
       "    <tr>\n",
       "      <th>4</th>\n",
       "      <td>영업이익</td>\n",
       "      <td>588867.0</td>\n",
       "      <td>277685.0</td>\n",
       "      <td>359939.0</td>\n",
       "      <td>93829.0</td>\n",
       "      <td>64473.0</td>\n",
       "      <td>45.5</td>\n",
       "    </tr>\n",
       "    <tr>\n",
       "      <th>5</th>\n",
       "      <td>영업이익(발표기준)</td>\n",
       "      <td>588867.0</td>\n",
       "      <td>277685.0</td>\n",
       "      <td>359939.0</td>\n",
       "      <td>93829.0</td>\n",
       "      <td>64473.0</td>\n",
       "      <td>45.5</td>\n",
       "    </tr>\n",
       "    <tr>\n",
       "      <th>6</th>\n",
       "      <td>금융수익계산에 참여한 계정 펼치기</td>\n",
       "      <td>99993.0</td>\n",
       "      <td>101616.0</td>\n",
       "      <td>122676.0</td>\n",
       "      <td>22386.0</td>\n",
       "      <td>37914.0</td>\n",
       "      <td>-41.0</td>\n",
       "    </tr>\n",
       "    <tr>\n",
       "      <th>7</th>\n",
       "      <td>금융원가계산에 참여한 계정 펼치기</td>\n",
       "      <td>86089.0</td>\n",
       "      <td>82749.0</td>\n",
       "      <td>113181.0</td>\n",
       "      <td>19939.0</td>\n",
       "      <td>34940.0</td>\n",
       "      <td>-42.9</td>\n",
       "    </tr>\n",
       "    <tr>\n",
       "      <th>8</th>\n",
       "      <td>기타수익계산에 참여한 계정 펼치기</td>\n",
       "      <td>14850.0</td>\n",
       "      <td>17787.0</td>\n",
       "      <td>13841.0</td>\n",
       "      <td>2997.0</td>\n",
       "      <td>3155.0</td>\n",
       "      <td>-5.0</td>\n",
       "    </tr>\n",
       "    <tr>\n",
       "      <th>9</th>\n",
       "      <td>기타비용계산에 참여한 계정 펼치기</td>\n",
       "      <td>11420.0</td>\n",
       "      <td>14147.0</td>\n",
       "      <td>24889.0</td>\n",
       "      <td>3242.0</td>\n",
       "      <td>3641.0</td>\n",
       "      <td>-10.9</td>\n",
       "    </tr>\n",
       "    <tr>\n",
       "      <th>10</th>\n",
       "      <td>종속기업,공동지배기업및관계기업관련손익계산에 참여한 계정 펼치기</td>\n",
       "      <td>5398.0</td>\n",
       "      <td>4130.0</td>\n",
       "      <td>5065.0</td>\n",
       "      <td>1475.0</td>\n",
       "      <td>606.0</td>\n",
       "      <td>143.3</td>\n",
       "    </tr>\n",
       "    <tr>\n",
       "      <th>11</th>\n",
       "      <td>세전계속사업이익</td>\n",
       "      <td>611600.0</td>\n",
       "      <td>304322.0</td>\n",
       "      <td>363451.0</td>\n",
       "      <td>97506.0</td>\n",
       "      <td>67569.0</td>\n",
       "      <td>44.3</td>\n",
       "    </tr>\n",
       "    <tr>\n",
       "      <th>12</th>\n",
       "      <td>법인세비용</td>\n",
       "      <td>168151.0</td>\n",
       "      <td>86933.0</td>\n",
       "      <td>99373.0</td>\n",
       "      <td>26090.0</td>\n",
       "      <td>18719.0</td>\n",
       "      <td>39.4</td>\n",
       "    </tr>\n",
       "    <tr>\n",
       "      <th>13</th>\n",
       "      <td>계속영업이익</td>\n",
       "      <td>443449.0</td>\n",
       "      <td>217389.0</td>\n",
       "      <td>264078.0</td>\n",
       "      <td>71417.0</td>\n",
       "      <td>48849.0</td>\n",
       "      <td>46.2</td>\n",
       "    </tr>\n",
       "    <tr>\n",
       "      <th>14</th>\n",
       "      <td>중단영업이익</td>\n",
       "      <td>NaN</td>\n",
       "      <td>NaN</td>\n",
       "      <td>NaN</td>\n",
       "      <td>NaN</td>\n",
       "      <td>NaN</td>\n",
       "      <td>NaN</td>\n",
       "    </tr>\n",
       "    <tr>\n",
       "      <th>15</th>\n",
       "      <td>당기순이익</td>\n",
       "      <td>443449.0</td>\n",
       "      <td>217389.0</td>\n",
       "      <td>264078.0</td>\n",
       "      <td>71417.0</td>\n",
       "      <td>48849.0</td>\n",
       "      <td>46.2</td>\n",
       "    </tr>\n",
       "    <tr>\n",
       "      <th>16</th>\n",
       "      <td>지배주주순이익</td>\n",
       "      <td>438909.0</td>\n",
       "      <td>215051.0</td>\n",
       "      <td>260908.0</td>\n",
       "      <td>70928.0</td>\n",
       "      <td>48896.0</td>\n",
       "      <td>45.1</td>\n",
       "    </tr>\n",
       "    <tr>\n",
       "      <th>17</th>\n",
       "      <td>비지배주주순이익</td>\n",
       "      <td>4540.0</td>\n",
       "      <td>2338.0</td>\n",
       "      <td>3170.0</td>\n",
       "      <td>489.0</td>\n",
       "      <td>-47.0</td>\n",
       "      <td>흑자전환</td>\n",
       "    </tr>\n",
       "  </tbody>\n",
       "</table>\n",
       "</div>"
      ],
      "text/plain": [
       "                              IFRS(연결)    2018/12    2019/12    2020/12  \\\n",
       "0                                  매출액  2437714.0  2304009.0  2368070.0   \n",
       "1                                 매출원가  1323944.0  1472395.0  1444883.0   \n",
       "2                                매출총이익  1113770.0   831613.0   923187.0   \n",
       "3                판매비와관리비계산에 참여한 계정 펼치기   524903.0   553928.0   563248.0   \n",
       "4                                 영업이익   588867.0   277685.0   359939.0   \n",
       "5                           영업이익(발표기준)   588867.0   277685.0   359939.0   \n",
       "6                   금융수익계산에 참여한 계정 펼치기    99993.0   101616.0   122676.0   \n",
       "7                   금융원가계산에 참여한 계정 펼치기    86089.0    82749.0   113181.0   \n",
       "8                   기타수익계산에 참여한 계정 펼치기    14850.0    17787.0    13841.0   \n",
       "9                   기타비용계산에 참여한 계정 펼치기    11420.0    14147.0    24889.0   \n",
       "10  종속기업,공동지배기업및관계기업관련손익계산에 참여한 계정 펼치기     5398.0     4130.0     5065.0   \n",
       "11                            세전계속사업이익   611600.0   304322.0   363451.0   \n",
       "12                               법인세비용   168151.0    86933.0    99373.0   \n",
       "13                              계속영업이익   443449.0   217389.0   264078.0   \n",
       "14                              중단영업이익        NaN        NaN        NaN   \n",
       "15                               당기순이익   443449.0   217389.0   264078.0   \n",
       "16                             지배주주순이익   438909.0   215051.0   260908.0   \n",
       "17                            비지배주주순이익     4540.0     2338.0     3170.0   \n",
       "\n",
       "     2021/03      전년동기 전년동기(%)  \n",
       "0   653885.0  553252.0    18.2  \n",
       "1   415000.0  348067.0    19.2  \n",
       "2   238885.0  205185.0    16.4  \n",
       "3   145057.0  140711.0     3.1  \n",
       "4    93829.0   64473.0    45.5  \n",
       "5    93829.0   64473.0    45.5  \n",
       "6    22386.0   37914.0   -41.0  \n",
       "7    19939.0   34940.0   -42.9  \n",
       "8     2997.0    3155.0    -5.0  \n",
       "9     3242.0    3641.0   -10.9  \n",
       "10    1475.0     606.0   143.3  \n",
       "11   97506.0   67569.0    44.3  \n",
       "12   26090.0   18719.0    39.4  \n",
       "13   71417.0   48849.0    46.2  \n",
       "14       NaN       NaN     NaN  \n",
       "15   71417.0   48849.0    46.2  \n",
       "16   70928.0   48896.0    45.1  \n",
       "17     489.0     -47.0    흑자전환  "
      ]
     },
     "execution_count": 15,
     "metadata": {},
     "output_type": "execute_result"
    }
   ],
   "source": [
    "df[0]"
   ]
  },
  {
   "cell_type": "code",
   "execution_count": 3,
   "metadata": {},
   "outputs": [
    {
     "name": "stderr",
     "output_type": "stream",
     "text": [
      "100%|████████████████████████████████████████████████████████████████████████████████████| 1/1 [00:00<00:00,  2.79it/s]\n"
     ]
    }
   ],
   "source": [
    "for code in tqdm(code_list):\n",
    "    try:\n",
    "        res = requests.get(f'https://comp.fnguide.com/SVO2/ASP/SVD_Finance.asp?pGB=1&gicode=A{code}&cID=&MenuYn=Y&ReportGB=&NewMenuID=103&stkGb=701')\n",
    "        df = pd.read_html(res.text)[0]\n",
    "        cols = list(df.columns)[1:]\n",
    "        cols = [col.replace('/', '_') for col in cols]\n",
    "        df.columns = ['지표'] + cols\n",
    "        df['지표'] = [curr.replace('계산에 참여한 계정 펼치기', '') for curr in df['지표'].tolist()]\n",
    "#         df = df.replace('안정성비율', np.nan)\n",
    "#         df = df.replace('성장성비율', np.nan)\n",
    "#         df = df.replace('수익성비율', np.nan)\n",
    "#         df = df.replace('활동성비율', np.nan)\n",
    "#         df = df.dropna().reset_index(drop=True)\n",
    "    except:\n",
    "        continue\n",
    "    if df.shape[0] > 0:\n",
    "        data[code] = df"
   ]
  },
  {
   "cell_type": "code",
   "execution_count": 5,
   "metadata": {},
   "outputs": [
    {
     "data": {
      "text/html": [
       "<div>\n",
       "<style scoped>\n",
       "    .dataframe tbody tr th:only-of-type {\n",
       "        vertical-align: middle;\n",
       "    }\n",
       "\n",
       "    .dataframe tbody tr th {\n",
       "        vertical-align: top;\n",
       "    }\n",
       "\n",
       "    .dataframe thead th {\n",
       "        text-align: right;\n",
       "    }\n",
       "</style>\n",
       "<table border=\"1\" class=\"dataframe\">\n",
       "  <thead>\n",
       "    <tr style=\"text-align: right;\">\n",
       "      <th></th>\n",
       "      <th>지표</th>\n",
       "      <th>2018_12</th>\n",
       "      <th>2019_12</th>\n",
       "      <th>2020_12</th>\n",
       "      <th>2021_03</th>\n",
       "      <th>전년동기</th>\n",
       "      <th>전년동기(%)</th>\n",
       "    </tr>\n",
       "  </thead>\n",
       "  <tbody>\n",
       "    <tr>\n",
       "      <th>0</th>\n",
       "      <td>매출액</td>\n",
       "      <td>3066.0</td>\n",
       "      <td>3072.0</td>\n",
       "      <td>2721.0</td>\n",
       "      <td>718.0</td>\n",
       "      <td>670.0</td>\n",
       "      <td>7.2</td>\n",
       "    </tr>\n",
       "    <tr>\n",
       "      <th>1</th>\n",
       "      <td>매출원가</td>\n",
       "      <td>1907.0</td>\n",
       "      <td>1856.0</td>\n",
       "      <td>1334.0</td>\n",
       "      <td>360.0</td>\n",
       "      <td>351.0</td>\n",
       "      <td>2.5</td>\n",
       "    </tr>\n",
       "    <tr>\n",
       "      <th>2</th>\n",
       "      <td>매출총이익</td>\n",
       "      <td>1159.0</td>\n",
       "      <td>1216.0</td>\n",
       "      <td>1387.0</td>\n",
       "      <td>358.0</td>\n",
       "      <td>319.0</td>\n",
       "      <td>12.4</td>\n",
       "    </tr>\n",
       "    <tr>\n",
       "      <th>3</th>\n",
       "      <td>판매비와관리비</td>\n",
       "      <td>1047.0</td>\n",
       "      <td>1120.0</td>\n",
       "      <td>1155.0</td>\n",
       "      <td>307.0</td>\n",
       "      <td>292.0</td>\n",
       "      <td>5.3</td>\n",
       "    </tr>\n",
       "    <tr>\n",
       "      <th>4</th>\n",
       "      <td>영업이익</td>\n",
       "      <td>112.0</td>\n",
       "      <td>96.0</td>\n",
       "      <td>232.0</td>\n",
       "      <td>51.0</td>\n",
       "      <td>27.0</td>\n",
       "      <td>89.1</td>\n",
       "    </tr>\n",
       "    <tr>\n",
       "      <th>5</th>\n",
       "      <td>영업이익(발표기준)</td>\n",
       "      <td>112.0</td>\n",
       "      <td>96.0</td>\n",
       "      <td>232.0</td>\n",
       "      <td>51.0</td>\n",
       "      <td>27.0</td>\n",
       "      <td>89.1</td>\n",
       "    </tr>\n",
       "    <tr>\n",
       "      <th>6</th>\n",
       "      <td>금융수익</td>\n",
       "      <td>30.0</td>\n",
       "      <td>25.0</td>\n",
       "      <td>46.0</td>\n",
       "      <td>29.0</td>\n",
       "      <td>7.0</td>\n",
       "      <td>302.8</td>\n",
       "    </tr>\n",
       "    <tr>\n",
       "      <th>7</th>\n",
       "      <td>금융원가</td>\n",
       "      <td>2.0</td>\n",
       "      <td>10.0</td>\n",
       "      <td>10.0</td>\n",
       "      <td>2.0</td>\n",
       "      <td>1.0</td>\n",
       "      <td>215.2</td>\n",
       "    </tr>\n",
       "    <tr>\n",
       "      <th>8</th>\n",
       "      <td>기타수익</td>\n",
       "      <td>4.0</td>\n",
       "      <td>71.0</td>\n",
       "      <td>80.0</td>\n",
       "      <td>4.0</td>\n",
       "      <td>1.0</td>\n",
       "      <td>483.0</td>\n",
       "    </tr>\n",
       "    <tr>\n",
       "      <th>9</th>\n",
       "      <td>기타비용</td>\n",
       "      <td>2.0</td>\n",
       "      <td>15.0</td>\n",
       "      <td>10.0</td>\n",
       "      <td>3.0</td>\n",
       "      <td>1.0</td>\n",
       "      <td>154.3</td>\n",
       "    </tr>\n",
       "    <tr>\n",
       "      <th>10</th>\n",
       "      <td>종속기업,공동지배기업및관계기업관련손익</td>\n",
       "      <td>3.0</td>\n",
       "      <td>-4.0</td>\n",
       "      <td>-1.0</td>\n",
       "      <td>-1.0</td>\n",
       "      <td>NaN</td>\n",
       "      <td>NaN</td>\n",
       "    </tr>\n",
       "    <tr>\n",
       "      <th>11</th>\n",
       "      <td>세전계속사업이익</td>\n",
       "      <td>145.0</td>\n",
       "      <td>162.0</td>\n",
       "      <td>336.0</td>\n",
       "      <td>77.0</td>\n",
       "      <td>33.0</td>\n",
       "      <td>135.2</td>\n",
       "    </tr>\n",
       "    <tr>\n",
       "      <th>12</th>\n",
       "      <td>법인세비용</td>\n",
       "      <td>45.0</td>\n",
       "      <td>71.0</td>\n",
       "      <td>49.0</td>\n",
       "      <td>22.0</td>\n",
       "      <td>10.0</td>\n",
       "      <td>115.7</td>\n",
       "    </tr>\n",
       "    <tr>\n",
       "      <th>13</th>\n",
       "      <td>계속영업이익</td>\n",
       "      <td>101.0</td>\n",
       "      <td>91.0</td>\n",
       "      <td>287.0</td>\n",
       "      <td>55.0</td>\n",
       "      <td>23.0</td>\n",
       "      <td>143.9</td>\n",
       "    </tr>\n",
       "    <tr>\n",
       "      <th>14</th>\n",
       "      <td>중단영업이익</td>\n",
       "      <td>NaN</td>\n",
       "      <td>NaN</td>\n",
       "      <td>NaN</td>\n",
       "      <td>NaN</td>\n",
       "      <td>NaN</td>\n",
       "      <td>NaN</td>\n",
       "    </tr>\n",
       "    <tr>\n",
       "      <th>15</th>\n",
       "      <td>당기순이익</td>\n",
       "      <td>101.0</td>\n",
       "      <td>91.0</td>\n",
       "      <td>287.0</td>\n",
       "      <td>55.0</td>\n",
       "      <td>23.0</td>\n",
       "      <td>143.9</td>\n",
       "    </tr>\n",
       "    <tr>\n",
       "      <th>16</th>\n",
       "      <td>지배주주순이익</td>\n",
       "      <td>101.0</td>\n",
       "      <td>91.0</td>\n",
       "      <td>285.0</td>\n",
       "      <td>54.0</td>\n",
       "      <td>23.0</td>\n",
       "      <td>140.9</td>\n",
       "    </tr>\n",
       "    <tr>\n",
       "      <th>17</th>\n",
       "      <td>비지배주주순이익</td>\n",
       "      <td>-0.0</td>\n",
       "      <td>-0.0</td>\n",
       "      <td>2.0</td>\n",
       "      <td>1.0</td>\n",
       "      <td>-0.0</td>\n",
       "      <td>흑자전환</td>\n",
       "    </tr>\n",
       "  </tbody>\n",
       "</table>\n",
       "</div>"
      ],
      "text/plain": [
       "                      지표  2018_12  2019_12  2020_12  2021_03   전년동기 전년동기(%)\n",
       "0                    매출액   3066.0   3072.0   2721.0    718.0  670.0     7.2\n",
       "1                   매출원가   1907.0   1856.0   1334.0    360.0  351.0     2.5\n",
       "2                  매출총이익   1159.0   1216.0   1387.0    358.0  319.0    12.4\n",
       "3                판매비와관리비   1047.0   1120.0   1155.0    307.0  292.0     5.3\n",
       "4                   영업이익    112.0     96.0    232.0     51.0   27.0    89.1\n",
       "5             영업이익(발표기준)    112.0     96.0    232.0     51.0   27.0    89.1\n",
       "6                   금융수익     30.0     25.0     46.0     29.0    7.0   302.8\n",
       "7                   금융원가      2.0     10.0     10.0      2.0    1.0   215.2\n",
       "8                   기타수익      4.0     71.0     80.0      4.0    1.0   483.0\n",
       "9                   기타비용      2.0     15.0     10.0      3.0    1.0   154.3\n",
       "10  종속기업,공동지배기업및관계기업관련손익      3.0     -4.0     -1.0     -1.0    NaN     NaN\n",
       "11              세전계속사업이익    145.0    162.0    336.0     77.0   33.0   135.2\n",
       "12                 법인세비용     45.0     71.0     49.0     22.0   10.0   115.7\n",
       "13                계속영업이익    101.0     91.0    287.0     55.0   23.0   143.9\n",
       "14                중단영업이익      NaN      NaN      NaN      NaN    NaN     NaN\n",
       "15                 당기순이익    101.0     91.0    287.0     55.0   23.0   143.9\n",
       "16               지배주주순이익    101.0     91.0    285.0     54.0   23.0   140.9\n",
       "17              비지배주주순이익     -0.0     -0.0      2.0      1.0   -0.0    흑자전환"
      ]
     },
     "execution_count": 5,
     "metadata": {},
     "output_type": "execute_result"
    }
   ],
   "source": [
    "data['000020']"
   ]
  },
  {
   "cell_type": "code",
   "execution_count": 6,
   "metadata": {},
   "outputs": [
    {
     "name": "stdout",
     "output_type": "stream",
     "text": [
      "매출액\n"
     ]
    },
    {
     "name": "stderr",
     "output_type": "stream",
     "text": [
      "100%|███████████████████████████████████████████████████████████████████████████████████| 1/1 [00:00<00:00, 199.54it/s]"
     ]
    },
    {
     "name": "stdout",
     "output_type": "stream",
     "text": [
      "매출원가\n"
     ]
    },
    {
     "name": "stderr",
     "output_type": "stream",
     "text": [
      "\n",
      "100%|███████████████████████████████████████████████████████████████████████████████████| 1/1 [00:00<00:00, 200.50it/s]\n"
     ]
    },
    {
     "name": "stdout",
     "output_type": "stream",
     "text": [
      "매출총이익\n"
     ]
    },
    {
     "name": "stderr",
     "output_type": "stream",
     "text": [
      "100%|███████████████████████████████████████████████████████████████████████████████████| 1/1 [00:00<00:00, 200.54it/s]\n"
     ]
    },
    {
     "name": "stdout",
     "output_type": "stream",
     "text": [
      "판매비와관리비\n"
     ]
    },
    {
     "name": "stderr",
     "output_type": "stream",
     "text": [
      "100%|███████████████████████████████████████████████████████████████████████████████████| 1/1 [00:00<00:00, 250.71it/s]\n"
     ]
    },
    {
     "name": "stdout",
     "output_type": "stream",
     "text": [
      "영업이익\n"
     ]
    },
    {
     "name": "stderr",
     "output_type": "stream",
     "text": [
      "100%|███████████████████████████████████████████████████████████████████████████████████| 1/1 [00:00<00:00, 167.52it/s]\n"
     ]
    },
    {
     "name": "stdout",
     "output_type": "stream",
     "text": [
      "영업이익(발표기준)\n"
     ]
    },
    {
     "name": "stderr",
     "output_type": "stream",
     "text": [
      "100%|███████████████████████████████████████████████████████████████████████████████████| 1/1 [00:00<00:00, 250.54it/s]\n"
     ]
    },
    {
     "name": "stdout",
     "output_type": "stream",
     "text": [
      "금융수익\n"
     ]
    },
    {
     "name": "stderr",
     "output_type": "stream",
     "text": [
      "100%|███████████████████████████████████████████████████████████████████████████████████| 1/1 [00:00<00:00, 199.67it/s]\n"
     ]
    },
    {
     "name": "stdout",
     "output_type": "stream",
     "text": [
      "금융원가\n"
     ]
    },
    {
     "name": "stderr",
     "output_type": "stream",
     "text": [
      "100%|███████████████████████████████████████████████████████████████████████████████████| 1/1 [00:00<00:00, 143.27it/s]\n"
     ]
    },
    {
     "name": "stdout",
     "output_type": "stream",
     "text": [
      "기타수익\n"
     ]
    },
    {
     "name": "stderr",
     "output_type": "stream",
     "text": [
      "100%|███████████████████████████████████████████████████████████████████████████████████| 1/1 [00:00<00:00, 200.20it/s]\n"
     ]
    },
    {
     "name": "stdout",
     "output_type": "stream",
     "text": [
      "기타비용\n"
     ]
    },
    {
     "name": "stderr",
     "output_type": "stream",
     "text": [
      "100%|███████████████████████████████████████████████████████████████████████████████████| 1/1 [00:00<00:00, 199.43it/s]\n"
     ]
    },
    {
     "name": "stdout",
     "output_type": "stream",
     "text": [
      "종속기업,공동지배기업및관계기업관련손익\n"
     ]
    },
    {
     "name": "stderr",
     "output_type": "stream",
     "text": [
      "100%|███████████████████████████████████████████████████████████████████████████████████| 1/1 [00:00<00:00, 334.26it/s]\n"
     ]
    },
    {
     "name": "stdout",
     "output_type": "stream",
     "text": [
      "세전계속사업이익\n"
     ]
    },
    {
     "name": "stderr",
     "output_type": "stream",
     "text": [
      "100%|███████████████████████████████████████████████████████████████████████████████████| 1/1 [00:00<00:00, 199.52it/s]\n"
     ]
    },
    {
     "name": "stdout",
     "output_type": "stream",
     "text": [
      "법인세비용\n"
     ]
    },
    {
     "name": "stderr",
     "output_type": "stream",
     "text": [
      "100%|███████████████████████████████████████████████████████████████████████████████████| 1/1 [00:00<00:00, 200.75it/s]\n"
     ]
    },
    {
     "name": "stdout",
     "output_type": "stream",
     "text": [
      "계속영업이익\n"
     ]
    },
    {
     "name": "stderr",
     "output_type": "stream",
     "text": [
      "100%|███████████████████████████████████████████████████████████████████████████████████| 1/1 [00:00<00:00, 167.13it/s]\n"
     ]
    },
    {
     "name": "stdout",
     "output_type": "stream",
     "text": [
      "중단영업이익\n"
     ]
    },
    {
     "name": "stderr",
     "output_type": "stream",
     "text": [
      "100%|███████████████████████████████████████████████████████████████████████████████████| 1/1 [00:00<00:00, 334.26it/s]\n"
     ]
    },
    {
     "name": "stdout",
     "output_type": "stream",
     "text": [
      "당기순이익\n"
     ]
    },
    {
     "name": "stderr",
     "output_type": "stream",
     "text": [
      "100%|███████████████████████████████████████████████████████████████████████████████████| 1/1 [00:00<00:00, 167.72it/s]\n"
     ]
    },
    {
     "name": "stdout",
     "output_type": "stream",
     "text": [
      "지배주주순이익\n"
     ]
    },
    {
     "name": "stderr",
     "output_type": "stream",
     "text": [
      "100%|███████████████████████████████████████████████████████████████████████████████████| 1/1 [00:00<00:00, 200.56it/s]\n"
     ]
    },
    {
     "name": "stdout",
     "output_type": "stream",
     "text": [
      "비지배주주순이익\n"
     ]
    },
    {
     "name": "stderr",
     "output_type": "stream",
     "text": [
      "100%|███████████████████████████████████████████████████████████████████████████████████| 1/1 [00:00<00:00, 199.49it/s]\n"
     ]
    }
   ],
   "source": [
    "import time\n",
    "res = {}\n",
    "subject_list = data['005930']['지표'].tolist()\n",
    "\n",
    "std_df = pd.DataFrame(data['005930'].where(data['005930'].지표=='매출액').dropna().iloc[0]).reset_index(drop=False).drop(0)\n",
    "std_df.columns = ['period', '005930']\n",
    "\n",
    "for subject in subject_list:\n",
    "    print(subject)\n",
    "    time.sleep(1)\n",
    "    res[subject] = pd.DataFrame()\n",
    "    res[subject]['period'] = std_df['period']\n",
    "    for code in tqdm(list(data.keys())):\n",
    "        try:\n",
    "            curr_df = pd.DataFrame(data[code].where(data[code].지표==subject).dropna().iloc[0]).reset_index(drop=False).drop(0)\n",
    "            curr_df.columns = ['period', code]\n",
    "            res[subject] = pd.merge(res[subject], curr_df, on=['period'], how='outer').reset_index(drop=True)\n",
    "        except:\n",
    "            pass"
   ]
  },
  {
   "cell_type": "code",
   "execution_count": 7,
   "metadata": {},
   "outputs": [
    {
     "data": {
      "text/html": [
       "<div>\n",
       "<style scoped>\n",
       "    .dataframe tbody tr th:only-of-type {\n",
       "        vertical-align: middle;\n",
       "    }\n",
       "\n",
       "    .dataframe tbody tr th {\n",
       "        vertical-align: top;\n",
       "    }\n",
       "\n",
       "    .dataframe thead th {\n",
       "        text-align: right;\n",
       "    }\n",
       "</style>\n",
       "<table border=\"1\" class=\"dataframe\">\n",
       "  <thead>\n",
       "    <tr style=\"text-align: right;\">\n",
       "      <th></th>\n",
       "      <th>period</th>\n",
       "      <th>000020</th>\n",
       "    </tr>\n",
       "  </thead>\n",
       "  <tbody>\n",
       "    <tr>\n",
       "      <th>0</th>\n",
       "      <td>2018_12</td>\n",
       "      <td>3066.0</td>\n",
       "    </tr>\n",
       "    <tr>\n",
       "      <th>1</th>\n",
       "      <td>2019_12</td>\n",
       "      <td>3072.0</td>\n",
       "    </tr>\n",
       "    <tr>\n",
       "      <th>2</th>\n",
       "      <td>2020_12</td>\n",
       "      <td>2721.0</td>\n",
       "    </tr>\n",
       "    <tr>\n",
       "      <th>3</th>\n",
       "      <td>2021_03</td>\n",
       "      <td>718.0</td>\n",
       "    </tr>\n",
       "    <tr>\n",
       "      <th>4</th>\n",
       "      <td>전년동기</td>\n",
       "      <td>670.0</td>\n",
       "    </tr>\n",
       "    <tr>\n",
       "      <th>5</th>\n",
       "      <td>전년동기(%)</td>\n",
       "      <td>7.2</td>\n",
       "    </tr>\n",
       "  </tbody>\n",
       "</table>\n",
       "</div>"
      ],
      "text/plain": [
       "    period  000020\n",
       "0  2018_12  3066.0\n",
       "1  2019_12  3072.0\n",
       "2  2020_12  2721.0\n",
       "3  2021_03   718.0\n",
       "4     전년동기   670.0\n",
       "5  전년동기(%)     7.2"
      ]
     },
     "execution_count": 7,
     "metadata": {},
     "output_type": "execute_result"
    }
   ],
   "source": [
    "res['매출액']"
   ]
  },
  {
   "cell_type": "code",
   "execution_count": 46,
   "metadata": {},
   "outputs": [],
   "source": [
    "for subject in subject_list:\n",
    "    res[subject].iloc[:4].to_csv(f'C:/data/subject_{subject}.csv', index=False, encoding='cp949')"
   ]
  },
  {
   "cell_type": "code",
   "execution_count": 48,
   "metadata": {},
   "outputs": [
    {
     "ename": "NameError",
     "evalue": "name 'get_data' is not defined",
     "output_type": "error",
     "traceback": [
      "\u001b[1;31m---------------------------------------------------------------------------\u001b[0m",
      "\u001b[1;31mNameError\u001b[0m                                 Traceback (most recent call last)",
      "\u001b[1;32m<ipython-input-48-a053c3bfc808>\u001b[0m in \u001b[0;36m<module>\u001b[1;34m\u001b[0m\n\u001b[0;32m      3\u001b[0m \u001b[0mwhich\u001b[0m \u001b[1;33m=\u001b[0m \u001b[1;34m'subject'\u001b[0m\u001b[1;33m\u001b[0m\u001b[1;33m\u001b[0m\u001b[0m\n\u001b[0;32m      4\u001b[0m \u001b[0mwish_list\u001b[0m \u001b[1;33m=\u001b[0m \u001b[1;33m[\u001b[0m\u001b[1;34m'유동비율'\u001b[0m\u001b[1;33m]\u001b[0m\u001b[1;33m\u001b[0m\u001b[1;33m\u001b[0m\u001b[0m\n\u001b[1;32m----> 5\u001b[1;33m \u001b[0mdata\u001b[0m \u001b[1;33m=\u001b[0m \u001b[0mget_data\u001b[0m\u001b[1;33m(\u001b[0m\u001b[0mdata\u001b[0m\u001b[1;33m,\u001b[0m \u001b[0mwhich\u001b[0m\u001b[1;33m,\u001b[0m \u001b[0mwish_list\u001b[0m\u001b[1;33m)\u001b[0m\u001b[1;33m\u001b[0m\u001b[1;33m\u001b[0m\u001b[0m\n\u001b[0m",
      "\u001b[1;31mNameError\u001b[0m: name 'get_data' is not defined"
     ]
    }
   ],
   "source": [
    "from utils import *\n",
    "\n",
    "which = 'subject'\n",
    "wish_list = ['유동비율']\n",
    "data = get_data(data, which, wish_list)"
   ]
  },
  {
   "cell_type": "code",
   "execution_count": 49,
   "metadata": {},
   "outputs": [
    {
     "data": {
      "text/plain": [
       "['유동비율',\n",
       " '당좌비율',\n",
       " '부채비율',\n",
       " '유보율',\n",
       " '이자보상배율',\n",
       " '자기자본비율',\n",
       " '매출액증가율',\n",
       " '판매비와관리비증가율',\n",
       " '영업이익증가율',\n",
       " 'EBITDA증가율',\n",
       " 'EPS증가율',\n",
       " '매출총이익율',\n",
       " '세전계속사업이익률',\n",
       " '영업이익률',\n",
       " 'EBITDA마진율',\n",
       " 'ROA',\n",
       " 'ROE',\n",
       " 'ROIC',\n",
       " '총자산회전율',\n",
       " '총부채회전율',\n",
       " '총자본회전율']"
      ]
     },
     "execution_count": 49,
     "metadata": {},
     "output_type": "execute_result"
    }
   ],
   "source": [
    "subject_list"
   ]
  },
  {
   "cell_type": "code",
   "execution_count": null,
   "metadata": {},
   "outputs": [],
   "source": []
  }
 ],
 "metadata": {
  "kernelspec": {
   "display_name": "py37",
   "language": "python",
   "name": "py37"
  },
  "language_info": {
   "codemirror_mode": {
    "name": "ipython",
    "version": 3
   },
   "file_extension": ".py",
   "mimetype": "text/x-python",
   "name": "python",
   "nbconvert_exporter": "python",
   "pygments_lexer": "ipython3",
   "version": "3.7.9"
  }
 },
 "nbformat": 4,
 "nbformat_minor": 4
}
