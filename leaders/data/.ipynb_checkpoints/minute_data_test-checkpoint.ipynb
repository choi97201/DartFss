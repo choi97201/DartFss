{
 "cells": [
  {
   "cell_type": "code",
   "execution_count": 31,
   "metadata": {
    "scrolled": true
   },
   "outputs": [],
   "source": [
    "import datetime\n",
    "from tqdm import tqdm\n",
    "import time\n",
    "import os\n",
    "import pandas as pd\n",
    "\n",
    "data_path = 'C:/Users/choi97201/Desktop/cjw/data/minute_month'\n",
    "file_list = os.listdir(data_path)\n",
    "volume_file_list = [curr_file for curr_file in file_list if (\"volume\" in curr_file) and (not 'stack' in curr_file)] "
   ]
  },
  {
   "cell_type": "code",
   "execution_count": null,
   "metadata": {},
   "outputs": [
    {
     "name": "stdout",
     "output_type": "stream",
     "text": [
      "[2/26][minute_2019-05_volume.csv]\n"
     ]
    },
    {
     "name": "stderr",
     "output_type": "stream",
     "text": [
      "100%|█████████████████████████████████████████████████████████████████████████████| 2174/2174 [00:04<00:00, 529.59it/s]\n"
     ]
    },
    {
     "name": "stdout",
     "output_type": "stream",
     "text": [
      "[3/26][minute_2019-06_volume.csv]\n"
     ]
    },
    {
     "name": "stderr",
     "output_type": "stream",
     "text": [
      "100%|█████████████████████████████████████████████████████████████████████████████| 2174/2174 [00:03<00:00, 603.99it/s]\n"
     ]
    },
    {
     "name": "stdout",
     "output_type": "stream",
     "text": [
      "[4/26][minute_2019-07_volume.csv]\n"
     ]
    },
    {
     "name": "stderr",
     "output_type": "stream",
     "text": [
      "100%|█████████████████████████████████████████████████████████████████████████████| 2174/2174 [00:04<00:00, 515.08it/s]\n"
     ]
    },
    {
     "name": "stdout",
     "output_type": "stream",
     "text": [
      "[5/26][minute_2019-08_volume.csv]\n"
     ]
    },
    {
     "name": "stderr",
     "output_type": "stream",
     "text": [
      "100%|█████████████████████████████████████████████████████████████████████████████| 2174/2174 [00:03<00:00, 544.28it/s]\n"
     ]
    },
    {
     "name": "stdout",
     "output_type": "stream",
     "text": [
      "[6/26][minute_2019-09_volume.csv]\n"
     ]
    },
    {
     "name": "stderr",
     "output_type": "stream",
     "text": [
      " 17%|████████████▉                                                                 | 359/2174 [00:00<00:02, 834.77it/s]"
     ]
    }
   ],
   "source": [
    "cnt = 2\n",
    "for curr_volume_file in volume_file_list[2:]:\n",
    "    if '2019-03' in curr_volume_file:\n",
    "        cnt += 1\n",
    "        continue\n",
    "    print(f'[{cnt}/{len(volume_file_list)}][{curr_volume_file}]')\n",
    "    curr_volume_file_path = os.path.join(data_path, curr_volume_file)\n",
    "    curr_volume_df = pd.read_csv(curr_volume_file_path).sort_values('date').reset_index(drop=True)\n",
    "    curr_volume_df['date1'] = [curr_date.split(' ')[0] for curr_date in curr_volume_df['date'].tolist()]\n",
    "    curr_volume_df['date2'] = [curr_date.split(' ')[1] for curr_date in curr_volume_df['date'].tolist()]\n",
    "    curr_stack_volume_df = pd.DataFrame(curr_volume_df['date'])\n",
    "    for curr_code in tqdm(list(curr_volume_df.columns)[1:-2]):\n",
    "        curr_stack_volume_df[curr_code] = curr_volume_df.groupby('date1')[curr_code].cumsum()\n",
    "    curr_stack_volume_file_path = curr_volume_file_path.replace('volume', 'volumestack')\n",
    "    curr_stack_volume_df.to_csv(curr_stack_volume_file_path, index=False)\n",
    "    cnt += 1\n",
    "    "
   ]
  },
  {
   "cell_type": "code",
   "execution_count": 30,
   "metadata": {},
   "outputs": [
    {
     "data": {
      "text/plain": [
       "'C:/Users/choi97201/Desktop/cjw/data/minute_month\\\\minute_2019-03_volumestack.csv'"
      ]
     },
     "execution_count": 30,
     "metadata": {},
     "output_type": "execute_result"
    }
   ],
   "source": []
  },
  {
   "cell_type": "code",
   "execution_count": null,
   "metadata": {},
   "outputs": [],
   "source": []
  }
 ],
 "metadata": {
  "kernelspec": {
   "display_name": "py37",
   "language": "python",
   "name": "py37"
  },
  "language_info": {
   "codemirror_mode": {
    "name": "ipython",
    "version": 3
   },
   "file_extension": ".py",
   "mimetype": "text/x-python",
   "name": "python",
   "nbconvert_exporter": "python",
   "pygments_lexer": "ipython3",
   "version": "3.7.9"
  }
 },
 "nbformat": 4,
 "nbformat_minor": 4
}
